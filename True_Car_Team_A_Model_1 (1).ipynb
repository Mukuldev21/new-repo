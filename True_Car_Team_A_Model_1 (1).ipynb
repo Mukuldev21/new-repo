{
 "cells": [
  {
   "cell_type": "markdown",
   "id": "0fe4bc99",
   "metadata": {
    "id": "0fe4bc99"
   },
   "source": [
    "## True Car -  Exploratory Data Analysis + Feature Engineering"
   ]
  },
  {
   "cell_type": "markdown",
   "id": "fb82ffa9",
   "metadata": {
    "id": "fb82ffa9"
   },
   "source": [
    "### Technocolabs Internship Project April 2022"
   ]
  },
  {
   "cell_type": "markdown",
   "id": "00bf55ac",
   "metadata": {
    "id": "00bf55ac"
   },
   "source": [
    "**Task Details : Team Model Building**"
   ]
  },
  {
   "cell_type": "markdown",
   "id": "53496d38",
   "metadata": {
    "id": "53496d38"
   },
   "source": [
    "**Contributors : Team A**\n",
    "\n",
    "***"
   ]
  },
  {
   "cell_type": "code",
   "execution_count": 10,
   "id": "9fbc60f4",
   "metadata": {
    "id": "9fbc60f4"
   },
   "outputs": [],
   "source": [
    "import pandas as pd\n",
    "import numpy as np\n",
    "import seaborn as sns \n",
    "import matplotlib.pyplot as plt\n",
    "%matplotlib inline\n",
    "\n",
    "import warnings\n",
    "warnings.filterwarnings('ignore')"
   ]
  },
  {
   "cell_type": "markdown",
   "id": "0f65ae58",
   "metadata": {
    "id": "0f65ae58"
   },
   "source": [
    "### 1. Loading  Datasets"
   ]
  },
  {
   "cell_type": "code",
   "execution_count": 11,
   "id": "xMVZHKg2hA7b",
   "metadata": {
    "colab": {
     "base_uri": "https://localhost:8080/"
    },
    "id": "xMVZHKg2hA7b",
    "outputId": "46c58d89-b02f-4873-e10c-8f54c7113cae"
   },
   "outputs": [
    {
     "name": "stdout",
     "output_type": "stream",
     "text": [
      "Drive already mounted at /content/drive; to attempt to forcibly remount, call drive.mount(\"/content/drive\", force_remount=True).\n"
     ]
    }
   ],
   "source": [
    "from google.colab import drive\n",
    "drive.mount('/content/drive')"
   ]
  },
  {
   "cell_type": "code",
   "execution_count": 12,
   "id": "adbeabed",
   "metadata": {
    "id": "adbeabed"
   },
   "outputs": [],
   "source": [
    "df1 = pd.read_csv(\"/content/drive/MyDrive/Colab Notebooks/tc20171021.csv\", error_bad_lines=False, warn_bad_lines=False)\n",
    "df2 = pd.read_csv(\"/content/drive/MyDrive/Colab Notebooks/true_car_listings.csv\")"
   ]
  },
  {
   "cell_type": "code",
   "execution_count": 13,
   "id": "a298eb61",
   "metadata": {
    "colab": {
     "base_uri": "https://localhost:8080/",
     "height": 206
    },
    "id": "a298eb61",
    "outputId": "6f0cb5fd-fb98-442c-ca19-cad8be80e6af"
   },
   "outputs": [
    {
     "data": {
      "text/html": [
       "\n",
       "  <div id=\"df-0faf3b10-a67d-4cdd-9033-62c1130bd60c\">\n",
       "    <div class=\"colab-df-container\">\n",
       "      <div>\n",
       "<style scoped>\n",
       "    .dataframe tbody tr th:only-of-type {\n",
       "        vertical-align: middle;\n",
       "    }\n",
       "\n",
       "    .dataframe tbody tr th {\n",
       "        vertical-align: top;\n",
       "    }\n",
       "\n",
       "    .dataframe thead th {\n",
       "        text-align: right;\n",
       "    }\n",
       "</style>\n",
       "<table border=\"1\" class=\"dataframe\">\n",
       "  <thead>\n",
       "    <tr style=\"text-align: right;\">\n",
       "      <th></th>\n",
       "      <th>Id</th>\n",
       "      <th>Price</th>\n",
       "      <th>Year</th>\n",
       "      <th>Mileage</th>\n",
       "      <th>City</th>\n",
       "      <th>State</th>\n",
       "      <th>Vin</th>\n",
       "      <th>Make</th>\n",
       "      <th>Model</th>\n",
       "    </tr>\n",
       "  </thead>\n",
       "  <tbody>\n",
       "    <tr>\n",
       "      <th>0</th>\n",
       "      <td>1</td>\n",
       "      <td>16472</td>\n",
       "      <td>2015</td>\n",
       "      <td>18681</td>\n",
       "      <td>Jefferson City</td>\n",
       "      <td>MO</td>\n",
       "      <td>KL4CJBSBXFB267643</td>\n",
       "      <td>Buick</td>\n",
       "      <td>EncoreConvenience</td>\n",
       "    </tr>\n",
       "    <tr>\n",
       "      <th>1</th>\n",
       "      <td>2</td>\n",
       "      <td>15749</td>\n",
       "      <td>2015</td>\n",
       "      <td>27592</td>\n",
       "      <td>Highland</td>\n",
       "      <td>IN</td>\n",
       "      <td>KL4CJASB5FB245057</td>\n",
       "      <td>Buick</td>\n",
       "      <td>EncoreFWD</td>\n",
       "    </tr>\n",
       "    <tr>\n",
       "      <th>2</th>\n",
       "      <td>3</td>\n",
       "      <td>16998</td>\n",
       "      <td>2015</td>\n",
       "      <td>13650</td>\n",
       "      <td>Boone</td>\n",
       "      <td>NC</td>\n",
       "      <td>KL4CJCSB0FB264921</td>\n",
       "      <td>Buick</td>\n",
       "      <td>EncoreLeather</td>\n",
       "    </tr>\n",
       "    <tr>\n",
       "      <th>3</th>\n",
       "      <td>4</td>\n",
       "      <td>15777</td>\n",
       "      <td>2015</td>\n",
       "      <td>25195</td>\n",
       "      <td>New Orleans</td>\n",
       "      <td>LA</td>\n",
       "      <td>KL4CJASB4FB217542</td>\n",
       "      <td>Buick</td>\n",
       "      <td>EncoreFWD</td>\n",
       "    </tr>\n",
       "    <tr>\n",
       "      <th>4</th>\n",
       "      <td>5</td>\n",
       "      <td>16784</td>\n",
       "      <td>2015</td>\n",
       "      <td>22800</td>\n",
       "      <td>Las Vegas</td>\n",
       "      <td>NV</td>\n",
       "      <td>KL4CJBSB3FB166881</td>\n",
       "      <td>Buick</td>\n",
       "      <td>EncoreConvenience</td>\n",
       "    </tr>\n",
       "  </tbody>\n",
       "</table>\n",
       "</div>\n",
       "      <button class=\"colab-df-convert\" onclick=\"convertToInteractive('df-0faf3b10-a67d-4cdd-9033-62c1130bd60c')\"\n",
       "              title=\"Convert this dataframe to an interactive table.\"\n",
       "              style=\"display:none;\">\n",
       "        \n",
       "  <svg xmlns=\"http://www.w3.org/2000/svg\" height=\"24px\"viewBox=\"0 0 24 24\"\n",
       "       width=\"24px\">\n",
       "    <path d=\"M0 0h24v24H0V0z\" fill=\"none\"/>\n",
       "    <path d=\"M18.56 5.44l.94 2.06.94-2.06 2.06-.94-2.06-.94-.94-2.06-.94 2.06-2.06.94zm-11 1L8.5 8.5l.94-2.06 2.06-.94-2.06-.94L8.5 2.5l-.94 2.06-2.06.94zm10 10l.94 2.06.94-2.06 2.06-.94-2.06-.94-.94-2.06-.94 2.06-2.06.94z\"/><path d=\"M17.41 7.96l-1.37-1.37c-.4-.4-.92-.59-1.43-.59-.52 0-1.04.2-1.43.59L10.3 9.45l-7.72 7.72c-.78.78-.78 2.05 0 2.83L4 21.41c.39.39.9.59 1.41.59.51 0 1.02-.2 1.41-.59l7.78-7.78 2.81-2.81c.8-.78.8-2.07 0-2.86zM5.41 20L4 18.59l7.72-7.72 1.47 1.35L5.41 20z\"/>\n",
       "  </svg>\n",
       "      </button>\n",
       "      \n",
       "  <style>\n",
       "    .colab-df-container {\n",
       "      display:flex;\n",
       "      flex-wrap:wrap;\n",
       "      gap: 12px;\n",
       "    }\n",
       "\n",
       "    .colab-df-convert {\n",
       "      background-color: #E8F0FE;\n",
       "      border: none;\n",
       "      border-radius: 50%;\n",
       "      cursor: pointer;\n",
       "      display: none;\n",
       "      fill: #1967D2;\n",
       "      height: 32px;\n",
       "      padding: 0 0 0 0;\n",
       "      width: 32px;\n",
       "    }\n",
       "\n",
       "    .colab-df-convert:hover {\n",
       "      background-color: #E2EBFA;\n",
       "      box-shadow: 0px 1px 2px rgba(60, 64, 67, 0.3), 0px 1px 3px 1px rgba(60, 64, 67, 0.15);\n",
       "      fill: #174EA6;\n",
       "    }\n",
       "\n",
       "    [theme=dark] .colab-df-convert {\n",
       "      background-color: #3B4455;\n",
       "      fill: #D2E3FC;\n",
       "    }\n",
       "\n",
       "    [theme=dark] .colab-df-convert:hover {\n",
       "      background-color: #434B5C;\n",
       "      box-shadow: 0px 1px 3px 1px rgba(0, 0, 0, 0.15);\n",
       "      filter: drop-shadow(0px 1px 2px rgba(0, 0, 0, 0.3));\n",
       "      fill: #FFFFFF;\n",
       "    }\n",
       "  </style>\n",
       "\n",
       "      <script>\n",
       "        const buttonEl =\n",
       "          document.querySelector('#df-0faf3b10-a67d-4cdd-9033-62c1130bd60c button.colab-df-convert');\n",
       "        buttonEl.style.display =\n",
       "          google.colab.kernel.accessAllowed ? 'block' : 'none';\n",
       "\n",
       "        async function convertToInteractive(key) {\n",
       "          const element = document.querySelector('#df-0faf3b10-a67d-4cdd-9033-62c1130bd60c');\n",
       "          const dataTable =\n",
       "            await google.colab.kernel.invokeFunction('convertToInteractive',\n",
       "                                                     [key], {});\n",
       "          if (!dataTable) return;\n",
       "\n",
       "          const docLinkHtml = 'Like what you see? Visit the ' +\n",
       "            '<a target=\"_blank\" href=https://colab.research.google.com/notebooks/data_table.ipynb>data table notebook</a>'\n",
       "            + ' to learn more about interactive tables.';\n",
       "          element.innerHTML = '';\n",
       "          dataTable['output_type'] = 'display_data';\n",
       "          await google.colab.output.renderOutput(dataTable, element);\n",
       "          const docLink = document.createElement('div');\n",
       "          docLink.innerHTML = docLinkHtml;\n",
       "          element.appendChild(docLink);\n",
       "        }\n",
       "      </script>\n",
       "    </div>\n",
       "  </div>\n",
       "  "
      ],
      "text/plain": [
       "   Id  Price  Year  Mileage            City State                Vin   Make  \\\n",
       "0   1  16472  2015    18681  Jefferson City    MO  KL4CJBSBXFB267643  Buick   \n",
       "1   2  15749  2015    27592        Highland    IN  KL4CJASB5FB245057  Buick   \n",
       "2   3  16998  2015    13650           Boone    NC  KL4CJCSB0FB264921  Buick   \n",
       "3   4  15777  2015    25195     New Orleans    LA  KL4CJASB4FB217542  Buick   \n",
       "4   5  16784  2015    22800       Las Vegas    NV  KL4CJBSB3FB166881  Buick   \n",
       "\n",
       "               Model  \n",
       "0  EncoreConvenience  \n",
       "1          EncoreFWD  \n",
       "2      EncoreLeather  \n",
       "3          EncoreFWD  \n",
       "4  EncoreConvenience  "
      ]
     },
     "execution_count": 13,
     "metadata": {},
     "output_type": "execute_result"
    }
   ],
   "source": [
    "df1.head()"
   ]
  },
  {
   "cell_type": "code",
   "execution_count": 14,
   "id": "cf7fd5f2",
   "metadata": {
    "colab": {
     "base_uri": "https://localhost:8080/",
     "height": 206
    },
    "id": "cf7fd5f2",
    "outputId": "91f3c4af-88f1-4baa-f0f6-3146d2ed5c9a"
   },
   "outputs": [
    {
     "data": {
      "text/html": [
       "\n",
       "  <div id=\"df-c6fb641f-d7e1-489e-8a18-c361ceddf024\">\n",
       "    <div class=\"colab-df-container\">\n",
       "      <div>\n",
       "<style scoped>\n",
       "    .dataframe tbody tr th:only-of-type {\n",
       "        vertical-align: middle;\n",
       "    }\n",
       "\n",
       "    .dataframe tbody tr th {\n",
       "        vertical-align: top;\n",
       "    }\n",
       "\n",
       "    .dataframe thead th {\n",
       "        text-align: right;\n",
       "    }\n",
       "</style>\n",
       "<table border=\"1\" class=\"dataframe\">\n",
       "  <thead>\n",
       "    <tr style=\"text-align: right;\">\n",
       "      <th></th>\n",
       "      <th>Price</th>\n",
       "      <th>Year</th>\n",
       "      <th>Mileage</th>\n",
       "      <th>City</th>\n",
       "      <th>State</th>\n",
       "      <th>Vin</th>\n",
       "      <th>Make</th>\n",
       "      <th>Model</th>\n",
       "    </tr>\n",
       "  </thead>\n",
       "  <tbody>\n",
       "    <tr>\n",
       "      <th>0</th>\n",
       "      <td>8995</td>\n",
       "      <td>2014</td>\n",
       "      <td>35725</td>\n",
       "      <td>El Paso</td>\n",
       "      <td>TX</td>\n",
       "      <td>19VDE2E53EE000083</td>\n",
       "      <td>Acura</td>\n",
       "      <td>ILX6-Speed</td>\n",
       "    </tr>\n",
       "    <tr>\n",
       "      <th>1</th>\n",
       "      <td>10888</td>\n",
       "      <td>2013</td>\n",
       "      <td>19606</td>\n",
       "      <td>Long Island City</td>\n",
       "      <td>NY</td>\n",
       "      <td>19VDE1F52DE012636</td>\n",
       "      <td>Acura</td>\n",
       "      <td>ILX5-Speed</td>\n",
       "    </tr>\n",
       "    <tr>\n",
       "      <th>2</th>\n",
       "      <td>8995</td>\n",
       "      <td>2013</td>\n",
       "      <td>48851</td>\n",
       "      <td>El Paso</td>\n",
       "      <td>TX</td>\n",
       "      <td>19VDE2E52DE000025</td>\n",
       "      <td>Acura</td>\n",
       "      <td>ILX6-Speed</td>\n",
       "    </tr>\n",
       "    <tr>\n",
       "      <th>3</th>\n",
       "      <td>10999</td>\n",
       "      <td>2014</td>\n",
       "      <td>39922</td>\n",
       "      <td>Windsor</td>\n",
       "      <td>CO</td>\n",
       "      <td>19VDE1F71EE003817</td>\n",
       "      <td>Acura</td>\n",
       "      <td>ILX5-Speed</td>\n",
       "    </tr>\n",
       "    <tr>\n",
       "      <th>4</th>\n",
       "      <td>14799</td>\n",
       "      <td>2016</td>\n",
       "      <td>22142</td>\n",
       "      <td>Lindon</td>\n",
       "      <td>UT</td>\n",
       "      <td>19UDE2F32GA001284</td>\n",
       "      <td>Acura</td>\n",
       "      <td>ILXAutomatic</td>\n",
       "    </tr>\n",
       "  </tbody>\n",
       "</table>\n",
       "</div>\n",
       "      <button class=\"colab-df-convert\" onclick=\"convertToInteractive('df-c6fb641f-d7e1-489e-8a18-c361ceddf024')\"\n",
       "              title=\"Convert this dataframe to an interactive table.\"\n",
       "              style=\"display:none;\">\n",
       "        \n",
       "  <svg xmlns=\"http://www.w3.org/2000/svg\" height=\"24px\"viewBox=\"0 0 24 24\"\n",
       "       width=\"24px\">\n",
       "    <path d=\"M0 0h24v24H0V0z\" fill=\"none\"/>\n",
       "    <path d=\"M18.56 5.44l.94 2.06.94-2.06 2.06-.94-2.06-.94-.94-2.06-.94 2.06-2.06.94zm-11 1L8.5 8.5l.94-2.06 2.06-.94-2.06-.94L8.5 2.5l-.94 2.06-2.06.94zm10 10l.94 2.06.94-2.06 2.06-.94-2.06-.94-.94-2.06-.94 2.06-2.06.94z\"/><path d=\"M17.41 7.96l-1.37-1.37c-.4-.4-.92-.59-1.43-.59-.52 0-1.04.2-1.43.59L10.3 9.45l-7.72 7.72c-.78.78-.78 2.05 0 2.83L4 21.41c.39.39.9.59 1.41.59.51 0 1.02-.2 1.41-.59l7.78-7.78 2.81-2.81c.8-.78.8-2.07 0-2.86zM5.41 20L4 18.59l7.72-7.72 1.47 1.35L5.41 20z\"/>\n",
       "  </svg>\n",
       "      </button>\n",
       "      \n",
       "  <style>\n",
       "    .colab-df-container {\n",
       "      display:flex;\n",
       "      flex-wrap:wrap;\n",
       "      gap: 12px;\n",
       "    }\n",
       "\n",
       "    .colab-df-convert {\n",
       "      background-color: #E8F0FE;\n",
       "      border: none;\n",
       "      border-radius: 50%;\n",
       "      cursor: pointer;\n",
       "      display: none;\n",
       "      fill: #1967D2;\n",
       "      height: 32px;\n",
       "      padding: 0 0 0 0;\n",
       "      width: 32px;\n",
       "    }\n",
       "\n",
       "    .colab-df-convert:hover {\n",
       "      background-color: #E2EBFA;\n",
       "      box-shadow: 0px 1px 2px rgba(60, 64, 67, 0.3), 0px 1px 3px 1px rgba(60, 64, 67, 0.15);\n",
       "      fill: #174EA6;\n",
       "    }\n",
       "\n",
       "    [theme=dark] .colab-df-convert {\n",
       "      background-color: #3B4455;\n",
       "      fill: #D2E3FC;\n",
       "    }\n",
       "\n",
       "    [theme=dark] .colab-df-convert:hover {\n",
       "      background-color: #434B5C;\n",
       "      box-shadow: 0px 1px 3px 1px rgba(0, 0, 0, 0.15);\n",
       "      filter: drop-shadow(0px 1px 2px rgba(0, 0, 0, 0.3));\n",
       "      fill: #FFFFFF;\n",
       "    }\n",
       "  </style>\n",
       "\n",
       "      <script>\n",
       "        const buttonEl =\n",
       "          document.querySelector('#df-c6fb641f-d7e1-489e-8a18-c361ceddf024 button.colab-df-convert');\n",
       "        buttonEl.style.display =\n",
       "          google.colab.kernel.accessAllowed ? 'block' : 'none';\n",
       "\n",
       "        async function convertToInteractive(key) {\n",
       "          const element = document.querySelector('#df-c6fb641f-d7e1-489e-8a18-c361ceddf024');\n",
       "          const dataTable =\n",
       "            await google.colab.kernel.invokeFunction('convertToInteractive',\n",
       "                                                     [key], {});\n",
       "          if (!dataTable) return;\n",
       "\n",
       "          const docLinkHtml = 'Like what you see? Visit the ' +\n",
       "            '<a target=\"_blank\" href=https://colab.research.google.com/notebooks/data_table.ipynb>data table notebook</a>'\n",
       "            + ' to learn more about interactive tables.';\n",
       "          element.innerHTML = '';\n",
       "          dataTable['output_type'] = 'display_data';\n",
       "          await google.colab.output.renderOutput(dataTable, element);\n",
       "          const docLink = document.createElement('div');\n",
       "          docLink.innerHTML = docLinkHtml;\n",
       "          element.appendChild(docLink);\n",
       "        }\n",
       "      </script>\n",
       "    </div>\n",
       "  </div>\n",
       "  "
      ],
      "text/plain": [
       "   Price  Year  Mileage              City State                Vin   Make  \\\n",
       "0   8995  2014    35725           El Paso    TX  19VDE2E53EE000083  Acura   \n",
       "1  10888  2013    19606  Long Island City    NY  19VDE1F52DE012636  Acura   \n",
       "2   8995  2013    48851           El Paso    TX  19VDE2E52DE000025  Acura   \n",
       "3  10999  2014    39922           Windsor    CO  19VDE1F71EE003817  Acura   \n",
       "4  14799  2016    22142            Lindon    UT  19UDE2F32GA001284  Acura   \n",
       "\n",
       "          Model  \n",
       "0    ILX6-Speed  \n",
       "1    ILX5-Speed  \n",
       "2    ILX6-Speed  \n",
       "3    ILX5-Speed  \n",
       "4  ILXAutomatic  "
      ]
     },
     "execution_count": 14,
     "metadata": {},
     "output_type": "execute_result"
    }
   ],
   "source": [
    "df2.head()"
   ]
  },
  {
   "cell_type": "markdown",
   "id": "4fcc6d0b",
   "metadata": {
    "id": "4fcc6d0b"
   },
   "source": [
    "### 2, Understanding the data"
   ]
  },
  {
   "cell_type": "code",
   "execution_count": 15,
   "id": "19fe964b",
   "metadata": {
    "colab": {
     "base_uri": "https://localhost:8080/"
    },
    "id": "19fe964b",
    "outputId": "1eb1c62d-0903-4464-a7ea-5ec324bff6eb"
   },
   "outputs": [
    {
     "name": "stdout",
     "output_type": "stream",
     "text": [
      "<class 'pandas.core.frame.DataFrame'>\n",
      "RangeIndex: 1216250 entries, 0 to 1216249\n",
      "Data columns (total 9 columns):\n",
      " #   Column   Non-Null Count    Dtype \n",
      "---  ------   --------------    ----- \n",
      " 0   Id       1216250 non-null  int64 \n",
      " 1   Price    1216250 non-null  int64 \n",
      " 2   Year     1216250 non-null  int64 \n",
      " 3   Mileage  1216250 non-null  int64 \n",
      " 4   City     1216250 non-null  object\n",
      " 5   State    1216250 non-null  object\n",
      " 6   Vin      1216250 non-null  object\n",
      " 7   Make     1216250 non-null  object\n",
      " 8   Model    1216250 non-null  object\n",
      "dtypes: int64(4), object(5)\n",
      "memory usage: 83.5+ MB\n"
     ]
    }
   ],
   "source": [
    "df1.info()"
   ]
  },
  {
   "cell_type": "code",
   "execution_count": 16,
   "id": "ff6a94bb",
   "metadata": {
    "colab": {
     "base_uri": "https://localhost:8080/",
     "height": 300
    },
    "id": "ff6a94bb",
    "outputId": "4bc6f95a-cd59-4d42-bb04-1b83f5fb8c83"
   },
   "outputs": [
    {
     "data": {
      "text/html": [
       "\n",
       "  <div id=\"df-c5bd9da4-17b7-4cad-8f3a-1b772d249cb8\">\n",
       "    <div class=\"colab-df-container\">\n",
       "      <div>\n",
       "<style scoped>\n",
       "    .dataframe tbody tr th:only-of-type {\n",
       "        vertical-align: middle;\n",
       "    }\n",
       "\n",
       "    .dataframe tbody tr th {\n",
       "        vertical-align: top;\n",
       "    }\n",
       "\n",
       "    .dataframe thead th {\n",
       "        text-align: right;\n",
       "    }\n",
       "</style>\n",
       "<table border=\"1\" class=\"dataframe\">\n",
       "  <thead>\n",
       "    <tr style=\"text-align: right;\">\n",
       "      <th></th>\n",
       "      <th>Id</th>\n",
       "      <th>Price</th>\n",
       "      <th>Year</th>\n",
       "      <th>Mileage</th>\n",
       "    </tr>\n",
       "  </thead>\n",
       "  <tbody>\n",
       "    <tr>\n",
       "      <th>count</th>\n",
       "      <td>1.216250e+06</td>\n",
       "      <td>1.216250e+06</td>\n",
       "      <td>1.216250e+06</td>\n",
       "      <td>1.216250e+06</td>\n",
       "    </tr>\n",
       "    <tr>\n",
       "      <th>mean</th>\n",
       "      <td>6.132814e+05</td>\n",
       "      <td>2.096887e+04</td>\n",
       "      <td>2.013307e+03</td>\n",
       "      <td>5.290810e+04</td>\n",
       "    </tr>\n",
       "    <tr>\n",
       "      <th>std</th>\n",
       "      <td>3.546571e+05</td>\n",
       "      <td>1.315940e+04</td>\n",
       "      <td>3.441842e+00</td>\n",
       "      <td>8.192775e+04</td>\n",
       "    </tr>\n",
       "    <tr>\n",
       "      <th>min</th>\n",
       "      <td>1.000000e+00</td>\n",
       "      <td>1.500000e+03</td>\n",
       "      <td>1.997000e+03</td>\n",
       "      <td>5.000000e+00</td>\n",
       "    </tr>\n",
       "    <tr>\n",
       "      <th>25%</th>\n",
       "      <td>3.081122e+05</td>\n",
       "      <td>1.299400e+04</td>\n",
       "      <td>2.012000e+03</td>\n",
       "      <td>2.396200e+04</td>\n",
       "    </tr>\n",
       "    <tr>\n",
       "      <th>50%</th>\n",
       "      <td>6.134915e+05</td>\n",
       "      <td>1.799500e+04</td>\n",
       "      <td>2.014000e+03</td>\n",
       "      <td>4.053400e+04</td>\n",
       "    </tr>\n",
       "    <tr>\n",
       "      <th>75%</th>\n",
       "      <td>9.175538e+05</td>\n",
       "      <td>2.641400e+04</td>\n",
       "      <td>2.016000e+03</td>\n",
       "      <td>7.272500e+04</td>\n",
       "    </tr>\n",
       "    <tr>\n",
       "      <th>max</th>\n",
       "      <td>1.233042e+06</td>\n",
       "      <td>4.995000e+05</td>\n",
       "      <td>2.018000e+03</td>\n",
       "      <td>7.758776e+07</td>\n",
       "    </tr>\n",
       "  </tbody>\n",
       "</table>\n",
       "</div>\n",
       "      <button class=\"colab-df-convert\" onclick=\"convertToInteractive('df-c5bd9da4-17b7-4cad-8f3a-1b772d249cb8')\"\n",
       "              title=\"Convert this dataframe to an interactive table.\"\n",
       "              style=\"display:none;\">\n",
       "        \n",
       "  <svg xmlns=\"http://www.w3.org/2000/svg\" height=\"24px\"viewBox=\"0 0 24 24\"\n",
       "       width=\"24px\">\n",
       "    <path d=\"M0 0h24v24H0V0z\" fill=\"none\"/>\n",
       "    <path d=\"M18.56 5.44l.94 2.06.94-2.06 2.06-.94-2.06-.94-.94-2.06-.94 2.06-2.06.94zm-11 1L8.5 8.5l.94-2.06 2.06-.94-2.06-.94L8.5 2.5l-.94 2.06-2.06.94zm10 10l.94 2.06.94-2.06 2.06-.94-2.06-.94-.94-2.06-.94 2.06-2.06.94z\"/><path d=\"M17.41 7.96l-1.37-1.37c-.4-.4-.92-.59-1.43-.59-.52 0-1.04.2-1.43.59L10.3 9.45l-7.72 7.72c-.78.78-.78 2.05 0 2.83L4 21.41c.39.39.9.59 1.41.59.51 0 1.02-.2 1.41-.59l7.78-7.78 2.81-2.81c.8-.78.8-2.07 0-2.86zM5.41 20L4 18.59l7.72-7.72 1.47 1.35L5.41 20z\"/>\n",
       "  </svg>\n",
       "      </button>\n",
       "      \n",
       "  <style>\n",
       "    .colab-df-container {\n",
       "      display:flex;\n",
       "      flex-wrap:wrap;\n",
       "      gap: 12px;\n",
       "    }\n",
       "\n",
       "    .colab-df-convert {\n",
       "      background-color: #E8F0FE;\n",
       "      border: none;\n",
       "      border-radius: 50%;\n",
       "      cursor: pointer;\n",
       "      display: none;\n",
       "      fill: #1967D2;\n",
       "      height: 32px;\n",
       "      padding: 0 0 0 0;\n",
       "      width: 32px;\n",
       "    }\n",
       "\n",
       "    .colab-df-convert:hover {\n",
       "      background-color: #E2EBFA;\n",
       "      box-shadow: 0px 1px 2px rgba(60, 64, 67, 0.3), 0px 1px 3px 1px rgba(60, 64, 67, 0.15);\n",
       "      fill: #174EA6;\n",
       "    }\n",
       "\n",
       "    [theme=dark] .colab-df-convert {\n",
       "      background-color: #3B4455;\n",
       "      fill: #D2E3FC;\n",
       "    }\n",
       "\n",
       "    [theme=dark] .colab-df-convert:hover {\n",
       "      background-color: #434B5C;\n",
       "      box-shadow: 0px 1px 3px 1px rgba(0, 0, 0, 0.15);\n",
       "      filter: drop-shadow(0px 1px 2px rgba(0, 0, 0, 0.3));\n",
       "      fill: #FFFFFF;\n",
       "    }\n",
       "  </style>\n",
       "\n",
       "      <script>\n",
       "        const buttonEl =\n",
       "          document.querySelector('#df-c5bd9da4-17b7-4cad-8f3a-1b772d249cb8 button.colab-df-convert');\n",
       "        buttonEl.style.display =\n",
       "          google.colab.kernel.accessAllowed ? 'block' : 'none';\n",
       "\n",
       "        async function convertToInteractive(key) {\n",
       "          const element = document.querySelector('#df-c5bd9da4-17b7-4cad-8f3a-1b772d249cb8');\n",
       "          const dataTable =\n",
       "            await google.colab.kernel.invokeFunction('convertToInteractive',\n",
       "                                                     [key], {});\n",
       "          if (!dataTable) return;\n",
       "\n",
       "          const docLinkHtml = 'Like what you see? Visit the ' +\n",
       "            '<a target=\"_blank\" href=https://colab.research.google.com/notebooks/data_table.ipynb>data table notebook</a>'\n",
       "            + ' to learn more about interactive tables.';\n",
       "          element.innerHTML = '';\n",
       "          dataTable['output_type'] = 'display_data';\n",
       "          await google.colab.output.renderOutput(dataTable, element);\n",
       "          const docLink = document.createElement('div');\n",
       "          docLink.innerHTML = docLinkHtml;\n",
       "          element.appendChild(docLink);\n",
       "        }\n",
       "      </script>\n",
       "    </div>\n",
       "  </div>\n",
       "  "
      ],
      "text/plain": [
       "                 Id         Price          Year       Mileage\n",
       "count  1.216250e+06  1.216250e+06  1.216250e+06  1.216250e+06\n",
       "mean   6.132814e+05  2.096887e+04  2.013307e+03  5.290810e+04\n",
       "std    3.546571e+05  1.315940e+04  3.441842e+00  8.192775e+04\n",
       "min    1.000000e+00  1.500000e+03  1.997000e+03  5.000000e+00\n",
       "25%    3.081122e+05  1.299400e+04  2.012000e+03  2.396200e+04\n",
       "50%    6.134915e+05  1.799500e+04  2.014000e+03  4.053400e+04\n",
       "75%    9.175538e+05  2.641400e+04  2.016000e+03  7.272500e+04\n",
       "max    1.233042e+06  4.995000e+05  2.018000e+03  7.758776e+07"
      ]
     },
     "execution_count": 16,
     "metadata": {},
     "output_type": "execute_result"
    }
   ],
   "source": [
    "df1.describe()"
   ]
  },
  {
   "cell_type": "code",
   "execution_count": 17,
   "id": "08a106c1",
   "metadata": {
    "colab": {
     "base_uri": "https://localhost:8080/"
    },
    "id": "08a106c1",
    "outputId": "fce12e9e-96d9-48b5-bb13-5199714068a9"
   },
   "outputs": [
    {
     "name": "stdout",
     "output_type": "stream",
     "text": [
      "<class 'pandas.core.frame.DataFrame'>\n",
      "RangeIndex: 852122 entries, 0 to 852121\n",
      "Data columns (total 8 columns):\n",
      " #   Column   Non-Null Count   Dtype \n",
      "---  ------   --------------   ----- \n",
      " 0   Price    852122 non-null  int64 \n",
      " 1   Year     852122 non-null  int64 \n",
      " 2   Mileage  852122 non-null  int64 \n",
      " 3   City     852122 non-null  object\n",
      " 4   State    852122 non-null  object\n",
      " 5   Vin      852122 non-null  object\n",
      " 6   Make     852122 non-null  object\n",
      " 7   Model    852122 non-null  object\n",
      "dtypes: int64(3), object(5)\n",
      "memory usage: 52.0+ MB\n"
     ]
    }
   ],
   "source": [
    "df2.info()"
   ]
  },
  {
   "cell_type": "code",
   "execution_count": 18,
   "id": "858a531d",
   "metadata": {
    "colab": {
     "base_uri": "https://localhost:8080/",
     "height": 300
    },
    "id": "858a531d",
    "outputId": "580eedb8-d698-429b-f13c-41b8e1aa5fae"
   },
   "outputs": [
    {
     "data": {
      "text/html": [
       "\n",
       "  <div id=\"df-34622fd5-ceda-4037-8a69-8c8e858f5581\">\n",
       "    <div class=\"colab-df-container\">\n",
       "      <div>\n",
       "<style scoped>\n",
       "    .dataframe tbody tr th:only-of-type {\n",
       "        vertical-align: middle;\n",
       "    }\n",
       "\n",
       "    .dataframe tbody tr th {\n",
       "        vertical-align: top;\n",
       "    }\n",
       "\n",
       "    .dataframe thead th {\n",
       "        text-align: right;\n",
       "    }\n",
       "</style>\n",
       "<table border=\"1\" class=\"dataframe\">\n",
       "  <thead>\n",
       "    <tr style=\"text-align: right;\">\n",
       "      <th></th>\n",
       "      <th>Price</th>\n",
       "      <th>Year</th>\n",
       "      <th>Mileage</th>\n",
       "    </tr>\n",
       "  </thead>\n",
       "  <tbody>\n",
       "    <tr>\n",
       "      <th>count</th>\n",
       "      <td>852122.000000</td>\n",
       "      <td>852122.000000</td>\n",
       "      <td>8.521220e+05</td>\n",
       "    </tr>\n",
       "    <tr>\n",
       "      <th>mean</th>\n",
       "      <td>21464.100210</td>\n",
       "      <td>2013.289145</td>\n",
       "      <td>5.250779e+04</td>\n",
       "    </tr>\n",
       "    <tr>\n",
       "      <th>std</th>\n",
       "      <td>13596.202241</td>\n",
       "      <td>3.414987</td>\n",
       "      <td>4.198896e+04</td>\n",
       "    </tr>\n",
       "    <tr>\n",
       "      <th>min</th>\n",
       "      <td>1500.000000</td>\n",
       "      <td>1997.000000</td>\n",
       "      <td>5.000000e+00</td>\n",
       "    </tr>\n",
       "    <tr>\n",
       "      <th>25%</th>\n",
       "      <td>13000.000000</td>\n",
       "      <td>2012.000000</td>\n",
       "      <td>2.383600e+04</td>\n",
       "    </tr>\n",
       "    <tr>\n",
       "      <th>50%</th>\n",
       "      <td>18500.000000</td>\n",
       "      <td>2014.000000</td>\n",
       "      <td>4.025600e+04</td>\n",
       "    </tr>\n",
       "    <tr>\n",
       "      <th>75%</th>\n",
       "      <td>26995.000000</td>\n",
       "      <td>2016.000000</td>\n",
       "      <td>7.218600e+04</td>\n",
       "    </tr>\n",
       "    <tr>\n",
       "      <th>max</th>\n",
       "      <td>499500.000000</td>\n",
       "      <td>2018.000000</td>\n",
       "      <td>2.856196e+06</td>\n",
       "    </tr>\n",
       "  </tbody>\n",
       "</table>\n",
       "</div>\n",
       "      <button class=\"colab-df-convert\" onclick=\"convertToInteractive('df-34622fd5-ceda-4037-8a69-8c8e858f5581')\"\n",
       "              title=\"Convert this dataframe to an interactive table.\"\n",
       "              style=\"display:none;\">\n",
       "        \n",
       "  <svg xmlns=\"http://www.w3.org/2000/svg\" height=\"24px\"viewBox=\"0 0 24 24\"\n",
       "       width=\"24px\">\n",
       "    <path d=\"M0 0h24v24H0V0z\" fill=\"none\"/>\n",
       "    <path d=\"M18.56 5.44l.94 2.06.94-2.06 2.06-.94-2.06-.94-.94-2.06-.94 2.06-2.06.94zm-11 1L8.5 8.5l.94-2.06 2.06-.94-2.06-.94L8.5 2.5l-.94 2.06-2.06.94zm10 10l.94 2.06.94-2.06 2.06-.94-2.06-.94-.94-2.06-.94 2.06-2.06.94z\"/><path d=\"M17.41 7.96l-1.37-1.37c-.4-.4-.92-.59-1.43-.59-.52 0-1.04.2-1.43.59L10.3 9.45l-7.72 7.72c-.78.78-.78 2.05 0 2.83L4 21.41c.39.39.9.59 1.41.59.51 0 1.02-.2 1.41-.59l7.78-7.78 2.81-2.81c.8-.78.8-2.07 0-2.86zM5.41 20L4 18.59l7.72-7.72 1.47 1.35L5.41 20z\"/>\n",
       "  </svg>\n",
       "      </button>\n",
       "      \n",
       "  <style>\n",
       "    .colab-df-container {\n",
       "      display:flex;\n",
       "      flex-wrap:wrap;\n",
       "      gap: 12px;\n",
       "    }\n",
       "\n",
       "    .colab-df-convert {\n",
       "      background-color: #E8F0FE;\n",
       "      border: none;\n",
       "      border-radius: 50%;\n",
       "      cursor: pointer;\n",
       "      display: none;\n",
       "      fill: #1967D2;\n",
       "      height: 32px;\n",
       "      padding: 0 0 0 0;\n",
       "      width: 32px;\n",
       "    }\n",
       "\n",
       "    .colab-df-convert:hover {\n",
       "      background-color: #E2EBFA;\n",
       "      box-shadow: 0px 1px 2px rgba(60, 64, 67, 0.3), 0px 1px 3px 1px rgba(60, 64, 67, 0.15);\n",
       "      fill: #174EA6;\n",
       "    }\n",
       "\n",
       "    [theme=dark] .colab-df-convert {\n",
       "      background-color: #3B4455;\n",
       "      fill: #D2E3FC;\n",
       "    }\n",
       "\n",
       "    [theme=dark] .colab-df-convert:hover {\n",
       "      background-color: #434B5C;\n",
       "      box-shadow: 0px 1px 3px 1px rgba(0, 0, 0, 0.15);\n",
       "      filter: drop-shadow(0px 1px 2px rgba(0, 0, 0, 0.3));\n",
       "      fill: #FFFFFF;\n",
       "    }\n",
       "  </style>\n",
       "\n",
       "      <script>\n",
       "        const buttonEl =\n",
       "          document.querySelector('#df-34622fd5-ceda-4037-8a69-8c8e858f5581 button.colab-df-convert');\n",
       "        buttonEl.style.display =\n",
       "          google.colab.kernel.accessAllowed ? 'block' : 'none';\n",
       "\n",
       "        async function convertToInteractive(key) {\n",
       "          const element = document.querySelector('#df-34622fd5-ceda-4037-8a69-8c8e858f5581');\n",
       "          const dataTable =\n",
       "            await google.colab.kernel.invokeFunction('convertToInteractive',\n",
       "                                                     [key], {});\n",
       "          if (!dataTable) return;\n",
       "\n",
       "          const docLinkHtml = 'Like what you see? Visit the ' +\n",
       "            '<a target=\"_blank\" href=https://colab.research.google.com/notebooks/data_table.ipynb>data table notebook</a>'\n",
       "            + ' to learn more about interactive tables.';\n",
       "          element.innerHTML = '';\n",
       "          dataTable['output_type'] = 'display_data';\n",
       "          await google.colab.output.renderOutput(dataTable, element);\n",
       "          const docLink = document.createElement('div');\n",
       "          docLink.innerHTML = docLinkHtml;\n",
       "          element.appendChild(docLink);\n",
       "        }\n",
       "      </script>\n",
       "    </div>\n",
       "  </div>\n",
       "  "
      ],
      "text/plain": [
       "               Price           Year       Mileage\n",
       "count  852122.000000  852122.000000  8.521220e+05\n",
       "mean    21464.100210    2013.289145  5.250779e+04\n",
       "std     13596.202241       3.414987  4.198896e+04\n",
       "min      1500.000000    1997.000000  5.000000e+00\n",
       "25%     13000.000000    2012.000000  2.383600e+04\n",
       "50%     18500.000000    2014.000000  4.025600e+04\n",
       "75%     26995.000000    2016.000000  7.218600e+04\n",
       "max    499500.000000    2018.000000  2.856196e+06"
      ]
     },
     "execution_count": 18,
     "metadata": {},
     "output_type": "execute_result"
    }
   ],
   "source": [
    "df2.describe()"
   ]
  },
  {
   "cell_type": "markdown",
   "id": "2f3cd160",
   "metadata": {
    "id": "2f3cd160"
   },
   "source": [
    "### 3. Data Preprocessing"
   ]
  },
  {
   "cell_type": "code",
   "execution_count": 19,
   "id": "87379103",
   "metadata": {
    "colab": {
     "base_uri": "https://localhost:8080/"
    },
    "id": "87379103",
    "outputId": "e2cd030c-69e5-4f4d-c00f-48c825d693a9"
   },
   "outputs": [
    {
     "data": {
      "text/plain": [
       "(1216250, 9)"
      ]
     },
     "execution_count": 19,
     "metadata": {},
     "output_type": "execute_result"
    }
   ],
   "source": [
    "df1.shape"
   ]
  },
  {
   "cell_type": "code",
   "execution_count": 20,
   "id": "8d299a47",
   "metadata": {
    "colab": {
     "base_uri": "https://localhost:8080/"
    },
    "id": "8d299a47",
    "outputId": "181d8bb6-d4d1-4b49-d24c-f5e29e74d9d8"
   },
   "outputs": [
    {
     "data": {
      "text/plain": [
       "(852122, 8)"
      ]
     },
     "execution_count": 20,
     "metadata": {},
     "output_type": "execute_result"
    }
   ],
   "source": [
    "df2.shape"
   ]
  },
  {
   "cell_type": "markdown",
   "id": "0207c633",
   "metadata": {
    "id": "0207c633"
   },
   "source": [
    "### 3.1 Removing ID Column from the dataset"
   ]
  },
  {
   "cell_type": "code",
   "execution_count": 21,
   "id": "7292115a",
   "metadata": {
    "id": "7292115a"
   },
   "outputs": [],
   "source": [
    "df1.drop('Id',axis = 1, inplace = True)"
   ]
  },
  {
   "cell_type": "code",
   "execution_count": 22,
   "id": "e629cab1",
   "metadata": {
    "colab": {
     "base_uri": "https://localhost:8080/",
     "height": 0
    },
    "id": "e629cab1",
    "outputId": "e8f5e00a-9a48-4822-b332-77b3c5abce11"
   },
   "outputs": [
    {
     "data": {
      "text/html": [
       "\n",
       "  <div id=\"df-72b0da80-a534-452a-ad95-ca066fc28d30\">\n",
       "    <div class=\"colab-df-container\">\n",
       "      <div>\n",
       "<style scoped>\n",
       "    .dataframe tbody tr th:only-of-type {\n",
       "        vertical-align: middle;\n",
       "    }\n",
       "\n",
       "    .dataframe tbody tr th {\n",
       "        vertical-align: top;\n",
       "    }\n",
       "\n",
       "    .dataframe thead th {\n",
       "        text-align: right;\n",
       "    }\n",
       "</style>\n",
       "<table border=\"1\" class=\"dataframe\">\n",
       "  <thead>\n",
       "    <tr style=\"text-align: right;\">\n",
       "      <th></th>\n",
       "      <th>Price</th>\n",
       "      <th>Year</th>\n",
       "      <th>Mileage</th>\n",
       "      <th>City</th>\n",
       "      <th>State</th>\n",
       "      <th>Vin</th>\n",
       "      <th>Make</th>\n",
       "      <th>Model</th>\n",
       "    </tr>\n",
       "  </thead>\n",
       "  <tbody>\n",
       "    <tr>\n",
       "      <th>0</th>\n",
       "      <td>16472</td>\n",
       "      <td>2015</td>\n",
       "      <td>18681</td>\n",
       "      <td>Jefferson City</td>\n",
       "      <td>MO</td>\n",
       "      <td>KL4CJBSBXFB267643</td>\n",
       "      <td>Buick</td>\n",
       "      <td>EncoreConvenience</td>\n",
       "    </tr>\n",
       "    <tr>\n",
       "      <th>1</th>\n",
       "      <td>15749</td>\n",
       "      <td>2015</td>\n",
       "      <td>27592</td>\n",
       "      <td>Highland</td>\n",
       "      <td>IN</td>\n",
       "      <td>KL4CJASB5FB245057</td>\n",
       "      <td>Buick</td>\n",
       "      <td>EncoreFWD</td>\n",
       "    </tr>\n",
       "    <tr>\n",
       "      <th>2</th>\n",
       "      <td>16998</td>\n",
       "      <td>2015</td>\n",
       "      <td>13650</td>\n",
       "      <td>Boone</td>\n",
       "      <td>NC</td>\n",
       "      <td>KL4CJCSB0FB264921</td>\n",
       "      <td>Buick</td>\n",
       "      <td>EncoreLeather</td>\n",
       "    </tr>\n",
       "    <tr>\n",
       "      <th>3</th>\n",
       "      <td>15777</td>\n",
       "      <td>2015</td>\n",
       "      <td>25195</td>\n",
       "      <td>New Orleans</td>\n",
       "      <td>LA</td>\n",
       "      <td>KL4CJASB4FB217542</td>\n",
       "      <td>Buick</td>\n",
       "      <td>EncoreFWD</td>\n",
       "    </tr>\n",
       "    <tr>\n",
       "      <th>4</th>\n",
       "      <td>16784</td>\n",
       "      <td>2015</td>\n",
       "      <td>22800</td>\n",
       "      <td>Las Vegas</td>\n",
       "      <td>NV</td>\n",
       "      <td>KL4CJBSB3FB166881</td>\n",
       "      <td>Buick</td>\n",
       "      <td>EncoreConvenience</td>\n",
       "    </tr>\n",
       "  </tbody>\n",
       "</table>\n",
       "</div>\n",
       "      <button class=\"colab-df-convert\" onclick=\"convertToInteractive('df-72b0da80-a534-452a-ad95-ca066fc28d30')\"\n",
       "              title=\"Convert this dataframe to an interactive table.\"\n",
       "              style=\"display:none;\">\n",
       "        \n",
       "  <svg xmlns=\"http://www.w3.org/2000/svg\" height=\"24px\"viewBox=\"0 0 24 24\"\n",
       "       width=\"24px\">\n",
       "    <path d=\"M0 0h24v24H0V0z\" fill=\"none\"/>\n",
       "    <path d=\"M18.56 5.44l.94 2.06.94-2.06 2.06-.94-2.06-.94-.94-2.06-.94 2.06-2.06.94zm-11 1L8.5 8.5l.94-2.06 2.06-.94-2.06-.94L8.5 2.5l-.94 2.06-2.06.94zm10 10l.94 2.06.94-2.06 2.06-.94-2.06-.94-.94-2.06-.94 2.06-2.06.94z\"/><path d=\"M17.41 7.96l-1.37-1.37c-.4-.4-.92-.59-1.43-.59-.52 0-1.04.2-1.43.59L10.3 9.45l-7.72 7.72c-.78.78-.78 2.05 0 2.83L4 21.41c.39.39.9.59 1.41.59.51 0 1.02-.2 1.41-.59l7.78-7.78 2.81-2.81c.8-.78.8-2.07 0-2.86zM5.41 20L4 18.59l7.72-7.72 1.47 1.35L5.41 20z\"/>\n",
       "  </svg>\n",
       "      </button>\n",
       "      \n",
       "  <style>\n",
       "    .colab-df-container {\n",
       "      display:flex;\n",
       "      flex-wrap:wrap;\n",
       "      gap: 12px;\n",
       "    }\n",
       "\n",
       "    .colab-df-convert {\n",
       "      background-color: #E8F0FE;\n",
       "      border: none;\n",
       "      border-radius: 50%;\n",
       "      cursor: pointer;\n",
       "      display: none;\n",
       "      fill: #1967D2;\n",
       "      height: 32px;\n",
       "      padding: 0 0 0 0;\n",
       "      width: 32px;\n",
       "    }\n",
       "\n",
       "    .colab-df-convert:hover {\n",
       "      background-color: #E2EBFA;\n",
       "      box-shadow: 0px 1px 2px rgba(60, 64, 67, 0.3), 0px 1px 3px 1px rgba(60, 64, 67, 0.15);\n",
       "      fill: #174EA6;\n",
       "    }\n",
       "\n",
       "    [theme=dark] .colab-df-convert {\n",
       "      background-color: #3B4455;\n",
       "      fill: #D2E3FC;\n",
       "    }\n",
       "\n",
       "    [theme=dark] .colab-df-convert:hover {\n",
       "      background-color: #434B5C;\n",
       "      box-shadow: 0px 1px 3px 1px rgba(0, 0, 0, 0.15);\n",
       "      filter: drop-shadow(0px 1px 2px rgba(0, 0, 0, 0.3));\n",
       "      fill: #FFFFFF;\n",
       "    }\n",
       "  </style>\n",
       "\n",
       "      <script>\n",
       "        const buttonEl =\n",
       "          document.querySelector('#df-72b0da80-a534-452a-ad95-ca066fc28d30 button.colab-df-convert');\n",
       "        buttonEl.style.display =\n",
       "          google.colab.kernel.accessAllowed ? 'block' : 'none';\n",
       "\n",
       "        async function convertToInteractive(key) {\n",
       "          const element = document.querySelector('#df-72b0da80-a534-452a-ad95-ca066fc28d30');\n",
       "          const dataTable =\n",
       "            await google.colab.kernel.invokeFunction('convertToInteractive',\n",
       "                                                     [key], {});\n",
       "          if (!dataTable) return;\n",
       "\n",
       "          const docLinkHtml = 'Like what you see? Visit the ' +\n",
       "            '<a target=\"_blank\" href=https://colab.research.google.com/notebooks/data_table.ipynb>data table notebook</a>'\n",
       "            + ' to learn more about interactive tables.';\n",
       "          element.innerHTML = '';\n",
       "          dataTable['output_type'] = 'display_data';\n",
       "          await google.colab.output.renderOutput(dataTable, element);\n",
       "          const docLink = document.createElement('div');\n",
       "          docLink.innerHTML = docLinkHtml;\n",
       "          element.appendChild(docLink);\n",
       "        }\n",
       "      </script>\n",
       "    </div>\n",
       "  </div>\n",
       "  "
      ],
      "text/plain": [
       "   Price  Year  Mileage            City State                Vin   Make  \\\n",
       "0  16472  2015    18681  Jefferson City    MO  KL4CJBSBXFB267643  Buick   \n",
       "1  15749  2015    27592        Highland    IN  KL4CJASB5FB245057  Buick   \n",
       "2  16998  2015    13650           Boone    NC  KL4CJCSB0FB264921  Buick   \n",
       "3  15777  2015    25195     New Orleans    LA  KL4CJASB4FB217542  Buick   \n",
       "4  16784  2015    22800       Las Vegas    NV  KL4CJBSB3FB166881  Buick   \n",
       "\n",
       "               Model  \n",
       "0  EncoreConvenience  \n",
       "1          EncoreFWD  \n",
       "2      EncoreLeather  \n",
       "3          EncoreFWD  \n",
       "4  EncoreConvenience  "
      ]
     },
     "execution_count": 22,
     "metadata": {},
     "output_type": "execute_result"
    }
   ],
   "source": [
    "df1.head()"
   ]
  },
  {
   "cell_type": "markdown",
   "id": "b2af4092",
   "metadata": {
    "id": "b2af4092"
   },
   "source": [
    "### 3.2 Merging the two datasets"
   ]
  },
  {
   "cell_type": "code",
   "execution_count": 23,
   "id": "16911a0a",
   "metadata": {
    "id": "16911a0a"
   },
   "outputs": [],
   "source": [
    "df = pd.concat([df1, df2], axis = 'index', join='inner', ignore_index=True)"
   ]
  },
  {
   "cell_type": "code",
   "execution_count": 24,
   "id": "68d2c0f6",
   "metadata": {
    "colab": {
     "base_uri": "https://localhost:8080/",
     "height": 0
    },
    "id": "68d2c0f6",
    "outputId": "928b6a2c-5b60-4488-b91a-2a024df40281"
   },
   "outputs": [
    {
     "data": {
      "text/html": [
       "\n",
       "  <div id=\"df-0702ce34-cbc1-4cd5-8594-5c3b63180d1a\">\n",
       "    <div class=\"colab-df-container\">\n",
       "      <div>\n",
       "<style scoped>\n",
       "    .dataframe tbody tr th:only-of-type {\n",
       "        vertical-align: middle;\n",
       "    }\n",
       "\n",
       "    .dataframe tbody tr th {\n",
       "        vertical-align: top;\n",
       "    }\n",
       "\n",
       "    .dataframe thead th {\n",
       "        text-align: right;\n",
       "    }\n",
       "</style>\n",
       "<table border=\"1\" class=\"dataframe\">\n",
       "  <thead>\n",
       "    <tr style=\"text-align: right;\">\n",
       "      <th></th>\n",
       "      <th>Price</th>\n",
       "      <th>Year</th>\n",
       "      <th>Mileage</th>\n",
       "      <th>City</th>\n",
       "      <th>State</th>\n",
       "      <th>Vin</th>\n",
       "      <th>Make</th>\n",
       "      <th>Model</th>\n",
       "    </tr>\n",
       "  </thead>\n",
       "  <tbody>\n",
       "    <tr>\n",
       "      <th>0</th>\n",
       "      <td>16472</td>\n",
       "      <td>2015</td>\n",
       "      <td>18681</td>\n",
       "      <td>Jefferson City</td>\n",
       "      <td>MO</td>\n",
       "      <td>KL4CJBSBXFB267643</td>\n",
       "      <td>Buick</td>\n",
       "      <td>EncoreConvenience</td>\n",
       "    </tr>\n",
       "    <tr>\n",
       "      <th>1</th>\n",
       "      <td>15749</td>\n",
       "      <td>2015</td>\n",
       "      <td>27592</td>\n",
       "      <td>Highland</td>\n",
       "      <td>IN</td>\n",
       "      <td>KL4CJASB5FB245057</td>\n",
       "      <td>Buick</td>\n",
       "      <td>EncoreFWD</td>\n",
       "    </tr>\n",
       "    <tr>\n",
       "      <th>2</th>\n",
       "      <td>16998</td>\n",
       "      <td>2015</td>\n",
       "      <td>13650</td>\n",
       "      <td>Boone</td>\n",
       "      <td>NC</td>\n",
       "      <td>KL4CJCSB0FB264921</td>\n",
       "      <td>Buick</td>\n",
       "      <td>EncoreLeather</td>\n",
       "    </tr>\n",
       "    <tr>\n",
       "      <th>3</th>\n",
       "      <td>15777</td>\n",
       "      <td>2015</td>\n",
       "      <td>25195</td>\n",
       "      <td>New Orleans</td>\n",
       "      <td>LA</td>\n",
       "      <td>KL4CJASB4FB217542</td>\n",
       "      <td>Buick</td>\n",
       "      <td>EncoreFWD</td>\n",
       "    </tr>\n",
       "    <tr>\n",
       "      <th>4</th>\n",
       "      <td>16784</td>\n",
       "      <td>2015</td>\n",
       "      <td>22800</td>\n",
       "      <td>Las Vegas</td>\n",
       "      <td>NV</td>\n",
       "      <td>KL4CJBSB3FB166881</td>\n",
       "      <td>Buick</td>\n",
       "      <td>EncoreConvenience</td>\n",
       "    </tr>\n",
       "    <tr>\n",
       "      <th>...</th>\n",
       "      <td>...</td>\n",
       "      <td>...</td>\n",
       "      <td>...</td>\n",
       "      <td>...</td>\n",
       "      <td>...</td>\n",
       "      <td>...</td>\n",
       "      <td>...</td>\n",
       "      <td>...</td>\n",
       "    </tr>\n",
       "    <tr>\n",
       "      <th>2068367</th>\n",
       "      <td>63215</td>\n",
       "      <td>2017</td>\n",
       "      <td>9</td>\n",
       "      <td>Culver City</td>\n",
       "      <td>CA</td>\n",
       "      <td>YV1A22MK9H1013237</td>\n",
       "      <td>Volvo</td>\n",
       "      <td>S90T6</td>\n",
       "    </tr>\n",
       "    <tr>\n",
       "      <th>2068368</th>\n",
       "      <td>72260</td>\n",
       "      <td>2017</td>\n",
       "      <td>3201</td>\n",
       "      <td>Englewood</td>\n",
       "      <td>NJ</td>\n",
       "      <td>YV4A22PL3H1186162</td>\n",
       "      <td>Volvo</td>\n",
       "      <td>XC90T6</td>\n",
       "    </tr>\n",
       "    <tr>\n",
       "      <th>2068369</th>\n",
       "      <td>55999</td>\n",
       "      <td>2016</td>\n",
       "      <td>28941</td>\n",
       "      <td>Fort Collins</td>\n",
       "      <td>CO</td>\n",
       "      <td>YV4A22PL4G1000868</td>\n",
       "      <td>Volvo</td>\n",
       "      <td>XC90AWD</td>\n",
       "    </tr>\n",
       "    <tr>\n",
       "      <th>2068370</th>\n",
       "      <td>60240</td>\n",
       "      <td>2017</td>\n",
       "      <td>3005</td>\n",
       "      <td>San Leandro</td>\n",
       "      <td>CA</td>\n",
       "      <td>YV4A22NLXH1006162</td>\n",
       "      <td>Volvo</td>\n",
       "      <td>V90</td>\n",
       "    </tr>\n",
       "    <tr>\n",
       "      <th>2068371</th>\n",
       "      <td>76995</td>\n",
       "      <td>2017</td>\n",
       "      <td>2502</td>\n",
       "      <td>New York</td>\n",
       "      <td>NY</td>\n",
       "      <td>YV4BC0ZX1H1109845</td>\n",
       "      <td>Volvo</td>\n",
       "      <td>XC90T8</td>\n",
       "    </tr>\n",
       "  </tbody>\n",
       "</table>\n",
       "<p>2068372 rows × 8 columns</p>\n",
       "</div>\n",
       "      <button class=\"colab-df-convert\" onclick=\"convertToInteractive('df-0702ce34-cbc1-4cd5-8594-5c3b63180d1a')\"\n",
       "              title=\"Convert this dataframe to an interactive table.\"\n",
       "              style=\"display:none;\">\n",
       "        \n",
       "  <svg xmlns=\"http://www.w3.org/2000/svg\" height=\"24px\"viewBox=\"0 0 24 24\"\n",
       "       width=\"24px\">\n",
       "    <path d=\"M0 0h24v24H0V0z\" fill=\"none\"/>\n",
       "    <path d=\"M18.56 5.44l.94 2.06.94-2.06 2.06-.94-2.06-.94-.94-2.06-.94 2.06-2.06.94zm-11 1L8.5 8.5l.94-2.06 2.06-.94-2.06-.94L8.5 2.5l-.94 2.06-2.06.94zm10 10l.94 2.06.94-2.06 2.06-.94-2.06-.94-.94-2.06-.94 2.06-2.06.94z\"/><path d=\"M17.41 7.96l-1.37-1.37c-.4-.4-.92-.59-1.43-.59-.52 0-1.04.2-1.43.59L10.3 9.45l-7.72 7.72c-.78.78-.78 2.05 0 2.83L4 21.41c.39.39.9.59 1.41.59.51 0 1.02-.2 1.41-.59l7.78-7.78 2.81-2.81c.8-.78.8-2.07 0-2.86zM5.41 20L4 18.59l7.72-7.72 1.47 1.35L5.41 20z\"/>\n",
       "  </svg>\n",
       "      </button>\n",
       "      \n",
       "  <style>\n",
       "    .colab-df-container {\n",
       "      display:flex;\n",
       "      flex-wrap:wrap;\n",
       "      gap: 12px;\n",
       "    }\n",
       "\n",
       "    .colab-df-convert {\n",
       "      background-color: #E8F0FE;\n",
       "      border: none;\n",
       "      border-radius: 50%;\n",
       "      cursor: pointer;\n",
       "      display: none;\n",
       "      fill: #1967D2;\n",
       "      height: 32px;\n",
       "      padding: 0 0 0 0;\n",
       "      width: 32px;\n",
       "    }\n",
       "\n",
       "    .colab-df-convert:hover {\n",
       "      background-color: #E2EBFA;\n",
       "      box-shadow: 0px 1px 2px rgba(60, 64, 67, 0.3), 0px 1px 3px 1px rgba(60, 64, 67, 0.15);\n",
       "      fill: #174EA6;\n",
       "    }\n",
       "\n",
       "    [theme=dark] .colab-df-convert {\n",
       "      background-color: #3B4455;\n",
       "      fill: #D2E3FC;\n",
       "    }\n",
       "\n",
       "    [theme=dark] .colab-df-convert:hover {\n",
       "      background-color: #434B5C;\n",
       "      box-shadow: 0px 1px 3px 1px rgba(0, 0, 0, 0.15);\n",
       "      filter: drop-shadow(0px 1px 2px rgba(0, 0, 0, 0.3));\n",
       "      fill: #FFFFFF;\n",
       "    }\n",
       "  </style>\n",
       "\n",
       "      <script>\n",
       "        const buttonEl =\n",
       "          document.querySelector('#df-0702ce34-cbc1-4cd5-8594-5c3b63180d1a button.colab-df-convert');\n",
       "        buttonEl.style.display =\n",
       "          google.colab.kernel.accessAllowed ? 'block' : 'none';\n",
       "\n",
       "        async function convertToInteractive(key) {\n",
       "          const element = document.querySelector('#df-0702ce34-cbc1-4cd5-8594-5c3b63180d1a');\n",
       "          const dataTable =\n",
       "            await google.colab.kernel.invokeFunction('convertToInteractive',\n",
       "                                                     [key], {});\n",
       "          if (!dataTable) return;\n",
       "\n",
       "          const docLinkHtml = 'Like what you see? Visit the ' +\n",
       "            '<a target=\"_blank\" href=https://colab.research.google.com/notebooks/data_table.ipynb>data table notebook</a>'\n",
       "            + ' to learn more about interactive tables.';\n",
       "          element.innerHTML = '';\n",
       "          dataTable['output_type'] = 'display_data';\n",
       "          await google.colab.output.renderOutput(dataTable, element);\n",
       "          const docLink = document.createElement('div');\n",
       "          docLink.innerHTML = docLinkHtml;\n",
       "          element.appendChild(docLink);\n",
       "        }\n",
       "      </script>\n",
       "    </div>\n",
       "  </div>\n",
       "  "
      ],
      "text/plain": [
       "         Price  Year  Mileage            City State                Vin   Make  \\\n",
       "0        16472  2015    18681  Jefferson City    MO  KL4CJBSBXFB267643  Buick   \n",
       "1        15749  2015    27592        Highland    IN  KL4CJASB5FB245057  Buick   \n",
       "2        16998  2015    13650           Boone    NC  KL4CJCSB0FB264921  Buick   \n",
       "3        15777  2015    25195     New Orleans    LA  KL4CJASB4FB217542  Buick   \n",
       "4        16784  2015    22800       Las Vegas    NV  KL4CJBSB3FB166881  Buick   \n",
       "...        ...   ...      ...             ...   ...                ...    ...   \n",
       "2068367  63215  2017        9     Culver City    CA  YV1A22MK9H1013237  Volvo   \n",
       "2068368  72260  2017     3201       Englewood    NJ  YV4A22PL3H1186162  Volvo   \n",
       "2068369  55999  2016    28941    Fort Collins    CO  YV4A22PL4G1000868  Volvo   \n",
       "2068370  60240  2017     3005     San Leandro    CA  YV4A22NLXH1006162  Volvo   \n",
       "2068371  76995  2017     2502        New York    NY  YV4BC0ZX1H1109845  Volvo   \n",
       "\n",
       "                     Model  \n",
       "0        EncoreConvenience  \n",
       "1                EncoreFWD  \n",
       "2            EncoreLeather  \n",
       "3                EncoreFWD  \n",
       "4        EncoreConvenience  \n",
       "...                    ...  \n",
       "2068367              S90T6  \n",
       "2068368             XC90T6  \n",
       "2068369            XC90AWD  \n",
       "2068370                V90  \n",
       "2068371             XC90T8  \n",
       "\n",
       "[2068372 rows x 8 columns]"
      ]
     },
     "execution_count": 24,
     "metadata": {},
     "output_type": "execute_result"
    }
   ],
   "source": [
    "df"
   ]
  },
  {
   "cell_type": "markdown",
   "id": "0f66b94d",
   "metadata": {
    "id": "0f66b94d"
   },
   "source": [
    "### 3.3 Column's Types"
   ]
  },
  {
   "cell_type": "code",
   "execution_count": 25,
   "id": "a375c265",
   "metadata": {
    "colab": {
     "base_uri": "https://localhost:8080/"
    },
    "id": "a375c265",
    "outputId": "aac810c7-125f-4d3e-af1f-8c609a2a885d"
   },
   "outputs": [
    {
     "data": {
      "text/plain": [
       "Price       int64\n",
       "Year        int64\n",
       "Mileage     int64\n",
       "City       object\n",
       "State      object\n",
       "Vin        object\n",
       "Make       object\n",
       "Model      object\n",
       "dtype: object"
      ]
     },
     "execution_count": 25,
     "metadata": {},
     "output_type": "execute_result"
    }
   ],
   "source": [
    "df.dtypes"
   ]
  },
  {
   "cell_type": "markdown",
   "id": "ecabb128",
   "metadata": {
    "id": "ecabb128"
   },
   "source": [
    "### 3.4 Missing Data"
   ]
  },
  {
   "cell_type": "code",
   "execution_count": 26,
   "id": "c9d6f706",
   "metadata": {
    "colab": {
     "base_uri": "https://localhost:8080/"
    },
    "id": "c9d6f706",
    "outputId": "2e5056f1-f348-4644-a615-e0d6d36232c6"
   },
   "outputs": [
    {
     "data": {
      "text/plain": [
       "Price      0\n",
       "Year       0\n",
       "Mileage    0\n",
       "City       0\n",
       "State      0\n",
       "Vin        0\n",
       "Make       0\n",
       "Model      0\n",
       "dtype: int64"
      ]
     },
     "execution_count": 26,
     "metadata": {},
     "output_type": "execute_result"
    }
   ],
   "source": [
    "df.isnull().sum()"
   ]
  },
  {
   "cell_type": "markdown",
   "id": "3d5fc1ab",
   "metadata": {
    "id": "3d5fc1ab"
   },
   "source": [
    "\n",
    "### 3.5 Statistical Analysis:\n"
   ]
  },
  {
   "cell_type": "code",
   "execution_count": 27,
   "id": "65352ab7",
   "metadata": {
    "colab": {
     "base_uri": "https://localhost:8080/"
    },
    "id": "65352ab7",
    "outputId": "74f6a600-1a78-431f-a0cb-e8394cfcd53a"
   },
   "outputs": [
    {
     "data": {
      "text/plain": [
       "['Price', 'Year', 'Mileage', 'City', 'State', 'Vin', 'Make', 'Model']"
      ]
     },
     "execution_count": 27,
     "metadata": {},
     "output_type": "execute_result"
    }
   ],
   "source": [
    "df.columns.tolist()"
   ]
  },
  {
   "cell_type": "code",
   "execution_count": 28,
   "id": "84333864",
   "metadata": {
    "colab": {
     "base_uri": "https://localhost:8080/",
     "height": 0
    },
    "id": "84333864",
    "outputId": "6f370dc3-447c-47ca-9c31-abe465397bcb"
   },
   "outputs": [
    {
     "data": {
      "text/html": [
       "\n",
       "  <div id=\"df-843888e6-65a9-4ff5-aa1f-6ef3ec7ddac9\">\n",
       "    <div class=\"colab-df-container\">\n",
       "      <div>\n",
       "<style scoped>\n",
       "    .dataframe tbody tr th:only-of-type {\n",
       "        vertical-align: middle;\n",
       "    }\n",
       "\n",
       "    .dataframe tbody tr th {\n",
       "        vertical-align: top;\n",
       "    }\n",
       "\n",
       "    .dataframe thead th {\n",
       "        text-align: right;\n",
       "    }\n",
       "</style>\n",
       "<table border=\"1\" class=\"dataframe\">\n",
       "  <thead>\n",
       "    <tr style=\"text-align: right;\">\n",
       "      <th></th>\n",
       "      <th>Price</th>\n",
       "      <th>Year</th>\n",
       "      <th>Mileage</th>\n",
       "    </tr>\n",
       "  </thead>\n",
       "  <tbody>\n",
       "    <tr>\n",
       "      <th>count</th>\n",
       "      <td>2.068372e+06</td>\n",
       "      <td>2.068372e+06</td>\n",
       "      <td>2.068372e+06</td>\n",
       "    </tr>\n",
       "    <tr>\n",
       "      <th>mean</th>\n",
       "      <td>2.117289e+04</td>\n",
       "      <td>2.013300e+03</td>\n",
       "      <td>5.274318e+04</td>\n",
       "    </tr>\n",
       "    <tr>\n",
       "      <th>std</th>\n",
       "      <td>1.334331e+04</td>\n",
       "      <td>3.430814e+00</td>\n",
       "      <td>6.836142e+04</td>\n",
       "    </tr>\n",
       "    <tr>\n",
       "      <th>min</th>\n",
       "      <td>1.500000e+03</td>\n",
       "      <td>1.997000e+03</td>\n",
       "      <td>5.000000e+00</td>\n",
       "    </tr>\n",
       "    <tr>\n",
       "      <th>25%</th>\n",
       "      <td>1.299500e+04</td>\n",
       "      <td>2.012000e+03</td>\n",
       "      <td>2.391000e+04</td>\n",
       "    </tr>\n",
       "    <tr>\n",
       "      <th>50%</th>\n",
       "      <td>1.800000e+04</td>\n",
       "      <td>2.014000e+03</td>\n",
       "      <td>4.042300e+04</td>\n",
       "    </tr>\n",
       "    <tr>\n",
       "      <th>75%</th>\n",
       "      <td>2.681700e+04</td>\n",
       "      <td>2.016000e+03</td>\n",
       "      <td>7.250400e+04</td>\n",
       "    </tr>\n",
       "    <tr>\n",
       "      <th>max</th>\n",
       "      <td>4.995000e+05</td>\n",
       "      <td>2.018000e+03</td>\n",
       "      <td>7.758776e+07</td>\n",
       "    </tr>\n",
       "  </tbody>\n",
       "</table>\n",
       "</div>\n",
       "      <button class=\"colab-df-convert\" onclick=\"convertToInteractive('df-843888e6-65a9-4ff5-aa1f-6ef3ec7ddac9')\"\n",
       "              title=\"Convert this dataframe to an interactive table.\"\n",
       "              style=\"display:none;\">\n",
       "        \n",
       "  <svg xmlns=\"http://www.w3.org/2000/svg\" height=\"24px\"viewBox=\"0 0 24 24\"\n",
       "       width=\"24px\">\n",
       "    <path d=\"M0 0h24v24H0V0z\" fill=\"none\"/>\n",
       "    <path d=\"M18.56 5.44l.94 2.06.94-2.06 2.06-.94-2.06-.94-.94-2.06-.94 2.06-2.06.94zm-11 1L8.5 8.5l.94-2.06 2.06-.94-2.06-.94L8.5 2.5l-.94 2.06-2.06.94zm10 10l.94 2.06.94-2.06 2.06-.94-2.06-.94-.94-2.06-.94 2.06-2.06.94z\"/><path d=\"M17.41 7.96l-1.37-1.37c-.4-.4-.92-.59-1.43-.59-.52 0-1.04.2-1.43.59L10.3 9.45l-7.72 7.72c-.78.78-.78 2.05 0 2.83L4 21.41c.39.39.9.59 1.41.59.51 0 1.02-.2 1.41-.59l7.78-7.78 2.81-2.81c.8-.78.8-2.07 0-2.86zM5.41 20L4 18.59l7.72-7.72 1.47 1.35L5.41 20z\"/>\n",
       "  </svg>\n",
       "      </button>\n",
       "      \n",
       "  <style>\n",
       "    .colab-df-container {\n",
       "      display:flex;\n",
       "      flex-wrap:wrap;\n",
       "      gap: 12px;\n",
       "    }\n",
       "\n",
       "    .colab-df-convert {\n",
       "      background-color: #E8F0FE;\n",
       "      border: none;\n",
       "      border-radius: 50%;\n",
       "      cursor: pointer;\n",
       "      display: none;\n",
       "      fill: #1967D2;\n",
       "      height: 32px;\n",
       "      padding: 0 0 0 0;\n",
       "      width: 32px;\n",
       "    }\n",
       "\n",
       "    .colab-df-convert:hover {\n",
       "      background-color: #E2EBFA;\n",
       "      box-shadow: 0px 1px 2px rgba(60, 64, 67, 0.3), 0px 1px 3px 1px rgba(60, 64, 67, 0.15);\n",
       "      fill: #174EA6;\n",
       "    }\n",
       "\n",
       "    [theme=dark] .colab-df-convert {\n",
       "      background-color: #3B4455;\n",
       "      fill: #D2E3FC;\n",
       "    }\n",
       "\n",
       "    [theme=dark] .colab-df-convert:hover {\n",
       "      background-color: #434B5C;\n",
       "      box-shadow: 0px 1px 3px 1px rgba(0, 0, 0, 0.15);\n",
       "      filter: drop-shadow(0px 1px 2px rgba(0, 0, 0, 0.3));\n",
       "      fill: #FFFFFF;\n",
       "    }\n",
       "  </style>\n",
       "\n",
       "      <script>\n",
       "        const buttonEl =\n",
       "          document.querySelector('#df-843888e6-65a9-4ff5-aa1f-6ef3ec7ddac9 button.colab-df-convert');\n",
       "        buttonEl.style.display =\n",
       "          google.colab.kernel.accessAllowed ? 'block' : 'none';\n",
       "\n",
       "        async function convertToInteractive(key) {\n",
       "          const element = document.querySelector('#df-843888e6-65a9-4ff5-aa1f-6ef3ec7ddac9');\n",
       "          const dataTable =\n",
       "            await google.colab.kernel.invokeFunction('convertToInteractive',\n",
       "                                                     [key], {});\n",
       "          if (!dataTable) return;\n",
       "\n",
       "          const docLinkHtml = 'Like what you see? Visit the ' +\n",
       "            '<a target=\"_blank\" href=https://colab.research.google.com/notebooks/data_table.ipynb>data table notebook</a>'\n",
       "            + ' to learn more about interactive tables.';\n",
       "          element.innerHTML = '';\n",
       "          dataTable['output_type'] = 'display_data';\n",
       "          await google.colab.output.renderOutput(dataTable, element);\n",
       "          const docLink = document.createElement('div');\n",
       "          docLink.innerHTML = docLinkHtml;\n",
       "          element.appendChild(docLink);\n",
       "        }\n",
       "      </script>\n",
       "    </div>\n",
       "  </div>\n",
       "  "
      ],
      "text/plain": [
       "              Price          Year       Mileage\n",
       "count  2.068372e+06  2.068372e+06  2.068372e+06\n",
       "mean   2.117289e+04  2.013300e+03  5.274318e+04\n",
       "std    1.334331e+04  3.430814e+00  6.836142e+04\n",
       "min    1.500000e+03  1.997000e+03  5.000000e+00\n",
       "25%    1.299500e+04  2.012000e+03  2.391000e+04\n",
       "50%    1.800000e+04  2.014000e+03  4.042300e+04\n",
       "75%    2.681700e+04  2.016000e+03  7.250400e+04\n",
       "max    4.995000e+05  2.018000e+03  7.758776e+07"
      ]
     },
     "execution_count": 28,
     "metadata": {},
     "output_type": "execute_result"
    }
   ],
   "source": [
    "df.describe()"
   ]
  },
  {
   "cell_type": "code",
   "execution_count": 29,
   "id": "03344154",
   "metadata": {
    "colab": {
     "base_uri": "https://localhost:8080/"
    },
    "id": "03344154",
    "outputId": "51ccad28-b505-4905-8a14-c7eab7fbf4b9"
   },
   "outputs": [
    {
     "data": {
      "text/plain": [
       "Price                 499500\n",
       "Year                    2018\n",
       "Mileage             77587763\n",
       "City             victorville\n",
       "State                     ga\n",
       "Vin        ZN661YUS9HX226976\n",
       "Make                   smart\n",
       "Model               xDManual\n",
       "dtype: object"
      ]
     },
     "execution_count": 29,
     "metadata": {},
     "output_type": "execute_result"
    }
   ],
   "source": [
    "df.max()"
   ]
  },
  {
   "cell_type": "code",
   "execution_count": 30,
   "id": "a6541a26",
   "metadata": {
    "colab": {
     "base_uri": "https://localhost:8080/",
     "height": 0
    },
    "id": "a6541a26",
    "outputId": "e3a9c317-94ce-4381-e1bc-33692ae870f8"
   },
   "outputs": [
    {
     "data": {
      "text/html": [
       "\n",
       "  <div id=\"df-747d3fc9-78eb-4dd7-9fb7-462aa2ae92e1\">\n",
       "    <div class=\"colab-df-container\">\n",
       "      <div>\n",
       "<style scoped>\n",
       "    .dataframe tbody tr th:only-of-type {\n",
       "        vertical-align: middle;\n",
       "    }\n",
       "\n",
       "    .dataframe tbody tr th {\n",
       "        vertical-align: top;\n",
       "    }\n",
       "\n",
       "    .dataframe thead th {\n",
       "        text-align: right;\n",
       "    }\n",
       "</style>\n",
       "<table border=\"1\" class=\"dataframe\">\n",
       "  <thead>\n",
       "    <tr style=\"text-align: right;\">\n",
       "      <th></th>\n",
       "      <th>Price</th>\n",
       "      <th>Year</th>\n",
       "      <th>Mileage</th>\n",
       "      <th>City</th>\n",
       "      <th>State</th>\n",
       "      <th>Vin</th>\n",
       "      <th>Make</th>\n",
       "      <th>Model</th>\n",
       "    </tr>\n",
       "  </thead>\n",
       "  <tbody>\n",
       "    <tr>\n",
       "      <th>991641</th>\n",
       "      <td>499500</td>\n",
       "      <td>2014</td>\n",
       "      <td>3260</td>\n",
       "      <td>Westville</td>\n",
       "      <td>NJ</td>\n",
       "      <td>WDDRJ7HA4EA010693</td>\n",
       "      <td>Mercedes-Benz</td>\n",
       "      <td>SLS</td>\n",
       "    </tr>\n",
       "  </tbody>\n",
       "</table>\n",
       "</div>\n",
       "      <button class=\"colab-df-convert\" onclick=\"convertToInteractive('df-747d3fc9-78eb-4dd7-9fb7-462aa2ae92e1')\"\n",
       "              title=\"Convert this dataframe to an interactive table.\"\n",
       "              style=\"display:none;\">\n",
       "        \n",
       "  <svg xmlns=\"http://www.w3.org/2000/svg\" height=\"24px\"viewBox=\"0 0 24 24\"\n",
       "       width=\"24px\">\n",
       "    <path d=\"M0 0h24v24H0V0z\" fill=\"none\"/>\n",
       "    <path d=\"M18.56 5.44l.94 2.06.94-2.06 2.06-.94-2.06-.94-.94-2.06-.94 2.06-2.06.94zm-11 1L8.5 8.5l.94-2.06 2.06-.94-2.06-.94L8.5 2.5l-.94 2.06-2.06.94zm10 10l.94 2.06.94-2.06 2.06-.94-2.06-.94-.94-2.06-.94 2.06-2.06.94z\"/><path d=\"M17.41 7.96l-1.37-1.37c-.4-.4-.92-.59-1.43-.59-.52 0-1.04.2-1.43.59L10.3 9.45l-7.72 7.72c-.78.78-.78 2.05 0 2.83L4 21.41c.39.39.9.59 1.41.59.51 0 1.02-.2 1.41-.59l7.78-7.78 2.81-2.81c.8-.78.8-2.07 0-2.86zM5.41 20L4 18.59l7.72-7.72 1.47 1.35L5.41 20z\"/>\n",
       "  </svg>\n",
       "      </button>\n",
       "      \n",
       "  <style>\n",
       "    .colab-df-container {\n",
       "      display:flex;\n",
       "      flex-wrap:wrap;\n",
       "      gap: 12px;\n",
       "    }\n",
       "\n",
       "    .colab-df-convert {\n",
       "      background-color: #E8F0FE;\n",
       "      border: none;\n",
       "      border-radius: 50%;\n",
       "      cursor: pointer;\n",
       "      display: none;\n",
       "      fill: #1967D2;\n",
       "      height: 32px;\n",
       "      padding: 0 0 0 0;\n",
       "      width: 32px;\n",
       "    }\n",
       "\n",
       "    .colab-df-convert:hover {\n",
       "      background-color: #E2EBFA;\n",
       "      box-shadow: 0px 1px 2px rgba(60, 64, 67, 0.3), 0px 1px 3px 1px rgba(60, 64, 67, 0.15);\n",
       "      fill: #174EA6;\n",
       "    }\n",
       "\n",
       "    [theme=dark] .colab-df-convert {\n",
       "      background-color: #3B4455;\n",
       "      fill: #D2E3FC;\n",
       "    }\n",
       "\n",
       "    [theme=dark] .colab-df-convert:hover {\n",
       "      background-color: #434B5C;\n",
       "      box-shadow: 0px 1px 3px 1px rgba(0, 0, 0, 0.15);\n",
       "      filter: drop-shadow(0px 1px 2px rgba(0, 0, 0, 0.3));\n",
       "      fill: #FFFFFF;\n",
       "    }\n",
       "  </style>\n",
       "\n",
       "      <script>\n",
       "        const buttonEl =\n",
       "          document.querySelector('#df-747d3fc9-78eb-4dd7-9fb7-462aa2ae92e1 button.colab-df-convert');\n",
       "        buttonEl.style.display =\n",
       "          google.colab.kernel.accessAllowed ? 'block' : 'none';\n",
       "\n",
       "        async function convertToInteractive(key) {\n",
       "          const element = document.querySelector('#df-747d3fc9-78eb-4dd7-9fb7-462aa2ae92e1');\n",
       "          const dataTable =\n",
       "            await google.colab.kernel.invokeFunction('convertToInteractive',\n",
       "                                                     [key], {});\n",
       "          if (!dataTable) return;\n",
       "\n",
       "          const docLinkHtml = 'Like what you see? Visit the ' +\n",
       "            '<a target=\"_blank\" href=https://colab.research.google.com/notebooks/data_table.ipynb>data table notebook</a>'\n",
       "            + ' to learn more about interactive tables.';\n",
       "          element.innerHTML = '';\n",
       "          dataTable['output_type'] = 'display_data';\n",
       "          await google.colab.output.renderOutput(dataTable, element);\n",
       "          const docLink = document.createElement('div');\n",
       "          docLink.innerHTML = docLinkHtml;\n",
       "          element.appendChild(docLink);\n",
       "        }\n",
       "      </script>\n",
       "    </div>\n",
       "  </div>\n",
       "  "
      ],
      "text/plain": [
       "         Price  Year  Mileage       City State                Vin  \\\n",
       "991641  499500  2014     3260  Westville    NJ  WDDRJ7HA4EA010693   \n",
       "\n",
       "                 Make Model  \n",
       "991641  Mercedes-Benz   SLS  "
      ]
     },
     "execution_count": 30,
     "metadata": {},
     "output_type": "execute_result"
    }
   ],
   "source": [
    "df.iloc[[df['Price'].argmax()]]"
   ]
  },
  {
   "cell_type": "code",
   "execution_count": 31,
   "id": "4a6dce22",
   "metadata": {
    "colab": {
     "base_uri": "https://localhost:8080/"
    },
    "id": "4a6dce22",
    "outputId": "605421a1-5029-4039-c5c9-c6bdd675c77e"
   },
   "outputs": [
    {
     "data": {
      "text/plain": [
       "Ford             272431\n",
       "Chevrolet        252694\n",
       "Toyota           192881\n",
       "Nissan           164960\n",
       "Honda            127073\n",
       "Jeep             100696\n",
       "Hyundai           90484\n",
       "Dodge             85056\n",
       "GMC               72053\n",
       "Kia               71470\n",
       "BMW               64830\n",
       "Mercedes-Benz     64454\n",
       "Volkswagen        56487\n",
       "Lexus             50471\n",
       "Chrysler          40205\n",
       "Subaru            40186\n",
       "Cadillac          36958\n",
       "Ram               35053\n",
       "Mazda             33222\n",
       "Buick             30648\n",
       "INFINITI          30010\n",
       "Audi              25236\n",
       "Acura             22098\n",
       "Lincoln           17189\n",
       "Volvo             12443\n",
       "MINI              10599\n",
       "Mitsubishi        10013\n",
       "Land               9940\n",
       "Porsche            9891\n",
       "Scion              7432\n",
       "Jaguar             5314\n",
       "FIAT               4395\n",
       "Pontiac            4365\n",
       "Mercury            2670\n",
       "Maserati           2426\n",
       "Saturn             2407\n",
       "HUMMER             2282\n",
       "smart              1695\n",
       "Suzuki              818\n",
       "Ferrari             765\n",
       "Bentley             734\n",
       "Saab                627\n",
       "Tesla               583\n",
       "Genesis             350\n",
       "Aston               298\n",
       "Oldsmobile          294\n",
       "Lamborghini         262\n",
       "Rolls-Royce         200\n",
       "Isuzu               181\n",
       "Plymouth            121\n",
       "McLaren             111\n",
       "Lotus                91\n",
       "Alfa                 88\n",
       "Fisker               44\n",
       "AM                   38\n",
       "Freightliner         24\n",
       "Maybach              21\n",
       "Geo                   5\n",
       "Name: Make, dtype: int64"
      ]
     },
     "execution_count": 31,
     "metadata": {},
     "output_type": "execute_result"
    }
   ],
   "source": [
    "df['Make'].value_counts()"
   ]
  },
  {
   "cell_type": "code",
   "execution_count": 32,
   "id": "52ea8f05",
   "metadata": {
    "colab": {
     "base_uri": "https://localhost:8080/"
    },
    "id": "52ea8f05",
    "outputId": "80c24858-757e-4447-90d9-82e3641533df"
   },
   "outputs": [
    {
     "data": {
      "text/plain": [
       "2015    381936\n",
       "2014    380507\n",
       "2016    321236\n",
       "2017    233846\n",
       "2013    178913\n",
       "2012    122444\n",
       "2011     97066\n",
       "2010     67919\n",
       "2008     60198\n",
       "2007     51518\n",
       "2009     46551\n",
       "2006     36591\n",
       "2005     26808\n",
       "2004     19996\n",
       "2003     13722\n",
       "2002      9225\n",
       "2001      6347\n",
       "2000      4693\n",
       "1999      3051\n",
       "2018      2539\n",
       "1998      1844\n",
       "1997      1422\n",
       "Name: Year, dtype: int64"
      ]
     },
     "execution_count": 32,
     "metadata": {},
     "output_type": "execute_result"
    }
   ],
   "source": [
    "df['Year'].value_counts()"
   ]
  },
  {
   "cell_type": "markdown",
   "id": "83830607",
   "metadata": {
    "id": "83830607"
   },
   "source": [
    "### 3.5.1 Descriptive Analysis"
   ]
  },
  {
   "cell_type": "code",
   "execution_count": 33,
   "id": "c2f9766f",
   "metadata": {
    "colab": {
     "base_uri": "https://localhost:8080/",
     "height": 0
    },
    "id": "c2f9766f",
    "outputId": "1a42bd28-faa0-4d60-cd43-4a329cad9c05"
   },
   "outputs": [
    {
     "data": {
      "image/png": "[encoded data removed]",
      "text/plain": [
       "<Figure size 504x288 with 1 Axes>"
      ]
     },
     "metadata": {
      "needs_background": "light"
     },
     "output_type": "display_data"
    }
   ],
   "source": [
    "plt.figure(figsize=(7,4))\n",
    "\n",
    "plt.title('Price')\n",
    "sns.boxplot(x=df.Price)\n",
    "\n",
    "plt.show()"
   ]
  },
  {
   "cell_type": "markdown",
   "id": "e7dc6a91",
   "metadata": {
    "id": "e7dc6a91"
   },
   "source": [
    "**Here we can see that there is a huge number of outliers present in the Price column of the dataset.**"
   ]
  },
  {
   "cell_type": "markdown",
   "id": "3ae24136",
   "metadata": {
    "id": "3ae24136"
   },
   "source": [
    "**Ploting Outliers present in Year column.**"
   ]
  },
  {
   "cell_type": "code",
   "execution_count": 34,
   "id": "a9b3c290",
   "metadata": {
    "colab": {
     "base_uri": "https://localhost:8080/",
     "height": 0
    },
    "id": "a9b3c290",
    "outputId": "de671972-a5d8-442b-eee8-244042528824"
   },
   "outputs": [
    {
     "data": {
      "image/png": "[encoded data removed]",
      "text/plain": [
       "<Figure size 504x288 with 1 Axes>"
      ]
     },
     "metadata": {
      "needs_background": "light"
     },
     "output_type": "display_data"
    }
   ],
   "source": [
    "plt.figure(figsize=(7,4))\n",
    "\n",
    "plt.title('Year')\n",
    "sns.boxplot(df.Year)\n",
    "\n",
    "plt.show()"
   ]
  },
  {
   "cell_type": "code",
   "execution_count": 35,
   "id": "63321c99",
   "metadata": {
    "colab": {
     "base_uri": "https://localhost:8080/",
     "height": 0
    },
    "id": "63321c99",
    "outputId": "166ce5d9-83fd-4d8f-cb26-eefbd3189dcf"
   },
   "outputs": [
    {
     "data": {
      "image/png": "[encoded data removed]",
      "text/plain": [
       "<Figure size 504x288 with 1 Axes>"
      ]
     },
     "metadata": {
      "needs_background": "light"
     },
     "output_type": "display_data"
    }
   ],
   "source": [
    "plt.figure(figsize=(7,4))\n",
    "\n",
    "plt.title('Mileage')\n",
    "sns.boxplot(df.Mileage)\n",
    "\n",
    "plt.show()"
   ]
  },
  {
   "cell_type": "markdown",
   "id": "3cb8babc",
   "metadata": {
    "id": "3cb8babc"
   },
   "source": [
    "**Outliers present in Mileage Column**"
   ]
  },
  {
   "cell_type": "markdown",
   "id": "de3cc91c",
   "metadata": {
    "id": "de3cc91c"
   },
   "source": [
    "### 3.5.1.1 Numerical Features Analysis"
   ]
  },
  {
   "cell_type": "code",
   "execution_count": 36,
   "id": "ae95f45a",
   "metadata": {
    "id": "ae95f45a"
   },
   "outputs": [],
   "source": [
    "# Handling the Outliers for Price \n",
    "\n",
    "Q1 = df['Price'].quantile(0.25)\n",
    "Q3 = df['Price'].quantile(0.75)\n",
    "IQR = Q3 - Q1\n",
    "\n",
    "\n",
    "\n",
    "#Lower and Upper\n",
    "lower_lim = Q1 - 1.5 * IQR\n",
    "upper_lim = Q3 + 1.5 * IQR\n",
    "\n",
    "\n",
    "outlier_low = df['Price'] < lower_lim\n",
    "outlier_high = df['Price'] > upper_lim"
   ]
  },
  {
   "cell_type": "code",
   "execution_count": 37,
   "id": "0fc6af7d",
   "metadata": {
    "colab": {
     "base_uri": "https://localhost:8080/",
     "height": 0
    },
    "id": "0fc6af7d",
    "outputId": "38cbd38a-f57f-40be-90f7-98a184aee7b4"
   },
   "outputs": [
    {
     "data": {
      "text/html": [
       "\n",
       "  <div id=\"df-eb2ad276-9785-460c-9a8b-dac1e08a3a3b\">\n",
       "    <div class=\"colab-df-container\">\n",
       "      <div>\n",
       "<style scoped>\n",
       "    .dataframe tbody tr th:only-of-type {\n",
       "        vertical-align: middle;\n",
       "    }\n",
       "\n",
       "    .dataframe tbody tr th {\n",
       "        vertical-align: top;\n",
       "    }\n",
       "\n",
       "    .dataframe thead th {\n",
       "        text-align: right;\n",
       "    }\n",
       "</style>\n",
       "<table border=\"1\" class=\"dataframe\">\n",
       "  <thead>\n",
       "    <tr style=\"text-align: right;\">\n",
       "      <th></th>\n",
       "      <th>Price</th>\n",
       "      <th>Year</th>\n",
       "      <th>Mileage</th>\n",
       "      <th>City</th>\n",
       "      <th>State</th>\n",
       "      <th>Vin</th>\n",
       "      <th>Make</th>\n",
       "      <th>Model</th>\n",
       "    </tr>\n",
       "  </thead>\n",
       "  <tbody>\n",
       "    <tr>\n",
       "      <th>0</th>\n",
       "      <td>16472</td>\n",
       "      <td>2015</td>\n",
       "      <td>18681</td>\n",
       "      <td>Jefferson City</td>\n",
       "      <td>MO</td>\n",
       "      <td>KL4CJBSBXFB267643</td>\n",
       "      <td>Buick</td>\n",
       "      <td>EncoreConvenience</td>\n",
       "    </tr>\n",
       "    <tr>\n",
       "      <th>1</th>\n",
       "      <td>15749</td>\n",
       "      <td>2015</td>\n",
       "      <td>27592</td>\n",
       "      <td>Highland</td>\n",
       "      <td>IN</td>\n",
       "      <td>KL4CJASB5FB245057</td>\n",
       "      <td>Buick</td>\n",
       "      <td>EncoreFWD</td>\n",
       "    </tr>\n",
       "    <tr>\n",
       "      <th>2</th>\n",
       "      <td>16998</td>\n",
       "      <td>2015</td>\n",
       "      <td>13650</td>\n",
       "      <td>Boone</td>\n",
       "      <td>NC</td>\n",
       "      <td>KL4CJCSB0FB264921</td>\n",
       "      <td>Buick</td>\n",
       "      <td>EncoreLeather</td>\n",
       "    </tr>\n",
       "    <tr>\n",
       "      <th>3</th>\n",
       "      <td>15777</td>\n",
       "      <td>2015</td>\n",
       "      <td>25195</td>\n",
       "      <td>New Orleans</td>\n",
       "      <td>LA</td>\n",
       "      <td>KL4CJASB4FB217542</td>\n",
       "      <td>Buick</td>\n",
       "      <td>EncoreFWD</td>\n",
       "    </tr>\n",
       "    <tr>\n",
       "      <th>4</th>\n",
       "      <td>16784</td>\n",
       "      <td>2015</td>\n",
       "      <td>22800</td>\n",
       "      <td>Las Vegas</td>\n",
       "      <td>NV</td>\n",
       "      <td>KL4CJBSB3FB166881</td>\n",
       "      <td>Buick</td>\n",
       "      <td>EncoreConvenience</td>\n",
       "    </tr>\n",
       "    <tr>\n",
       "      <th>...</th>\n",
       "      <td>...</td>\n",
       "      <td>...</td>\n",
       "      <td>...</td>\n",
       "      <td>...</td>\n",
       "      <td>...</td>\n",
       "      <td>...</td>\n",
       "      <td>...</td>\n",
       "      <td>...</td>\n",
       "    </tr>\n",
       "    <tr>\n",
       "      <th>2068367</th>\n",
       "      <td>63215</td>\n",
       "      <td>2017</td>\n",
       "      <td>9</td>\n",
       "      <td>Culver City</td>\n",
       "      <td>CA</td>\n",
       "      <td>YV1A22MK9H1013237</td>\n",
       "      <td>Volvo</td>\n",
       "      <td>S90T6</td>\n",
       "    </tr>\n",
       "    <tr>\n",
       "      <th>2068368</th>\n",
       "      <td>72260</td>\n",
       "      <td>2017</td>\n",
       "      <td>3201</td>\n",
       "      <td>Englewood</td>\n",
       "      <td>NJ</td>\n",
       "      <td>YV4A22PL3H1186162</td>\n",
       "      <td>Volvo</td>\n",
       "      <td>XC90T6</td>\n",
       "    </tr>\n",
       "    <tr>\n",
       "      <th>2068369</th>\n",
       "      <td>55999</td>\n",
       "      <td>2016</td>\n",
       "      <td>28941</td>\n",
       "      <td>Fort Collins</td>\n",
       "      <td>CO</td>\n",
       "      <td>YV4A22PL4G1000868</td>\n",
       "      <td>Volvo</td>\n",
       "      <td>XC90AWD</td>\n",
       "    </tr>\n",
       "    <tr>\n",
       "      <th>2068370</th>\n",
       "      <td>60240</td>\n",
       "      <td>2017</td>\n",
       "      <td>3005</td>\n",
       "      <td>San Leandro</td>\n",
       "      <td>CA</td>\n",
       "      <td>YV4A22NLXH1006162</td>\n",
       "      <td>Volvo</td>\n",
       "      <td>V90</td>\n",
       "    </tr>\n",
       "    <tr>\n",
       "      <th>2068371</th>\n",
       "      <td>76995</td>\n",
       "      <td>2017</td>\n",
       "      <td>2502</td>\n",
       "      <td>New York</td>\n",
       "      <td>NY</td>\n",
       "      <td>YV4BC0ZX1H1109845</td>\n",
       "      <td>Volvo</td>\n",
       "      <td>XC90T8</td>\n",
       "    </tr>\n",
       "  </tbody>\n",
       "</table>\n",
       "<p>2068372 rows × 8 columns</p>\n",
       "</div>\n",
       "      <button class=\"colab-df-convert\" onclick=\"convertToInteractive('df-eb2ad276-9785-460c-9a8b-dac1e08a3a3b')\"\n",
       "              title=\"Convert this dataframe to an interactive table.\"\n",
       "              style=\"display:none;\">\n",
       "        \n",
       "  <svg xmlns=\"http://www.w3.org/2000/svg\" height=\"24px\"viewBox=\"0 0 24 24\"\n",
       "       width=\"24px\">\n",
       "    <path d=\"M0 0h24v24H0V0z\" fill=\"none\"/>\n",
       "    <path d=\"M18.56 5.44l.94 2.06.94-2.06 2.06-.94-2.06-.94-.94-2.06-.94 2.06-2.06.94zm-11 1L8.5 8.5l.94-2.06 2.06-.94-2.06-.94L8.5 2.5l-.94 2.06-2.06.94zm10 10l.94 2.06.94-2.06 2.06-.94-2.06-.94-.94-2.06-.94 2.06-2.06.94z\"/><path d=\"M17.41 7.96l-1.37-1.37c-.4-.4-.92-.59-1.43-.59-.52 0-1.04.2-1.43.59L10.3 9.45l-7.72 7.72c-.78.78-.78 2.05 0 2.83L4 21.41c.39.39.9.59 1.41.59.51 0 1.02-.2 1.41-.59l7.78-7.78 2.81-2.81c.8-.78.8-2.07 0-2.86zM5.41 20L4 18.59l7.72-7.72 1.47 1.35L5.41 20z\"/>\n",
       "  </svg>\n",
       "      </button>\n",
       "      \n",
       "  <style>\n",
       "    .colab-df-container {\n",
       "      display:flex;\n",
       "      flex-wrap:wrap;\n",
       "      gap: 12px;\n",
       "    }\n",
       "\n",
       "    .colab-df-convert {\n",
       "      background-color: #E8F0FE;\n",
       "      border: none;\n",
       "      border-radius: 50%;\n",
       "      cursor: pointer;\n",
       "      display: none;\n",
       "      fill: #1967D2;\n",
       "      height: 32px;\n",
       "      padding: 0 0 0 0;\n",
       "      width: 32px;\n",
       "    }\n",
       "\n",
       "    .colab-df-convert:hover {\n",
       "      background-color: #E2EBFA;\n",
       "      box-shadow: 0px 1px 2px rgba(60, 64, 67, 0.3), 0px 1px 3px 1px rgba(60, 64, 67, 0.15);\n",
       "      fill: #174EA6;\n",
       "    }\n",
       "\n",
       "    [theme=dark] .colab-df-convert {\n",
       "      background-color: #3B4455;\n",
       "      fill: #D2E3FC;\n",
       "    }\n",
       "\n",
       "    [theme=dark] .colab-df-convert:hover {\n",
       "      background-color: #434B5C;\n",
       "      box-shadow: 0px 1px 3px 1px rgba(0, 0, 0, 0.15);\n",
       "      filter: drop-shadow(0px 1px 2px rgba(0, 0, 0, 0.3));\n",
       "      fill: #FFFFFF;\n",
       "    }\n",
       "  </style>\n",
       "\n",
       "      <script>\n",
       "        const buttonEl =\n",
       "          document.querySelector('#df-eb2ad276-9785-460c-9a8b-dac1e08a3a3b button.colab-df-convert');\n",
       "        buttonEl.style.display =\n",
       "          google.colab.kernel.accessAllowed ? 'block' : 'none';\n",
       "\n",
       "        async function convertToInteractive(key) {\n",
       "          const element = document.querySelector('#df-eb2ad276-9785-460c-9a8b-dac1e08a3a3b');\n",
       "          const dataTable =\n",
       "            await google.colab.kernel.invokeFunction('convertToInteractive',\n",
       "                                                     [key], {});\n",
       "          if (!dataTable) return;\n",
       "\n",
       "          const docLinkHtml = 'Like what you see? Visit the ' +\n",
       "            '<a target=\"_blank\" href=https://colab.research.google.com/notebooks/data_table.ipynb>data table notebook</a>'\n",
       "            + ' to learn more about interactive tables.';\n",
       "          element.innerHTML = '';\n",
       "          dataTable['output_type'] = 'display_data';\n",
       "          await google.colab.output.renderOutput(dataTable, element);\n",
       "          const docLink = document.createElement('div');\n",
       "          docLink.innerHTML = docLinkHtml;\n",
       "          element.appendChild(docLink);\n",
       "        }\n",
       "      </script>\n",
       "    </div>\n",
       "  </div>\n",
       "  "
      ],
      "text/plain": [
       "         Price  Year  Mileage            City State                Vin   Make  \\\n",
       "0        16472  2015    18681  Jefferson City    MO  KL4CJBSBXFB267643  Buick   \n",
       "1        15749  2015    27592        Highland    IN  KL4CJASB5FB245057  Buick   \n",
       "2        16998  2015    13650           Boone    NC  KL4CJCSB0FB264921  Buick   \n",
       "3        15777  2015    25195     New Orleans    LA  KL4CJASB4FB217542  Buick   \n",
       "4        16784  2015    22800       Las Vegas    NV  KL4CJBSB3FB166881  Buick   \n",
       "...        ...   ...      ...             ...   ...                ...    ...   \n",
       "2068367  63215  2017        9     Culver City    CA  YV1A22MK9H1013237  Volvo   \n",
       "2068368  72260  2017     3201       Englewood    NJ  YV4A22PL3H1186162  Volvo   \n",
       "2068369  55999  2016    28941    Fort Collins    CO  YV4A22PL4G1000868  Volvo   \n",
       "2068370  60240  2017     3005     San Leandro    CA  YV4A22NLXH1006162  Volvo   \n",
       "2068371  76995  2017     2502        New York    NY  YV4BC0ZX1H1109845  Volvo   \n",
       "\n",
       "                     Model  \n",
       "0        EncoreConvenience  \n",
       "1                EncoreFWD  \n",
       "2            EncoreLeather  \n",
       "3                EncoreFWD  \n",
       "4        EncoreConvenience  \n",
       "...                    ...  \n",
       "2068367              S90T6  \n",
       "2068368             XC90T6  \n",
       "2068369            XC90AWD  \n",
       "2068370                V90  \n",
       "2068371             XC90T8  \n",
       "\n",
       "[2068372 rows x 8 columns]"
      ]
     },
     "execution_count": 37,
     "metadata": {},
     "output_type": "execute_result"
    }
   ],
   "source": [
    "df"
   ]
  },
  {
   "cell_type": "code",
   "execution_count": 38,
   "id": "fd87560b",
   "metadata": {
    "id": "fd87560b"
   },
   "outputs": [],
   "source": [
    "df = df[~ (outlier_low | outlier_high)]"
   ]
  },
  {
   "cell_type": "code",
   "execution_count": 39,
   "id": "5911bc1c",
   "metadata": {
    "colab": {
     "base_uri": "https://localhost:8080/",
     "height": 0
    },
    "id": "5911bc1c",
    "outputId": "62bf6433-7b37-4684-e9e6-73bf51fb8fae"
   },
   "outputs": [
    {
     "data": {
      "text/html": [
       "\n",
       "  <div id=\"df-112a9057-9b3d-48fc-9336-6d545c05837b\">\n",
       "    <div class=\"colab-df-container\">\n",
       "      <div>\n",
       "<style scoped>\n",
       "    .dataframe tbody tr th:only-of-type {\n",
       "        vertical-align: middle;\n",
       "    }\n",
       "\n",
       "    .dataframe tbody tr th {\n",
       "        vertical-align: top;\n",
       "    }\n",
       "\n",
       "    .dataframe thead th {\n",
       "        text-align: right;\n",
       "    }\n",
       "</style>\n",
       "<table border=\"1\" class=\"dataframe\">\n",
       "  <thead>\n",
       "    <tr style=\"text-align: right;\">\n",
       "      <th></th>\n",
       "      <th>Price</th>\n",
       "      <th>Year</th>\n",
       "      <th>Mileage</th>\n",
       "      <th>City</th>\n",
       "      <th>State</th>\n",
       "      <th>Vin</th>\n",
       "      <th>Make</th>\n",
       "      <th>Model</th>\n",
       "    </tr>\n",
       "  </thead>\n",
       "  <tbody>\n",
       "    <tr>\n",
       "      <th>0</th>\n",
       "      <td>16472</td>\n",
       "      <td>2015</td>\n",
       "      <td>18681</td>\n",
       "      <td>Jefferson City</td>\n",
       "      <td>MO</td>\n",
       "      <td>KL4CJBSBXFB267643</td>\n",
       "      <td>Buick</td>\n",
       "      <td>EncoreConvenience</td>\n",
       "    </tr>\n",
       "    <tr>\n",
       "      <th>1</th>\n",
       "      <td>15749</td>\n",
       "      <td>2015</td>\n",
       "      <td>27592</td>\n",
       "      <td>Highland</td>\n",
       "      <td>IN</td>\n",
       "      <td>KL4CJASB5FB245057</td>\n",
       "      <td>Buick</td>\n",
       "      <td>EncoreFWD</td>\n",
       "    </tr>\n",
       "    <tr>\n",
       "      <th>2</th>\n",
       "      <td>16998</td>\n",
       "      <td>2015</td>\n",
       "      <td>13650</td>\n",
       "      <td>Boone</td>\n",
       "      <td>NC</td>\n",
       "      <td>KL4CJCSB0FB264921</td>\n",
       "      <td>Buick</td>\n",
       "      <td>EncoreLeather</td>\n",
       "    </tr>\n",
       "    <tr>\n",
       "      <th>3</th>\n",
       "      <td>15777</td>\n",
       "      <td>2015</td>\n",
       "      <td>25195</td>\n",
       "      <td>New Orleans</td>\n",
       "      <td>LA</td>\n",
       "      <td>KL4CJASB4FB217542</td>\n",
       "      <td>Buick</td>\n",
       "      <td>EncoreFWD</td>\n",
       "    </tr>\n",
       "    <tr>\n",
       "      <th>4</th>\n",
       "      <td>16784</td>\n",
       "      <td>2015</td>\n",
       "      <td>22800</td>\n",
       "      <td>Las Vegas</td>\n",
       "      <td>NV</td>\n",
       "      <td>KL4CJBSB3FB166881</td>\n",
       "      <td>Buick</td>\n",
       "      <td>EncoreConvenience</td>\n",
       "    </tr>\n",
       "    <tr>\n",
       "      <th>...</th>\n",
       "      <td>...</td>\n",
       "      <td>...</td>\n",
       "      <td>...</td>\n",
       "      <td>...</td>\n",
       "      <td>...</td>\n",
       "      <td>...</td>\n",
       "      <td>...</td>\n",
       "      <td>...</td>\n",
       "    </tr>\n",
       "    <tr>\n",
       "      <th>2068326</th>\n",
       "      <td>37999</td>\n",
       "      <td>2016</td>\n",
       "      <td>10801</td>\n",
       "      <td>Portsmouth</td>\n",
       "      <td>NH</td>\n",
       "      <td>YV1902SP8G1300493</td>\n",
       "      <td>Volvo</td>\n",
       "      <td>V60T6</td>\n",
       "    </tr>\n",
       "    <tr>\n",
       "      <th>2068339</th>\n",
       "      <td>44565</td>\n",
       "      <td>2016</td>\n",
       "      <td>5650</td>\n",
       "      <td>Miami</td>\n",
       "      <td>FL</td>\n",
       "      <td>YV126MFK0G2407090</td>\n",
       "      <td>Volvo</td>\n",
       "      <td>S60T5</td>\n",
       "    </tr>\n",
       "    <tr>\n",
       "      <th>2068358</th>\n",
       "      <td>45280</td>\n",
       "      <td>2017</td>\n",
       "      <td>8</td>\n",
       "      <td>San Leandro</td>\n",
       "      <td>CA</td>\n",
       "      <td>YV140MEK1H1370375</td>\n",
       "      <td>Volvo</td>\n",
       "      <td>V60T5</td>\n",
       "    </tr>\n",
       "    <tr>\n",
       "      <th>2068361</th>\n",
       "      <td>46500</td>\n",
       "      <td>2017</td>\n",
       "      <td>8</td>\n",
       "      <td>San Leandro</td>\n",
       "      <td>CA</td>\n",
       "      <td>YV140MEM3H1370217</td>\n",
       "      <td>Volvo</td>\n",
       "      <td>V60T5</td>\n",
       "    </tr>\n",
       "    <tr>\n",
       "      <th>2068362</th>\n",
       "      <td>46530</td>\n",
       "      <td>2017</td>\n",
       "      <td>10</td>\n",
       "      <td>San Leandro</td>\n",
       "      <td>CA</td>\n",
       "      <td>YV140MEK7H1364709</td>\n",
       "      <td>Volvo</td>\n",
       "      <td>V60T5</td>\n",
       "    </tr>\n",
       "  </tbody>\n",
       "</table>\n",
       "<p>2000083 rows × 8 columns</p>\n",
       "</div>\n",
       "      <button class=\"colab-df-convert\" onclick=\"convertToInteractive('df-112a9057-9b3d-48fc-9336-6d545c05837b')\"\n",
       "              title=\"Convert this dataframe to an interactive table.\"\n",
       "              style=\"display:none;\">\n",
       "        \n",
       "  <svg xmlns=\"http://www.w3.org/2000/svg\" height=\"24px\"viewBox=\"0 0 24 24\"\n",
       "       width=\"24px\">\n",
       "    <path d=\"M0 0h24v24H0V0z\" fill=\"none\"/>\n",
       "    <path d=\"M18.56 5.44l.94 2.06.94-2.06 2.06-.94-2.06-.94-.94-2.06-.94 2.06-2.06.94zm-11 1L8.5 8.5l.94-2.06 2.06-.94-2.06-.94L8.5 2.5l-.94 2.06-2.06.94zm10 10l.94 2.06.94-2.06 2.06-.94-2.06-.94-.94-2.06-.94 2.06-2.06.94z\"/><path d=\"M17.41 7.96l-1.37-1.37c-.4-.4-.92-.59-1.43-.59-.52 0-1.04.2-1.43.59L10.3 9.45l-7.72 7.72c-.78.78-.78 2.05 0 2.83L4 21.41c.39.39.9.59 1.41.59.51 0 1.02-.2 1.41-.59l7.78-7.78 2.81-2.81c.8-.78.8-2.07 0-2.86zM5.41 20L4 18.59l7.72-7.72 1.47 1.35L5.41 20z\"/>\n",
       "  </svg>\n",
       "      </button>\n",
       "      \n",
       "  <style>\n",
       "    .colab-df-container {\n",
       "      display:flex;\n",
       "      flex-wrap:wrap;\n",
       "      gap: 12px;\n",
       "    }\n",
       "\n",
       "    .colab-df-convert {\n",
       "      background-color: #E8F0FE;\n",
       "      border: none;\n",
       "      border-radius: 50%;\n",
       "      cursor: pointer;\n",
       "      display: none;\n",
       "      fill: #1967D2;\n",
       "      height: 32px;\n",
       "      padding: 0 0 0 0;\n",
       "      width: 32px;\n",
       "    }\n",
       "\n",
       "    .colab-df-convert:hover {\n",
       "      background-color: #E2EBFA;\n",
       "      box-shadow: 0px 1px 2px rgba(60, 64, 67, 0.3), 0px 1px 3px 1px rgba(60, 64, 67, 0.15);\n",
       "      fill: #174EA6;\n",
       "    }\n",
       "\n",
       "    [theme=dark] .colab-df-convert {\n",
       "      background-color: #3B4455;\n",
       "      fill: #D2E3FC;\n",
       "    }\n",
       "\n",
       "    [theme=dark] .colab-df-convert:hover {\n",
       "      background-color: #434B5C;\n",
       "      box-shadow: 0px 1px 3px 1px rgba(0, 0, 0, 0.15);\n",
       "      filter: drop-shadow(0px 1px 2px rgba(0, 0, 0, 0.3));\n",
       "      fill: #FFFFFF;\n",
       "    }\n",
       "  </style>\n",
       "\n",
       "      <script>\n",
       "        const buttonEl =\n",
       "          document.querySelector('#df-112a9057-9b3d-48fc-9336-6d545c05837b button.colab-df-convert');\n",
       "        buttonEl.style.display =\n",
       "          google.colab.kernel.accessAllowed ? 'block' : 'none';\n",
       "\n",
       "        async function convertToInteractive(key) {\n",
       "          const element = document.querySelector('#df-112a9057-9b3d-48fc-9336-6d545c05837b');\n",
       "          const dataTable =\n",
       "            await google.colab.kernel.invokeFunction('convertToInteractive',\n",
       "                                                     [key], {});\n",
       "          if (!dataTable) return;\n",
       "\n",
       "          const docLinkHtml = 'Like what you see? Visit the ' +\n",
       "            '<a target=\"_blank\" href=https://colab.research.google.com/notebooks/data_table.ipynb>data table notebook</a>'\n",
       "            + ' to learn more about interactive tables.';\n",
       "          element.innerHTML = '';\n",
       "          dataTable['output_type'] = 'display_data';\n",
       "          await google.colab.output.renderOutput(dataTable, element);\n",
       "          const docLink = document.createElement('div');\n",
       "          docLink.innerHTML = docLinkHtml;\n",
       "          element.appendChild(docLink);\n",
       "        }\n",
       "      </script>\n",
       "    </div>\n",
       "  </div>\n",
       "  "
      ],
      "text/plain": [
       "         Price  Year  Mileage            City State                Vin   Make  \\\n",
       "0        16472  2015    18681  Jefferson City    MO  KL4CJBSBXFB267643  Buick   \n",
       "1        15749  2015    27592        Highland    IN  KL4CJASB5FB245057  Buick   \n",
       "2        16998  2015    13650           Boone    NC  KL4CJCSB0FB264921  Buick   \n",
       "3        15777  2015    25195     New Orleans    LA  KL4CJASB4FB217542  Buick   \n",
       "4        16784  2015    22800       Las Vegas    NV  KL4CJBSB3FB166881  Buick   \n",
       "...        ...   ...      ...             ...   ...                ...    ...   \n",
       "2068326  37999  2016    10801      Portsmouth    NH  YV1902SP8G1300493  Volvo   \n",
       "2068339  44565  2016     5650           Miami    FL  YV126MFK0G2407090  Volvo   \n",
       "2068358  45280  2017        8     San Leandro    CA  YV140MEK1H1370375  Volvo   \n",
       "2068361  46500  2017        8     San Leandro    CA  YV140MEM3H1370217  Volvo   \n",
       "2068362  46530  2017       10     San Leandro    CA  YV140MEK7H1364709  Volvo   \n",
       "\n",
       "                     Model  \n",
       "0        EncoreConvenience  \n",
       "1                EncoreFWD  \n",
       "2            EncoreLeather  \n",
       "3                EncoreFWD  \n",
       "4        EncoreConvenience  \n",
       "...                    ...  \n",
       "2068326              V60T6  \n",
       "2068339              S60T5  \n",
       "2068358              V60T5  \n",
       "2068361              V60T5  \n",
       "2068362              V60T5  \n",
       "\n",
       "[2000083 rows x 8 columns]"
      ]
     },
     "execution_count": 39,
     "metadata": {},
     "output_type": "execute_result"
    }
   ],
   "source": [
    "df"
   ]
  },
  {
   "cell_type": "code",
   "execution_count": 40,
   "id": "fbffe6ac",
   "metadata": {
    "colab": {
     "base_uri": "https://localhost:8080/",
     "height": 0
    },
    "id": "fbffe6ac",
    "outputId": "b8407cee-3bc4-4983-f025-212f5970cc47"
   },
   "outputs": [
    {
     "data": {
      "image/png": "[encoded data removed]",
      "text/plain": [
       "<Figure size 504x288 with 1 Axes>"
      ]
     },
     "metadata": {
      "needs_background": "light"
     },
     "output_type": "display_data"
    }
   ],
   "source": [
    "#Outliers Removed from Price\n",
    "\n",
    "\n",
    "plt.figure(figsize=(7,4))\n",
    "\n",
    "plt.title('Price')\n",
    "sns.boxplot(x=df.Price)\n",
    "\n",
    "plt.show()"
   ]
  },
  {
   "cell_type": "markdown",
   "id": "6cd29a99",
   "metadata": {
    "id": "6cd29a99"
   },
   "source": [
    "**Outliers removed from Price column.**"
   ]
  },
  {
   "cell_type": "code",
   "execution_count": 41,
   "id": "41e5c9b1",
   "metadata": {
    "id": "41e5c9b1"
   },
   "outputs": [],
   "source": [
    "# Handling the Outliers for Mileage\n",
    "\n",
    "Q1 = df['Mileage'].quantile(0.25)\n",
    "Q3 = df['Mileage'].quantile(0.75)\n",
    "IQR = Q3 - Q1\n",
    "\n",
    "\n",
    "\n",
    "#Lower and Upper\n",
    "lower_lim = Q1 - 1.5 * IQR\n",
    "upper_lim = Q3 + 1.5 * IQR\n",
    "\n",
    "\n",
    "outlier_low = df['Mileage'] < lower_lim\n",
    "outlier_high = df['Mileage'] > upper_lim"
   ]
  },
  {
   "cell_type": "code",
   "execution_count": 42,
   "id": "c9de7ff6",
   "metadata": {
    "id": "c9de7ff6"
   },
   "outputs": [],
   "source": [
    "df = df[~ (outlier_low | outlier_high)]"
   ]
  },
  {
   "cell_type": "code",
   "execution_count": 43,
   "id": "6002991f",
   "metadata": {
    "colab": {
     "base_uri": "https://localhost:8080/",
     "height": 0
    },
    "id": "6002991f",
    "outputId": "2fc88b2d-1d71-4c18-a9a3-a9a705dabf4a"
   },
   "outputs": [
    {
     "data": {
      "image/png": "[encoded data removed]",
      "text/plain": [
       "<Figure size 504x288 with 1 Axes>"
      ]
     },
     "metadata": {
      "needs_background": "light"
     },
     "output_type": "display_data"
    }
   ],
   "source": [
    "#Outliers Removed from Mileage\n",
    "\n",
    "\n",
    "plt.figure(figsize=(7,4))\n",
    "\n",
    "plt.title('Mileage')\n",
    "sns.boxplot(df.Mileage)\n",
    "\n",
    "plt.show()"
   ]
  },
  {
   "cell_type": "markdown",
   "id": "fb8bc9b0",
   "metadata": {
    "id": "fb8bc9b0"
   },
   "source": [
    "**Outliers removed from Mileage Column.**"
   ]
  },
  {
   "cell_type": "code",
   "execution_count": 44,
   "id": "80f3d2d8",
   "metadata": {
    "colab": {
     "base_uri": "https://localhost:8080/",
     "height": 0
    },
    "id": "80f3d2d8",
    "outputId": "4075ec5b-7162-4ebb-f2d9-2ac395567cbd"
   },
   "outputs": [
    {
     "data": {
      "text/plain": [
       "Text(0.5, 1.0, 'Price and Mileage Relationship')"
      ]
     },
     "execution_count": 44,
     "metadata": {},
     "output_type": "execute_result"
    },
    {
     "data": {
      "image/png": "[encoded data removed]",
      "text/plain": [
       "<Figure size 504x288 with 1 Axes>"
      ]
     },
     "metadata": {
      "needs_background": "light"
     },
     "output_type": "display_data"
    }
   ],
   "source": [
    "# Price and mileage relationship\n",
    "plt.figure(figsize=[7,4])\n",
    "\n",
    "sns.regplot(x=df['Mileage'][:1000], y=df['Price'][:1000]).set_title(\"Price and Mileage Relationship\")\n"
   ]
  },
  {
   "cell_type": "markdown",
   "id": "4ba41229",
   "metadata": {
    "id": "4ba41229"
   },
   "source": [
    "We can see there is a **negative** relationship between Price and Mileage columns indicating that the Price of certain car decreases as mileage increases."
   ]
  },
  {
   "cell_type": "code",
   "execution_count": 45,
   "id": "f2a1262a",
   "metadata": {
    "colab": {
     "base_uri": "https://localhost:8080/",
     "height": 0
    },
    "id": "f2a1262a",
    "outputId": "f0d5157e-e7be-46c5-bf5a-45b59f786ab7"
   },
   "outputs": [
    {
     "data": {
      "text/plain": [
       "Text(0.5, 1.0, 'Price and Year Relationship')"
      ]
     },
     "execution_count": 45,
     "metadata": {},
     "output_type": "execute_result"
    },
    {
     "data": {
      "image/png": "[encoded data removed]",
      "text/plain": [
       "<Figure size 504x288 with 1 Axes>"
      ]
     },
     "metadata": {
      "needs_background": "light"
     },
     "output_type": "display_data"
    }
   ],
   "source": [
    "# Price and year relationship\n",
    "plt.figure(figsize=[7,4])\n",
    "\n",
    "sns.regplot(x=df['Year'][:1000], y=df['Price'][:1000], color = 'green', marker = 'v').set_title(\"Price and Year Relationship\")"
   ]
  },
  {
   "cell_type": "markdown",
   "id": "586961b3",
   "metadata": {
    "id": "586961b3"
   },
   "source": [
    "From above graph it is clearly indicated that the price for car of 2015 is way more than that of the one from 2000. "
   ]
  },
  {
   "cell_type": "code",
   "execution_count": 46,
   "id": "d6d4cdd8",
   "metadata": {
    "colab": {
     "base_uri": "https://localhost:8080/",
     "height": 0
    },
    "id": "d6d4cdd8",
    "outputId": "e11c29bb-0ab5-45fc-fa1d-ea0d077994c8"
   },
   "outputs": [
    {
     "data": {
      "image/png": "[encoded data removed]",
      "text/plain": [
       "<Figure size 1440x1800 with 3 Axes>"
      ]
     },
     "metadata": {},
     "output_type": "display_data"
    }
   ],
   "source": [
    "plt.style.use('ggplot')\n",
    "#select all quantitative columns for checking the spread\n",
    "numeric_columns = df.select_dtypes(include=np.number).columns.tolist()\n",
    "plt.figure(figsize=(20,25))\n",
    "\n",
    "for i, variable in enumerate(numeric_columns):\n",
    "                     plt.subplot(10,3,i+1)\n",
    "                       \n",
    "                     sns.distplot(df[variable],kde=False,color='blue')\n",
    "                     plt.tight_layout()\n",
    "                     plt.title(variable)"
   ]
  },
  {
   "cell_type": "markdown",
   "id": "3856ada2",
   "metadata": {
    "id": "3856ada2"
   },
   "source": [
    "**Observations**\n",
    "1. There are more number of cars available in the price range of 10K to 20K.\n",
    "2. More number of cars are of Year 2015.\n",
    "3. More number of cars have a mileage driven around 40K."
   ]
  },
  {
   "cell_type": "markdown",
   "id": "68a8e4d3",
   "metadata": {
    "id": "68a8e4d3"
   },
   "source": [
    "### 3.5.1.2 Categorical Features Analysis"
   ]
  },
  {
   "cell_type": "code",
   "execution_count": 47,
   "id": "8d52c588",
   "metadata": {
    "colab": {
     "base_uri": "https://localhost:8080/"
    },
    "id": "8d52c588",
    "outputId": "6f4266eb-f864-45b6-919c-85d9038936c2"
   },
   "outputs": [
    {
     "data": {
      "text/plain": [
       "Index(['City', 'State', 'Vin', 'Make', 'Model'], dtype='object')"
      ]
     },
     "execution_count": 47,
     "metadata": {},
     "output_type": "execute_result"
    }
   ],
   "source": [
    "# List of Categorical Columns\n",
    "\n",
    "categorical_columns = df.columns[df.dtypes == 'object']\n",
    "categorical_columns"
   ]
  },
  {
   "cell_type": "code",
   "execution_count": 48,
   "id": "513f3db3",
   "metadata": {
    "colab": {
     "base_uri": "https://localhost:8080/"
    },
    "id": "513f3db3",
    "outputId": "ffb44a01-f601-49bb-d0cb-b967e4bbc4eb"
   },
   "outputs": [
    {
     "name": "stdout",
     "output_type": "stream",
     "text": [
      "['Jefferson City' 'Highland' 'Boone' ... 'Northfield' 'Huntington Valley'\n",
      " 'Winslow']\n",
      "-----------------------------------------------------------\n",
      "[' MO' ' IN' ' NC' ' LA' ' NV' ' NY' ' CA' ' AR' ' FL' ' AZ' ' KY' ' TN'\n",
      " ' MI' ' TX' ' PA' ' OK' ' NJ' ' MD' ' OH' ' GA' ' Va' ' Fl' ' CO' ' ND'\n",
      " ' AL' ' IL' ' MA' ' WA' ' WI' ' MN' ' VA' ' KS' ' RI' ' OR' ' MS' ' NM'\n",
      " ' SC' ' NE' ' IA' ' NH' ' UT' ' ME' ' CT' ' HI' ' ID' ' DE' ' MT' ' WV'\n",
      " ' WY' ' SD' ' AK' ' VT' ' Ga' ' ga' ' Md' ' Ca' ' Oh' ' Az' ' DC']\n",
      "-----------------------------------------------------------\n",
      "['KL4CJBSBXFB267643' 'KL4CJASB5FB245057' 'KL4CJCSB0FB264921' ...\n",
      " 'WVWHV7AJ4DW123050' 'WVGGF7BP7HD001131' 'WVGGF7BP9HD001129']\n",
      "-----------------------------------------------------------\n",
      "['Buick' 'Acura' 'Audi' 'BMW' 'Cadillac' 'Chevrolet' 'Chrysler' 'Dodge'\n",
      " 'FIAT' 'Ford' 'GMC' 'Honda' 'Genesis' 'Geo' 'Freightliner' 'Fisker'\n",
      " 'Bentley' 'Alfa' 'AM' 'Aston' 'Jeep' 'Kia' 'Land' 'Lexus' 'Lincoln'\n",
      " 'Lotus' 'Maserati' 'Mazda' 'Mercedes-Benz' 'Mercury' 'MINI' 'Mitsubishi'\n",
      " 'Nissan' 'Oldsmobile' 'Plymouth' 'Pontiac' 'Porsche' 'Ram' 'Saab'\n",
      " 'Saturn' 'Scion' 'smart' 'Subaru' 'Suzuki' 'Tesla' 'Toyota' 'Volkswagen'\n",
      " 'Volvo' 'HUMMER' 'Hyundai' 'INFINITI' 'Isuzu' 'Jaguar']\n",
      "-----------------------------------------------------------\n",
      "['EncoreConvenience' 'EncoreFWD' 'EncoreLeather' ... 'CCSPORT'\n",
      " 'Passat*Clean' 'GTI4-Door,']\n",
      "-----------------------------------------------------------\n"
     ]
    }
   ],
   "source": [
    "\n",
    "for col in categorical_columns:\n",
    "    print(df[col].unique())\n",
    "    print(\"-----------------------------------------------------------\")"
   ]
  },
  {
   "cell_type": "markdown",
   "id": "e4a77a7a",
   "metadata": {
    "id": "e4a77a7a"
   },
   "source": [
    "### 3.5.1.2.1 Removing Duplicate Vins"
   ]
  },
  {
   "cell_type": "code",
   "execution_count": 49,
   "id": "1f6006cf",
   "metadata": {
    "colab": {
     "base_uri": "https://localhost:8080/"
    },
    "id": "1f6006cf",
    "outputId": "527d32ba-ae68-4e2f-9012-69e501c351a3"
   },
   "outputs": [
    {
     "name": "stdout",
     "output_type": "stream",
     "text": [
      "Duplicate Rows based on Vins :\n",
      "--------------------------------\n",
      "         Price  Year  Mileage              City State                Vin  \\\n",
      "1216250   8995  2014    35725           El Paso    TX  19VDE2E53EE000083   \n",
      "1216251  10888  2013    19606  Long Island City    NY  19VDE1F52DE012636   \n",
      "1216252   8995  2013    48851           El Paso    TX  19VDE2E52DE000025   \n",
      "1216253  10999  2014    39922           Windsor    CO  19VDE1F71EE003817   \n",
      "1216254  14799  2016    22142            Lindon    UT  19UDE2F32GA001284   \n",
      "...        ...   ...      ...               ...   ...                ...   \n",
      "2068326  37999  2016    10801        Portsmouth    NH  YV1902SP8G1300493   \n",
      "2068339  44565  2016     5650             Miami    FL  YV126MFK0G2407090   \n",
      "2068358  45280  2017        8       San Leandro    CA  YV140MEK1H1370375   \n",
      "2068361  46500  2017        8       San Leandro    CA  YV140MEM3H1370217   \n",
      "2068362  46530  2017       10       San Leandro    CA  YV140MEK7H1364709   \n",
      "\n",
      "          Make         Model  \n",
      "1216250  Acura    ILX6-Speed  \n",
      "1216251  Acura    ILX5-Speed  \n",
      "1216252  Acura    ILX6-Speed  \n",
      "1216253  Acura    ILX5-Speed  \n",
      "1216254  Acura  ILXAutomatic  \n",
      "...        ...           ...  \n",
      "2068326  Volvo         V60T6  \n",
      "2068339  Volvo         S60T5  \n",
      "2068358  Volvo         V60T5  \n",
      "2068361  Volvo         V60T5  \n",
      "2068362  Volvo         V60T5  \n",
      "\n",
      "[782948 rows x 8 columns]\n"
     ]
    }
   ],
   "source": [
    "# duplicate rows on basis of Vin\n",
    "\n",
    "duplicate = df[df.duplicated('Vin')]\n",
    " \n",
    "print(\"Duplicate Rows based on Vins :\")\n",
    "print(\"--------------------------------\")\n",
    "print(duplicate)"
   ]
  },
  {
   "cell_type": "code",
   "execution_count": 50,
   "id": "ccdd86f1",
   "metadata": {
    "id": "ccdd86f1"
   },
   "outputs": [],
   "source": [
    "df.drop_duplicates(subset = ['Vin'], keep='first', inplace = True)"
   ]
  },
  {
   "cell_type": "code",
   "execution_count": 51,
   "id": "20fac229",
   "metadata": {
    "colab": {
     "base_uri": "https://localhost:8080/",
     "height": 0
    },
    "id": "20fac229",
    "outputId": "418ecf34-0b72-4d9c-f438-387e6541cca9"
   },
   "outputs": [
    {
     "data": {
      "text/html": [
       "\n",
       "  <div id=\"df-99521132-9888-4f6a-97d8-122c1a0c7dc2\">\n",
       "    <div class=\"colab-df-container\">\n",
       "      <div>\n",
       "<style scoped>\n",
       "    .dataframe tbody tr th:only-of-type {\n",
       "        vertical-align: middle;\n",
       "    }\n",
       "\n",
       "    .dataframe tbody tr th {\n",
       "        vertical-align: top;\n",
       "    }\n",
       "\n",
       "    .dataframe thead th {\n",
       "        text-align: right;\n",
       "    }\n",
       "</style>\n",
       "<table border=\"1\" class=\"dataframe\">\n",
       "  <thead>\n",
       "    <tr style=\"text-align: right;\">\n",
       "      <th></th>\n",
       "      <th>Price</th>\n",
       "      <th>Year</th>\n",
       "      <th>Mileage</th>\n",
       "      <th>City</th>\n",
       "      <th>State</th>\n",
       "      <th>Vin</th>\n",
       "      <th>Make</th>\n",
       "      <th>Model</th>\n",
       "    </tr>\n",
       "  </thead>\n",
       "  <tbody>\n",
       "    <tr>\n",
       "      <th>0</th>\n",
       "      <td>16472</td>\n",
       "      <td>2015</td>\n",
       "      <td>18681</td>\n",
       "      <td>Jefferson City</td>\n",
       "      <td>MO</td>\n",
       "      <td>KL4CJBSBXFB267643</td>\n",
       "      <td>Buick</td>\n",
       "      <td>EncoreConvenience</td>\n",
       "    </tr>\n",
       "    <tr>\n",
       "      <th>1</th>\n",
       "      <td>15749</td>\n",
       "      <td>2015</td>\n",
       "      <td>27592</td>\n",
       "      <td>Highland</td>\n",
       "      <td>IN</td>\n",
       "      <td>KL4CJASB5FB245057</td>\n",
       "      <td>Buick</td>\n",
       "      <td>EncoreFWD</td>\n",
       "    </tr>\n",
       "    <tr>\n",
       "      <th>2</th>\n",
       "      <td>16998</td>\n",
       "      <td>2015</td>\n",
       "      <td>13650</td>\n",
       "      <td>Boone</td>\n",
       "      <td>NC</td>\n",
       "      <td>KL4CJCSB0FB264921</td>\n",
       "      <td>Buick</td>\n",
       "      <td>EncoreLeather</td>\n",
       "    </tr>\n",
       "    <tr>\n",
       "      <th>3</th>\n",
       "      <td>15777</td>\n",
       "      <td>2015</td>\n",
       "      <td>25195</td>\n",
       "      <td>New Orleans</td>\n",
       "      <td>LA</td>\n",
       "      <td>KL4CJASB4FB217542</td>\n",
       "      <td>Buick</td>\n",
       "      <td>EncoreFWD</td>\n",
       "    </tr>\n",
       "    <tr>\n",
       "      <th>4</th>\n",
       "      <td>16784</td>\n",
       "      <td>2015</td>\n",
       "      <td>22800</td>\n",
       "      <td>Las Vegas</td>\n",
       "      <td>NV</td>\n",
       "      <td>KL4CJBSB3FB166881</td>\n",
       "      <td>Buick</td>\n",
       "      <td>EncoreConvenience</td>\n",
       "    </tr>\n",
       "    <tr>\n",
       "      <th>...</th>\n",
       "      <td>...</td>\n",
       "      <td>...</td>\n",
       "      <td>...</td>\n",
       "      <td>...</td>\n",
       "      <td>...</td>\n",
       "      <td>...</td>\n",
       "      <td>...</td>\n",
       "      <td>...</td>\n",
       "    </tr>\n",
       "    <tr>\n",
       "      <th>2059279</th>\n",
       "      <td>17909</td>\n",
       "      <td>2013</td>\n",
       "      <td>36275</td>\n",
       "      <td>Charlotte</td>\n",
       "      <td>NC</td>\n",
       "      <td>WVWHV7AJ0DW009210</td>\n",
       "      <td>Volkswagen</td>\n",
       "      <td>GTI4-Door,</td>\n",
       "    </tr>\n",
       "    <tr>\n",
       "      <th>2062500</th>\n",
       "      <td>18995</td>\n",
       "      <td>2013</td>\n",
       "      <td>43079</td>\n",
       "      <td>Mission</td>\n",
       "      <td>TX</td>\n",
       "      <td>WVWHV7AJ5DW082797</td>\n",
       "      <td>Volkswagen</td>\n",
       "      <td>GTI4-Door,</td>\n",
       "    </tr>\n",
       "    <tr>\n",
       "      <th>2062580</th>\n",
       "      <td>16551</td>\n",
       "      <td>2013</td>\n",
       "      <td>68107</td>\n",
       "      <td>Austin</td>\n",
       "      <td>TX</td>\n",
       "      <td>WVWHV7AJ4DW123050</td>\n",
       "      <td>Volkswagen</td>\n",
       "      <td>GTI4-Door,</td>\n",
       "    </tr>\n",
       "    <tr>\n",
       "      <th>2062970</th>\n",
       "      <td>43950</td>\n",
       "      <td>2017</td>\n",
       "      <td>13569</td>\n",
       "      <td>Hayward</td>\n",
       "      <td>CA</td>\n",
       "      <td>WVGGF7BP7HD001131</td>\n",
       "      <td>Volkswagen</td>\n",
       "      <td>TouaregV6</td>\n",
       "    </tr>\n",
       "    <tr>\n",
       "      <th>2063075</th>\n",
       "      <td>46995</td>\n",
       "      <td>2017</td>\n",
       "      <td>11051</td>\n",
       "      <td>Wellesley</td>\n",
       "      <td>MA</td>\n",
       "      <td>WVGGF7BP9HD001129</td>\n",
       "      <td>Volkswagen</td>\n",
       "      <td>TouaregV6</td>\n",
       "    </tr>\n",
       "  </tbody>\n",
       "</table>\n",
       "<p>1146355 rows × 8 columns</p>\n",
       "</div>\n",
       "      <button class=\"colab-df-convert\" onclick=\"convertToInteractive('df-99521132-9888-4f6a-97d8-122c1a0c7dc2')\"\n",
       "              title=\"Convert this dataframe to an interactive table.\"\n",
       "              style=\"display:none;\">\n",
       "        \n",
       "  <svg xmlns=\"http://www.w3.org/2000/svg\" height=\"24px\"viewBox=\"0 0 24 24\"\n",
       "       width=\"24px\">\n",
       "    <path d=\"M0 0h24v24H0V0z\" fill=\"none\"/>\n",
       "    <path d=\"M18.56 5.44l.94 2.06.94-2.06 2.06-.94-2.06-.94-.94-2.06-.94 2.06-2.06.94zm-11 1L8.5 8.5l.94-2.06 2.06-.94-2.06-.94L8.5 2.5l-.94 2.06-2.06.94zm10 10l.94 2.06.94-2.06 2.06-.94-2.06-.94-.94-2.06-.94 2.06-2.06.94z\"/><path d=\"M17.41 7.96l-1.37-1.37c-.4-.4-.92-.59-1.43-.59-.52 0-1.04.2-1.43.59L10.3 9.45l-7.72 7.72c-.78.78-.78 2.05 0 2.83L4 21.41c.39.39.9.59 1.41.59.51 0 1.02-.2 1.41-.59l7.78-7.78 2.81-2.81c.8-.78.8-2.07 0-2.86zM5.41 20L4 18.59l7.72-7.72 1.47 1.35L5.41 20z\"/>\n",
       "  </svg>\n",
       "      </button>\n",
       "      \n",
       "  <style>\n",
       "    .colab-df-container {\n",
       "      display:flex;\n",
       "      flex-wrap:wrap;\n",
       "      gap: 12px;\n",
       "    }\n",
       "\n",
       "    .colab-df-convert {\n",
       "      background-color: #E8F0FE;\n",
       "      border: none;\n",
       "      border-radius: 50%;\n",
       "      cursor: pointer;\n",
       "      display: none;\n",
       "      fill: #1967D2;\n",
       "      height: 32px;\n",
       "      padding: 0 0 0 0;\n",
       "      width: 32px;\n",
       "    }\n",
       "\n",
       "    .colab-df-convert:hover {\n",
       "      background-color: #E2EBFA;\n",
       "      box-shadow: 0px 1px 2px rgba(60, 64, 67, 0.3), 0px 1px 3px 1px rgba(60, 64, 67, 0.15);\n",
       "      fill: #174EA6;\n",
       "    }\n",
       "\n",
       "    [theme=dark] .colab-df-convert {\n",
       "      background-color: #3B4455;\n",
       "      fill: #D2E3FC;\n",
       "    }\n",
       "\n",
       "    [theme=dark] .colab-df-convert:hover {\n",
       "      background-color: #434B5C;\n",
       "      box-shadow: 0px 1px 3px 1px rgba(0, 0, 0, 0.15);\n",
       "      filter: drop-shadow(0px 1px 2px rgba(0, 0, 0, 0.3));\n",
       "      fill: #FFFFFF;\n",
       "    }\n",
       "  </style>\n",
       "\n",
       "      <script>\n",
       "        const buttonEl =\n",
       "          document.querySelector('#df-99521132-9888-4f6a-97d8-122c1a0c7dc2 button.colab-df-convert');\n",
       "        buttonEl.style.display =\n",
       "          google.colab.kernel.accessAllowed ? 'block' : 'none';\n",
       "\n",
       "        async function convertToInteractive(key) {\n",
       "          const element = document.querySelector('#df-99521132-9888-4f6a-97d8-122c1a0c7dc2');\n",
       "          const dataTable =\n",
       "            await google.colab.kernel.invokeFunction('convertToInteractive',\n",
       "                                                     [key], {});\n",
       "          if (!dataTable) return;\n",
       "\n",
       "          const docLinkHtml = 'Like what you see? Visit the ' +\n",
       "            '<a target=\"_blank\" href=https://colab.research.google.com/notebooks/data_table.ipynb>data table notebook</a>'\n",
       "            + ' to learn more about interactive tables.';\n",
       "          element.innerHTML = '';\n",
       "          dataTable['output_type'] = 'display_data';\n",
       "          await google.colab.output.renderOutput(dataTable, element);\n",
       "          const docLink = document.createElement('div');\n",
       "          docLink.innerHTML = docLinkHtml;\n",
       "          element.appendChild(docLink);\n",
       "        }\n",
       "      </script>\n",
       "    </div>\n",
       "  </div>\n",
       "  "
      ],
      "text/plain": [
       "         Price  Year  Mileage            City State                Vin  \\\n",
       "0        16472  2015    18681  Jefferson City    MO  KL4CJBSBXFB267643   \n",
       "1        15749  2015    27592        Highland    IN  KL4CJASB5FB245057   \n",
       "2        16998  2015    13650           Boone    NC  KL4CJCSB0FB264921   \n",
       "3        15777  2015    25195     New Orleans    LA  KL4CJASB4FB217542   \n",
       "4        16784  2015    22800       Las Vegas    NV  KL4CJBSB3FB166881   \n",
       "...        ...   ...      ...             ...   ...                ...   \n",
       "2059279  17909  2013    36275       Charlotte    NC  WVWHV7AJ0DW009210   \n",
       "2062500  18995  2013    43079         Mission    TX  WVWHV7AJ5DW082797   \n",
       "2062580  16551  2013    68107          Austin    TX  WVWHV7AJ4DW123050   \n",
       "2062970  43950  2017    13569         Hayward    CA  WVGGF7BP7HD001131   \n",
       "2063075  46995  2017    11051       Wellesley    MA  WVGGF7BP9HD001129   \n",
       "\n",
       "               Make              Model  \n",
       "0             Buick  EncoreConvenience  \n",
       "1             Buick          EncoreFWD  \n",
       "2             Buick      EncoreLeather  \n",
       "3             Buick          EncoreFWD  \n",
       "4             Buick  EncoreConvenience  \n",
       "...             ...                ...  \n",
       "2059279  Volkswagen         GTI4-Door,  \n",
       "2062500  Volkswagen         GTI4-Door,  \n",
       "2062580  Volkswagen         GTI4-Door,  \n",
       "2062970  Volkswagen          TouaregV6  \n",
       "2063075  Volkswagen          TouaregV6  \n",
       "\n",
       "[1146355 rows x 8 columns]"
      ]
     },
     "execution_count": 51,
     "metadata": {},
     "output_type": "execute_result"
    }
   ],
   "source": [
    "df"
   ]
  },
  {
   "cell_type": "markdown",
   "id": "ef3a7fc6",
   "metadata": {
    "id": "ef3a7fc6"
   },
   "source": [
    "### 3.5.1.2.2 Handling States' names"
   ]
  },
  {
   "cell_type": "code",
   "execution_count": 52,
   "id": "1408b728",
   "metadata": {
    "colab": {
     "base_uri": "https://localhost:8080/"
    },
    "id": "1408b728",
    "outputId": "c4c2fb94-d3d5-4c73-c41d-0d8229acf6c2"
   },
   "outputs": [
    {
     "data": {
      "text/plain": [
       "array([' MO', ' IN', ' NC', ' LA', ' NV', ' NY', ' CA', ' AR', ' FL',\n",
       "       ' AZ', ' KY', ' TN', ' MI', ' TX', ' PA', ' OK', ' NJ', ' MD',\n",
       "       ' OH', ' GA', ' Va', ' Fl', ' CO', ' ND', ' AL', ' IL', ' MA',\n",
       "       ' WA', ' WI', ' MN', ' VA', ' KS', ' RI', ' OR', ' MS', ' NM',\n",
       "       ' SC', ' NE', ' IA', ' NH', ' UT', ' ME', ' CT', ' HI', ' ID',\n",
       "       ' DE', ' MT', ' WV', ' WY', ' SD', ' AK', ' VT', ' Ga', ' ga',\n",
       "       ' Md', ' Ca', ' Oh', ' Az', ' DC'], dtype=object)"
      ]
     },
     "execution_count": 52,
     "metadata": {},
     "output_type": "execute_result"
    }
   ],
   "source": [
    "df.State.unique()"
   ]
  },
  {
   "cell_type": "code",
   "execution_count": 53,
   "id": "9492f813",
   "metadata": {
    "colab": {
     "base_uri": "https://localhost:8080/"
    },
    "id": "9492f813",
    "outputId": "3428a74e-4788-40bb-99f9-be297b69dd7f"
   },
   "outputs": [
    {
     "data": {
      "text/plain": [
       " TX    129788\n",
       " CA    108807\n",
       " FL    100994\n",
       " GA     51782\n",
       " IL     51305\n",
       " NC     49162\n",
       " VA     45800\n",
       " PA     38202\n",
       " NY     36568\n",
       " NJ     35932\n",
       " OH     31975\n",
       " AZ     31164\n",
       " WA     30260\n",
       " CO     29750\n",
       " MA     25482\n",
       " TN     25380\n",
       " MD     24346\n",
       " MO     22126\n",
       " IN     21827\n",
       " KY     18874\n",
       " AL     17226\n",
       " WI     15478\n",
       " MN     14713\n",
       " CT     14441\n",
       " MI     14269\n",
       " OK     13889\n",
       " UT     13819\n",
       " OR     13653\n",
       " SC     13304\n",
       " LA     10770\n",
       " KS     10368\n",
       " NV      9940\n",
       " AR      9006\n",
       " NH      7895\n",
       " MS      7850\n",
       " NM      6676\n",
       " NE      6471\n",
       " IA      6253\n",
       " ID      4482\n",
       " DE      3590\n",
       " HI      3542\n",
       " ME      2520\n",
       " RI      2499\n",
       " MT      2364\n",
       " AK      2173\n",
       " WV      1941\n",
       " ND      1662\n",
       " VT      1488\n",
       " SD      1411\n",
       " Fl      1025\n",
       " WY       881\n",
       " Va       385\n",
       " Md       237\n",
       " Ga       187\n",
       " ga       177\n",
       " Az        91\n",
       " Oh        86\n",
       " Ca        43\n",
       " DC        26\n",
       "Name: State, dtype: int64"
      ]
     },
     "execution_count": 53,
     "metadata": {},
     "output_type": "execute_result"
    }
   ],
   "source": [
    "# Replacing some state name\n",
    "df.State.value_counts()"
   ]
  },
  {
   "cell_type": "code",
   "execution_count": 54,
   "id": "2d920980",
   "metadata": {
    "id": "2d920980"
   },
   "outputs": [],
   "source": [
    "#Replacing the state names \n",
    "\n",
    "df['State'] = df['State'].replace([' Ca'],' CA')\n",
    "df['State'] = df['State'].replace([' Ga',' ga'],' GA')\n",
    "df['State'] = df['State'].replace([' Md'],' MD')\n",
    "df['State'] = df['State'].replace([' Oh'],' OH')\n",
    "df['State'] = df['State'].replace([' Az'],' AZ')\n",
    "df['State'] = df['State'].replace([' Va'],' VA')\n",
    "df['State'] = df['State'].replace([' Fl'],' FL')"
   ]
  },
  {
   "cell_type": "code",
   "execution_count": 55,
   "id": "bb22a897",
   "metadata": {
    "colab": {
     "base_uri": "https://localhost:8080/"
    },
    "id": "bb22a897",
    "outputId": "d9eb7e76-13ce-43fb-cdf8-fff499298e77"
   },
   "outputs": [
    {
     "data": {
      "text/plain": [
       "array([' MO', ' IN', ' NC', ' LA', ' NV', ' NY', ' CA', ' AR', ' FL',\n",
       "       ' AZ', ' KY', ' TN', ' MI', ' TX', ' PA', ' OK', ' NJ', ' MD',\n",
       "       ' OH', ' GA', ' VA', ' CO', ' ND', ' AL', ' IL', ' MA', ' WA',\n",
       "       ' WI', ' MN', ' KS', ' RI', ' OR', ' MS', ' NM', ' SC', ' NE',\n",
       "       ' IA', ' NH', ' UT', ' ME', ' CT', ' HI', ' ID', ' DE', ' MT',\n",
       "       ' WV', ' WY', ' SD', ' AK', ' VT', ' DC'], dtype=object)"
      ]
     },
     "execution_count": 55,
     "metadata": {},
     "output_type": "execute_result"
    }
   ],
   "source": [
    "df.State.unique()"
   ]
  },
  {
   "cell_type": "markdown",
   "id": "dfb150a0",
   "metadata": {
    "id": "dfb150a0"
   },
   "source": [
    "On inspecting we can see that there is a trailing space infront of every state names which was creating a problem\n",
    "So the next step is to remove the space infront of every states names."
   ]
  },
  {
   "cell_type": "code",
   "execution_count": 56,
   "id": "65d527de",
   "metadata": {
    "id": "65d527de"
   },
   "outputs": [],
   "source": [
    "df['State'] = df['State'].str.strip()"
   ]
  },
  {
   "cell_type": "code",
   "execution_count": 57,
   "id": "5fa82839",
   "metadata": {
    "colab": {
     "base_uri": "https://localhost:8080/"
    },
    "id": "5fa82839",
    "outputId": "c751d49f-6ccf-49c9-b713-3c8a0bb9b8c5"
   },
   "outputs": [
    {
     "data": {
      "text/plain": [
       "array(['MO', 'IN', 'NC', 'LA', 'NV', 'NY', 'CA', 'AR', 'FL', 'AZ', 'KY',\n",
       "       'TN', 'MI', 'TX', 'PA', 'OK', 'NJ', 'MD', 'OH', 'GA', 'VA', 'CO',\n",
       "       'ND', 'AL', 'IL', 'MA', 'WA', 'WI', 'MN', 'KS', 'RI', 'OR', 'MS',\n",
       "       'NM', 'SC', 'NE', 'IA', 'NH', 'UT', 'ME', 'CT', 'HI', 'ID', 'DE',\n",
       "       'MT', 'WV', 'WY', 'SD', 'AK', 'VT', 'DC'], dtype=object)"
      ]
     },
     "execution_count": 57,
     "metadata": {},
     "output_type": "execute_result"
    }
   ],
   "source": [
    "df['State'].unique()"
   ]
  },
  {
   "cell_type": "code",
   "execution_count": 58,
   "id": "cba9038b",
   "metadata": {
    "colab": {
     "base_uri": "https://localhost:8080/",
     "height": 0
    },
    "id": "cba9038b",
    "outputId": "78a8d51a-18a3-468e-803f-9ecbbb662cc1"
   },
   "outputs": [
    {
     "data": {
      "text/html": [
       "\n",
       "  <div id=\"df-f453bc8a-aec1-44e0-8914-e999470fd1d7\">\n",
       "    <div class=\"colab-df-container\">\n",
       "      <div>\n",
       "<style scoped>\n",
       "    .dataframe tbody tr th:only-of-type {\n",
       "        vertical-align: middle;\n",
       "    }\n",
       "\n",
       "    .dataframe tbody tr th {\n",
       "        vertical-align: top;\n",
       "    }\n",
       "\n",
       "    .dataframe thead th {\n",
       "        text-align: right;\n",
       "    }\n",
       "</style>\n",
       "<table border=\"1\" class=\"dataframe\">\n",
       "  <thead>\n",
       "    <tr style=\"text-align: right;\">\n",
       "      <th></th>\n",
       "      <th>Price</th>\n",
       "      <th>Year</th>\n",
       "      <th>Mileage</th>\n",
       "      <th>City</th>\n",
       "      <th>State</th>\n",
       "      <th>Vin</th>\n",
       "      <th>Make</th>\n",
       "      <th>Model</th>\n",
       "    </tr>\n",
       "  </thead>\n",
       "  <tbody>\n",
       "    <tr>\n",
       "      <th>6</th>\n",
       "      <td>15950</td>\n",
       "      <td>2015</td>\n",
       "      <td>27885</td>\n",
       "      <td>West Covina</td>\n",
       "      <td>CA</td>\n",
       "      <td>KL4CJASB3FB241802</td>\n",
       "      <td>Buick</td>\n",
       "      <td>EncoreFWD</td>\n",
       "    </tr>\n",
       "    <tr>\n",
       "      <th>25</th>\n",
       "      <td>18902</td>\n",
       "      <td>2017</td>\n",
       "      <td>5</td>\n",
       "      <td>Dublin</td>\n",
       "      <td>CA</td>\n",
       "      <td>KL4CJASB1HB027202</td>\n",
       "      <td>Buick</td>\n",
       "      <td>EncoreFWD</td>\n",
       "    </tr>\n",
       "    <tr>\n",
       "      <th>26</th>\n",
       "      <td>18902</td>\n",
       "      <td>2017</td>\n",
       "      <td>5</td>\n",
       "      <td>Dublin</td>\n",
       "      <td>CA</td>\n",
       "      <td>KL4CJASB5HB028496</td>\n",
       "      <td>Buick</td>\n",
       "      <td>EncoreFWD</td>\n",
       "    </tr>\n",
       "    <tr>\n",
       "      <th>56</th>\n",
       "      <td>17479</td>\n",
       "      <td>2015</td>\n",
       "      <td>15572</td>\n",
       "      <td>San Diego</td>\n",
       "      <td>CA</td>\n",
       "      <td>KL4CJBSBXFB260336</td>\n",
       "      <td>Buick</td>\n",
       "      <td>EncoreConvenience</td>\n",
       "    </tr>\n",
       "    <tr>\n",
       "      <th>67</th>\n",
       "      <td>17950</td>\n",
       "      <td>2015</td>\n",
       "      <td>7895</td>\n",
       "      <td>Fresno</td>\n",
       "      <td>CA</td>\n",
       "      <td>KL4CJASB7FB266072</td>\n",
       "      <td>Buick</td>\n",
       "      <td>EncoreFWD</td>\n",
       "    </tr>\n",
       "    <tr>\n",
       "      <th>...</th>\n",
       "      <td>...</td>\n",
       "      <td>...</td>\n",
       "      <td>...</td>\n",
       "      <td>...</td>\n",
       "      <td>...</td>\n",
       "      <td>...</td>\n",
       "      <td>...</td>\n",
       "      <td>...</td>\n",
       "    </tr>\n",
       "    <tr>\n",
       "      <th>2037717</th>\n",
       "      <td>33495</td>\n",
       "      <td>2014</td>\n",
       "      <td>29916</td>\n",
       "      <td>Fairfield</td>\n",
       "      <td>CA</td>\n",
       "      <td>5TDYK3DC3ES474581</td>\n",
       "      <td>Toyota</td>\n",
       "      <td>SiennaXLE,</td>\n",
       "    </tr>\n",
       "    <tr>\n",
       "      <th>2039062</th>\n",
       "      <td>36995</td>\n",
       "      <td>2015</td>\n",
       "      <td>12853</td>\n",
       "      <td>Fairfield</td>\n",
       "      <td>CA</td>\n",
       "      <td>5TDKK3DC3FS673816</td>\n",
       "      <td>Toyota</td>\n",
       "      <td>SiennaLE,</td>\n",
       "    </tr>\n",
       "    <tr>\n",
       "      <th>2039171</th>\n",
       "      <td>35900</td>\n",
       "      <td>2015</td>\n",
       "      <td>41585</td>\n",
       "      <td>Davis</td>\n",
       "      <td>CA</td>\n",
       "      <td>5TDKK3DC1FS567705</td>\n",
       "      <td>Toyota</td>\n",
       "      <td>SiennaLE,</td>\n",
       "    </tr>\n",
       "    <tr>\n",
       "      <th>2039180</th>\n",
       "      <td>36995</td>\n",
       "      <td>2015</td>\n",
       "      <td>16033</td>\n",
       "      <td>Fairfield</td>\n",
       "      <td>CA</td>\n",
       "      <td>5TDKK3DC5FS679195</td>\n",
       "      <td>Toyota</td>\n",
       "      <td>SiennaLE,</td>\n",
       "    </tr>\n",
       "    <tr>\n",
       "      <th>2062970</th>\n",
       "      <td>43950</td>\n",
       "      <td>2017</td>\n",
       "      <td>13569</td>\n",
       "      <td>Hayward</td>\n",
       "      <td>CA</td>\n",
       "      <td>WVGGF7BP7HD001131</td>\n",
       "      <td>Volkswagen</td>\n",
       "      <td>TouaregV6</td>\n",
       "    </tr>\n",
       "  </tbody>\n",
       "</table>\n",
       "<p>108850 rows × 8 columns</p>\n",
       "</div>\n",
       "      <button class=\"colab-df-convert\" onclick=\"convertToInteractive('df-f453bc8a-aec1-44e0-8914-e999470fd1d7')\"\n",
       "              title=\"Convert this dataframe to an interactive table.\"\n",
       "              style=\"display:none;\">\n",
       "        \n",
       "  <svg xmlns=\"http://www.w3.org/2000/svg\" height=\"24px\"viewBox=\"0 0 24 24\"\n",
       "       width=\"24px\">\n",
       "    <path d=\"M0 0h24v24H0V0z\" fill=\"none\"/>\n",
       "    <path d=\"M18.56 5.44l.94 2.06.94-2.06 2.06-.94-2.06-.94-.94-2.06-.94 2.06-2.06.94zm-11 1L8.5 8.5l.94-2.06 2.06-.94-2.06-.94L8.5 2.5l-.94 2.06-2.06.94zm10 10l.94 2.06.94-2.06 2.06-.94-2.06-.94-.94-2.06-.94 2.06-2.06.94z\"/><path d=\"M17.41 7.96l-1.37-1.37c-.4-.4-.92-.59-1.43-.59-.52 0-1.04.2-1.43.59L10.3 9.45l-7.72 7.72c-.78.78-.78 2.05 0 2.83L4 21.41c.39.39.9.59 1.41.59.51 0 1.02-.2 1.41-.59l7.78-7.78 2.81-2.81c.8-.78.8-2.07 0-2.86zM5.41 20L4 18.59l7.72-7.72 1.47 1.35L5.41 20z\"/>\n",
       "  </svg>\n",
       "      </button>\n",
       "      \n",
       "  <style>\n",
       "    .colab-df-container {\n",
       "      display:flex;\n",
       "      flex-wrap:wrap;\n",
       "      gap: 12px;\n",
       "    }\n",
       "\n",
       "    .colab-df-convert {\n",
       "      background-color: #E8F0FE;\n",
       "      border: none;\n",
       "      border-radius: 50%;\n",
       "      cursor: pointer;\n",
       "      display: none;\n",
       "      fill: #1967D2;\n",
       "      height: 32px;\n",
       "      padding: 0 0 0 0;\n",
       "      width: 32px;\n",
       "    }\n",
       "\n",
       "    .colab-df-convert:hover {\n",
       "      background-color: #E2EBFA;\n",
       "      box-shadow: 0px 1px 2px rgba(60, 64, 67, 0.3), 0px 1px 3px 1px rgba(60, 64, 67, 0.15);\n",
       "      fill: #174EA6;\n",
       "    }\n",
       "\n",
       "    [theme=dark] .colab-df-convert {\n",
       "      background-color: #3B4455;\n",
       "      fill: #D2E3FC;\n",
       "    }\n",
       "\n",
       "    [theme=dark] .colab-df-convert:hover {\n",
       "      background-color: #434B5C;\n",
       "      box-shadow: 0px 1px 3px 1px rgba(0, 0, 0, 0.15);\n",
       "      filter: drop-shadow(0px 1px 2px rgba(0, 0, 0, 0.3));\n",
       "      fill: #FFFFFF;\n",
       "    }\n",
       "  </style>\n",
       "\n",
       "      <script>\n",
       "        const buttonEl =\n",
       "          document.querySelector('#df-f453bc8a-aec1-44e0-8914-e999470fd1d7 button.colab-df-convert');\n",
       "        buttonEl.style.display =\n",
       "          google.colab.kernel.accessAllowed ? 'block' : 'none';\n",
       "\n",
       "        async function convertToInteractive(key) {\n",
       "          const element = document.querySelector('#df-f453bc8a-aec1-44e0-8914-e999470fd1d7');\n",
       "          const dataTable =\n",
       "            await google.colab.kernel.invokeFunction('convertToInteractive',\n",
       "                                                     [key], {});\n",
       "          if (!dataTable) return;\n",
       "\n",
       "          const docLinkHtml = 'Like what you see? Visit the ' +\n",
       "            '<a target=\"_blank\" href=https://colab.research.google.com/notebooks/data_table.ipynb>data table notebook</a>'\n",
       "            + ' to learn more about interactive tables.';\n",
       "          element.innerHTML = '';\n",
       "          dataTable['output_type'] = 'display_data';\n",
       "          await google.colab.output.renderOutput(dataTable, element);\n",
       "          const docLink = document.createElement('div');\n",
       "          docLink.innerHTML = docLinkHtml;\n",
       "          element.appendChild(docLink);\n",
       "        }\n",
       "      </script>\n",
       "    </div>\n",
       "  </div>\n",
       "  "
      ],
      "text/plain": [
       "         Price  Year  Mileage         City State                Vin  \\\n",
       "6        15950  2015    27885  West Covina    CA  KL4CJASB3FB241802   \n",
       "25       18902  2017        5       Dublin    CA  KL4CJASB1HB027202   \n",
       "26       18902  2017        5       Dublin    CA  KL4CJASB5HB028496   \n",
       "56       17479  2015    15572    San Diego    CA  KL4CJBSBXFB260336   \n",
       "67       17950  2015     7895       Fresno    CA  KL4CJASB7FB266072   \n",
       "...        ...   ...      ...          ...   ...                ...   \n",
       "2037717  33495  2014    29916    Fairfield    CA  5TDYK3DC3ES474581   \n",
       "2039062  36995  2015    12853    Fairfield    CA  5TDKK3DC3FS673816   \n",
       "2039171  35900  2015    41585        Davis    CA  5TDKK3DC1FS567705   \n",
       "2039180  36995  2015    16033    Fairfield    CA  5TDKK3DC5FS679195   \n",
       "2062970  43950  2017    13569      Hayward    CA  WVGGF7BP7HD001131   \n",
       "\n",
       "               Make              Model  \n",
       "6             Buick          EncoreFWD  \n",
       "25            Buick          EncoreFWD  \n",
       "26            Buick          EncoreFWD  \n",
       "56            Buick  EncoreConvenience  \n",
       "67            Buick          EncoreFWD  \n",
       "...             ...                ...  \n",
       "2037717      Toyota         SiennaXLE,  \n",
       "2039062      Toyota          SiennaLE,  \n",
       "2039171      Toyota          SiennaLE,  \n",
       "2039180      Toyota          SiennaLE,  \n",
       "2062970  Volkswagen          TouaregV6  \n",
       "\n",
       "[108850 rows x 8 columns]"
      ]
     },
     "execution_count": 58,
     "metadata": {},
     "output_type": "execute_result"
    }
   ],
   "source": [
    "df[df['State'] == 'CA']"
   ]
  },
  {
   "cell_type": "markdown",
   "id": "11896ade",
   "metadata": {
    "id": "11896ade"
   },
   "source": [
    "### 3.5.1.2.3 Uppercase the other Columns"
   ]
  },
  {
   "cell_type": "code",
   "execution_count": 59,
   "id": "0d73aaa1",
   "metadata": {
    "id": "0d73aaa1"
   },
   "outputs": [],
   "source": [
    "df.City=df.City.apply(str.upper)\n",
    "df.Make=df.Make.apply(str.upper)\n",
    "df.Model=df.Model.apply(str.upper)"
   ]
  },
  {
   "cell_type": "code",
   "execution_count": 60,
   "id": "a4eabdb7",
   "metadata": {
    "colab": {
     "base_uri": "https://localhost:8080/",
     "height": 0
    },
    "id": "a4eabdb7",
    "outputId": "0ce95907-cf3a-4461-edc6-3c6b2c2837b1"
   },
   "outputs": [
    {
     "data": {
      "text/html": [
       "\n",
       "  <div id=\"df-0c90af38-19c6-4459-81d0-3947cb380719\">\n",
       "    <div class=\"colab-df-container\">\n",
       "      <div>\n",
       "<style scoped>\n",
       "    .dataframe tbody tr th:only-of-type {\n",
       "        vertical-align: middle;\n",
       "    }\n",
       "\n",
       "    .dataframe tbody tr th {\n",
       "        vertical-align: top;\n",
       "    }\n",
       "\n",
       "    .dataframe thead th {\n",
       "        text-align: right;\n",
       "    }\n",
       "</style>\n",
       "<table border=\"1\" class=\"dataframe\">\n",
       "  <thead>\n",
       "    <tr style=\"text-align: right;\">\n",
       "      <th></th>\n",
       "      <th>Price</th>\n",
       "      <th>Year</th>\n",
       "      <th>Mileage</th>\n",
       "      <th>City</th>\n",
       "      <th>State</th>\n",
       "      <th>Vin</th>\n",
       "      <th>Make</th>\n",
       "      <th>Model</th>\n",
       "    </tr>\n",
       "  </thead>\n",
       "  <tbody>\n",
       "    <tr>\n",
       "      <th>0</th>\n",
       "      <td>16472</td>\n",
       "      <td>2015</td>\n",
       "      <td>18681</td>\n",
       "      <td>JEFFERSON CITY</td>\n",
       "      <td>MO</td>\n",
       "      <td>KL4CJBSBXFB267643</td>\n",
       "      <td>BUICK</td>\n",
       "      <td>ENCORECONVENIENCE</td>\n",
       "    </tr>\n",
       "    <tr>\n",
       "      <th>1</th>\n",
       "      <td>15749</td>\n",
       "      <td>2015</td>\n",
       "      <td>27592</td>\n",
       "      <td>HIGHLAND</td>\n",
       "      <td>IN</td>\n",
       "      <td>KL4CJASB5FB245057</td>\n",
       "      <td>BUICK</td>\n",
       "      <td>ENCOREFWD</td>\n",
       "    </tr>\n",
       "    <tr>\n",
       "      <th>2</th>\n",
       "      <td>16998</td>\n",
       "      <td>2015</td>\n",
       "      <td>13650</td>\n",
       "      <td>BOONE</td>\n",
       "      <td>NC</td>\n",
       "      <td>KL4CJCSB0FB264921</td>\n",
       "      <td>BUICK</td>\n",
       "      <td>ENCORELEATHER</td>\n",
       "    </tr>\n",
       "    <tr>\n",
       "      <th>3</th>\n",
       "      <td>15777</td>\n",
       "      <td>2015</td>\n",
       "      <td>25195</td>\n",
       "      <td>NEW ORLEANS</td>\n",
       "      <td>LA</td>\n",
       "      <td>KL4CJASB4FB217542</td>\n",
       "      <td>BUICK</td>\n",
       "      <td>ENCOREFWD</td>\n",
       "    </tr>\n",
       "    <tr>\n",
       "      <th>4</th>\n",
       "      <td>16784</td>\n",
       "      <td>2015</td>\n",
       "      <td>22800</td>\n",
       "      <td>LAS VEGAS</td>\n",
       "      <td>NV</td>\n",
       "      <td>KL4CJBSB3FB166881</td>\n",
       "      <td>BUICK</td>\n",
       "      <td>ENCORECONVENIENCE</td>\n",
       "    </tr>\n",
       "    <tr>\n",
       "      <th>...</th>\n",
       "      <td>...</td>\n",
       "      <td>...</td>\n",
       "      <td>...</td>\n",
       "      <td>...</td>\n",
       "      <td>...</td>\n",
       "      <td>...</td>\n",
       "      <td>...</td>\n",
       "      <td>...</td>\n",
       "    </tr>\n",
       "    <tr>\n",
       "      <th>2059279</th>\n",
       "      <td>17909</td>\n",
       "      <td>2013</td>\n",
       "      <td>36275</td>\n",
       "      <td>CHARLOTTE</td>\n",
       "      <td>NC</td>\n",
       "      <td>WVWHV7AJ0DW009210</td>\n",
       "      <td>VOLKSWAGEN</td>\n",
       "      <td>GTI4-DOOR,</td>\n",
       "    </tr>\n",
       "    <tr>\n",
       "      <th>2062500</th>\n",
       "      <td>18995</td>\n",
       "      <td>2013</td>\n",
       "      <td>43079</td>\n",
       "      <td>MISSION</td>\n",
       "      <td>TX</td>\n",
       "      <td>WVWHV7AJ5DW082797</td>\n",
       "      <td>VOLKSWAGEN</td>\n",
       "      <td>GTI4-DOOR,</td>\n",
       "    </tr>\n",
       "    <tr>\n",
       "      <th>2062580</th>\n",
       "      <td>16551</td>\n",
       "      <td>2013</td>\n",
       "      <td>68107</td>\n",
       "      <td>AUSTIN</td>\n",
       "      <td>TX</td>\n",
       "      <td>WVWHV7AJ4DW123050</td>\n",
       "      <td>VOLKSWAGEN</td>\n",
       "      <td>GTI4-DOOR,</td>\n",
       "    </tr>\n",
       "    <tr>\n",
       "      <th>2062970</th>\n",
       "      <td>43950</td>\n",
       "      <td>2017</td>\n",
       "      <td>13569</td>\n",
       "      <td>HAYWARD</td>\n",
       "      <td>CA</td>\n",
       "      <td>WVGGF7BP7HD001131</td>\n",
       "      <td>VOLKSWAGEN</td>\n",
       "      <td>TOUAREGV6</td>\n",
       "    </tr>\n",
       "    <tr>\n",
       "      <th>2063075</th>\n",
       "      <td>46995</td>\n",
       "      <td>2017</td>\n",
       "      <td>11051</td>\n",
       "      <td>WELLESLEY</td>\n",
       "      <td>MA</td>\n",
       "      <td>WVGGF7BP9HD001129</td>\n",
       "      <td>VOLKSWAGEN</td>\n",
       "      <td>TOUAREGV6</td>\n",
       "    </tr>\n",
       "  </tbody>\n",
       "</table>\n",
       "<p>1146355 rows × 8 columns</p>\n",
       "</div>\n",
       "      <button class=\"colab-df-convert\" onclick=\"convertToInteractive('df-0c90af38-19c6-4459-81d0-3947cb380719')\"\n",
       "              title=\"Convert this dataframe to an interactive table.\"\n",
       "              style=\"display:none;\">\n",
       "        \n",
       "  <svg xmlns=\"http://www.w3.org/2000/svg\" height=\"24px\"viewBox=\"0 0 24 24\"\n",
       "       width=\"24px\">\n",
       "    <path d=\"M0 0h24v24H0V0z\" fill=\"none\"/>\n",
       "    <path d=\"M18.56 5.44l.94 2.06.94-2.06 2.06-.94-2.06-.94-.94-2.06-.94 2.06-2.06.94zm-11 1L8.5 8.5l.94-2.06 2.06-.94-2.06-.94L8.5 2.5l-.94 2.06-2.06.94zm10 10l.94 2.06.94-2.06 2.06-.94-2.06-.94-.94-2.06-.94 2.06-2.06.94z\"/><path d=\"M17.41 7.96l-1.37-1.37c-.4-.4-.92-.59-1.43-.59-.52 0-1.04.2-1.43.59L10.3 9.45l-7.72 7.72c-.78.78-.78 2.05 0 2.83L4 21.41c.39.39.9.59 1.41.59.51 0 1.02-.2 1.41-.59l7.78-7.78 2.81-2.81c.8-.78.8-2.07 0-2.86zM5.41 20L4 18.59l7.72-7.72 1.47 1.35L5.41 20z\"/>\n",
       "  </svg>\n",
       "      </button>\n",
       "      \n",
       "  <style>\n",
       "    .colab-df-container {\n",
       "      display:flex;\n",
       "      flex-wrap:wrap;\n",
       "      gap: 12px;\n",
       "    }\n",
       "\n",
       "    .colab-df-convert {\n",
       "      background-color: #E8F0FE;\n",
       "      border: none;\n",
       "      border-radius: 50%;\n",
       "      cursor: pointer;\n",
       "      display: none;\n",
       "      fill: #1967D2;\n",
       "      height: 32px;\n",
       "      padding: 0 0 0 0;\n",
       "      width: 32px;\n",
       "    }\n",
       "\n",
       "    .colab-df-convert:hover {\n",
       "      background-color: #E2EBFA;\n",
       "      box-shadow: 0px 1px 2px rgba(60, 64, 67, 0.3), 0px 1px 3px 1px rgba(60, 64, 67, 0.15);\n",
       "      fill: #174EA6;\n",
       "    }\n",
       "\n",
       "    [theme=dark] .colab-df-convert {\n",
       "      background-color: #3B4455;\n",
       "      fill: #D2E3FC;\n",
       "    }\n",
       "\n",
       "    [theme=dark] .colab-df-convert:hover {\n",
       "      background-color: #434B5C;\n",
       "      box-shadow: 0px 1px 3px 1px rgba(0, 0, 0, 0.15);\n",
       "      filter: drop-shadow(0px 1px 2px rgba(0, 0, 0, 0.3));\n",
       "      fill: #FFFFFF;\n",
       "    }\n",
       "  </style>\n",
       "\n",
       "      <script>\n",
       "        const buttonEl =\n",
       "          document.querySelector('#df-0c90af38-19c6-4459-81d0-3947cb380719 button.colab-df-convert');\n",
       "        buttonEl.style.display =\n",
       "          google.colab.kernel.accessAllowed ? 'block' : 'none';\n",
       "\n",
       "        async function convertToInteractive(key) {\n",
       "          const element = document.querySelector('#df-0c90af38-19c6-4459-81d0-3947cb380719');\n",
       "          const dataTable =\n",
       "            await google.colab.kernel.invokeFunction('convertToInteractive',\n",
       "                                                     [key], {});\n",
       "          if (!dataTable) return;\n",
       "\n",
       "          const docLinkHtml = 'Like what you see? Visit the ' +\n",
       "            '<a target=\"_blank\" href=https://colab.research.google.com/notebooks/data_table.ipynb>data table notebook</a>'\n",
       "            + ' to learn more about interactive tables.';\n",
       "          element.innerHTML = '';\n",
       "          dataTable['output_type'] = 'display_data';\n",
       "          await google.colab.output.renderOutput(dataTable, element);\n",
       "          const docLink = document.createElement('div');\n",
       "          docLink.innerHTML = docLinkHtml;\n",
       "          element.appendChild(docLink);\n",
       "        }\n",
       "      </script>\n",
       "    </div>\n",
       "  </div>\n",
       "  "
      ],
      "text/plain": [
       "         Price  Year  Mileage            City State                Vin  \\\n",
       "0        16472  2015    18681  JEFFERSON CITY    MO  KL4CJBSBXFB267643   \n",
       "1        15749  2015    27592        HIGHLAND    IN  KL4CJASB5FB245057   \n",
       "2        16998  2015    13650           BOONE    NC  KL4CJCSB0FB264921   \n",
       "3        15777  2015    25195     NEW ORLEANS    LA  KL4CJASB4FB217542   \n",
       "4        16784  2015    22800       LAS VEGAS    NV  KL4CJBSB3FB166881   \n",
       "...        ...   ...      ...             ...   ...                ...   \n",
       "2059279  17909  2013    36275       CHARLOTTE    NC  WVWHV7AJ0DW009210   \n",
       "2062500  18995  2013    43079         MISSION    TX  WVWHV7AJ5DW082797   \n",
       "2062580  16551  2013    68107          AUSTIN    TX  WVWHV7AJ4DW123050   \n",
       "2062970  43950  2017    13569         HAYWARD    CA  WVGGF7BP7HD001131   \n",
       "2063075  46995  2017    11051       WELLESLEY    MA  WVGGF7BP9HD001129   \n",
       "\n",
       "               Make              Model  \n",
       "0             BUICK  ENCORECONVENIENCE  \n",
       "1             BUICK          ENCOREFWD  \n",
       "2             BUICK      ENCORELEATHER  \n",
       "3             BUICK          ENCOREFWD  \n",
       "4             BUICK  ENCORECONVENIENCE  \n",
       "...             ...                ...  \n",
       "2059279  VOLKSWAGEN         GTI4-DOOR,  \n",
       "2062500  VOLKSWAGEN         GTI4-DOOR,  \n",
       "2062580  VOLKSWAGEN         GTI4-DOOR,  \n",
       "2062970  VOLKSWAGEN          TOUAREGV6  \n",
       "2063075  VOLKSWAGEN          TOUAREGV6  \n",
       "\n",
       "[1146355 rows x 8 columns]"
      ]
     },
     "execution_count": 60,
     "metadata": {},
     "output_type": "execute_result"
    }
   ],
   "source": [
    "df"
   ]
  },
  {
   "cell_type": "markdown",
   "id": "05da5900",
   "metadata": {
    "id": "05da5900"
   },
   "source": [
    "### 3.5.1.2.4 Removing Vin Column"
   ]
  },
  {
   "cell_type": "code",
   "execution_count": 61,
   "id": "5104e368",
   "metadata": {
    "id": "5104e368"
   },
   "outputs": [],
   "source": [
    "df.drop(\"Vin\", axis = 1, inplace =True)"
   ]
  },
  {
   "cell_type": "markdown",
   "id": "c58ff4fd",
   "metadata": {
    "id": "c58ff4fd"
   },
   "source": [
    "new_set.drop(\"Vin\", axis = 1, inplace =True)\n",
    "old_set.drop(\"Vin\", axis = 1, inplace =True)"
   ]
  },
  {
   "cell_type": "markdown",
   "id": "6edad426",
   "metadata": {
    "id": "6edad426"
   },
   "source": [
    "new_set.head()"
   ]
  },
  {
   "cell_type": "markdown",
   "id": "ed854e83",
   "metadata": {
    "id": "ed854e83"
   },
   "source": [
    "old_set.tail()"
   ]
  },
  {
   "cell_type": "markdown",
   "id": "cf44ead2",
   "metadata": {
    "id": "cf44ead2"
   },
   "source": [
    "### 4. Feature Engineering :"
   ]
  },
  {
   "cell_type": "code",
   "execution_count": 62,
   "id": "a249e550",
   "metadata": {
    "colab": {
     "base_uri": "https://localhost:8080/"
    },
    "id": "a249e550",
    "outputId": "0774a90c-8286-491c-ad42-b92373480e3f"
   },
   "outputs": [
    {
     "data": {
      "text/plain": [
       "array([2015, 2016, 2014, 2017, 2013, 2006, 2005, 2012, 2011, 2009, 2008,\n",
       "       2001, 2010, 2004, 2007, 2018, 2002, 2000, 1999, 2003, 1998, 1997])"
      ]
     },
     "execution_count": 62,
     "metadata": {},
     "output_type": "execute_result"
    }
   ],
   "source": [
    "df['Year'].unique()"
   ]
  },
  {
   "cell_type": "markdown",
   "id": "557cf945",
   "metadata": {
    "id": "557cf945"
   },
   "source": [
    "**Processing Years to Derive Age of car**"
   ]
  },
  {
   "cell_type": "markdown",
   "id": "bc7480bd",
   "metadata": {
    "id": "bc7480bd"
   },
   "source": [
    "Since year has 2015, 1998 etc. But this will not help to understand how old cars is and its effect on price. so creating two new columns current year and Age . Current year would be 2022 and Age column would be Ageofcar= currentyear-year. And then drop currentyear columns"
   ]
  },
  {
   "cell_type": "code",
   "execution_count": 63,
   "id": "3b5826e8",
   "metadata": {
    "colab": {
     "base_uri": "https://localhost:8080/",
     "height": 206
    },
    "id": "3b5826e8",
    "outputId": "822d2a49-e940-490e-c848-1f09002309f2"
   },
   "outputs": [
    {
     "data": {
      "text/html": [
       "\n",
       "  <div id=\"df-59395c00-b9ab-44ed-9609-9e569150cd50\">\n",
       "    <div class=\"colab-df-container\">\n",
       "      <div>\n",
       "<style scoped>\n",
       "    .dataframe tbody tr th:only-of-type {\n",
       "        vertical-align: middle;\n",
       "    }\n",
       "\n",
       "    .dataframe tbody tr th {\n",
       "        vertical-align: top;\n",
       "    }\n",
       "\n",
       "    .dataframe thead th {\n",
       "        text-align: right;\n",
       "    }\n",
       "</style>\n",
       "<table border=\"1\" class=\"dataframe\">\n",
       "  <thead>\n",
       "    <tr style=\"text-align: right;\">\n",
       "      <th></th>\n",
       "      <th>Price</th>\n",
       "      <th>Year</th>\n",
       "      <th>Mileage</th>\n",
       "      <th>City</th>\n",
       "      <th>State</th>\n",
       "      <th>Make</th>\n",
       "      <th>Model</th>\n",
       "      <th>Age of car</th>\n",
       "    </tr>\n",
       "  </thead>\n",
       "  <tbody>\n",
       "    <tr>\n",
       "      <th>0</th>\n",
       "      <td>16472</td>\n",
       "      <td>2015</td>\n",
       "      <td>18681</td>\n",
       "      <td>JEFFERSON CITY</td>\n",
       "      <td>MO</td>\n",
       "      <td>BUICK</td>\n",
       "      <td>ENCORECONVENIENCE</td>\n",
       "      <td>7</td>\n",
       "    </tr>\n",
       "    <tr>\n",
       "      <th>1</th>\n",
       "      <td>15749</td>\n",
       "      <td>2015</td>\n",
       "      <td>27592</td>\n",
       "      <td>HIGHLAND</td>\n",
       "      <td>IN</td>\n",
       "      <td>BUICK</td>\n",
       "      <td>ENCOREFWD</td>\n",
       "      <td>7</td>\n",
       "    </tr>\n",
       "    <tr>\n",
       "      <th>2</th>\n",
       "      <td>16998</td>\n",
       "      <td>2015</td>\n",
       "      <td>13650</td>\n",
       "      <td>BOONE</td>\n",
       "      <td>NC</td>\n",
       "      <td>BUICK</td>\n",
       "      <td>ENCORELEATHER</td>\n",
       "      <td>7</td>\n",
       "    </tr>\n",
       "    <tr>\n",
       "      <th>3</th>\n",
       "      <td>15777</td>\n",
       "      <td>2015</td>\n",
       "      <td>25195</td>\n",
       "      <td>NEW ORLEANS</td>\n",
       "      <td>LA</td>\n",
       "      <td>BUICK</td>\n",
       "      <td>ENCOREFWD</td>\n",
       "      <td>7</td>\n",
       "    </tr>\n",
       "    <tr>\n",
       "      <th>4</th>\n",
       "      <td>16784</td>\n",
       "      <td>2015</td>\n",
       "      <td>22800</td>\n",
       "      <td>LAS VEGAS</td>\n",
       "      <td>NV</td>\n",
       "      <td>BUICK</td>\n",
       "      <td>ENCORECONVENIENCE</td>\n",
       "      <td>7</td>\n",
       "    </tr>\n",
       "  </tbody>\n",
       "</table>\n",
       "</div>\n",
       "      <button class=\"colab-df-convert\" onclick=\"convertToInteractive('df-59395c00-b9ab-44ed-9609-9e569150cd50')\"\n",
       "              title=\"Convert this dataframe to an interactive table.\"\n",
       "              style=\"display:none;\">\n",
       "        \n",
       "  <svg xmlns=\"http://www.w3.org/2000/svg\" height=\"24px\"viewBox=\"0 0 24 24\"\n",
       "       width=\"24px\">\n",
       "    <path d=\"M0 0h24v24H0V0z\" fill=\"none\"/>\n",
       "    <path d=\"M18.56 5.44l.94 2.06.94-2.06 2.06-.94-2.06-.94-.94-2.06-.94 2.06-2.06.94zm-11 1L8.5 8.5l.94-2.06 2.06-.94-2.06-.94L8.5 2.5l-.94 2.06-2.06.94zm10 10l.94 2.06.94-2.06 2.06-.94-2.06-.94-.94-2.06-.94 2.06-2.06.94z\"/><path d=\"M17.41 7.96l-1.37-1.37c-.4-.4-.92-.59-1.43-.59-.52 0-1.04.2-1.43.59L10.3 9.45l-7.72 7.72c-.78.78-.78 2.05 0 2.83L4 21.41c.39.39.9.59 1.41.59.51 0 1.02-.2 1.41-.59l7.78-7.78 2.81-2.81c.8-.78.8-2.07 0-2.86zM5.41 20L4 18.59l7.72-7.72 1.47 1.35L5.41 20z\"/>\n",
       "  </svg>\n",
       "      </button>\n",
       "      \n",
       "  <style>\n",
       "    .colab-df-container {\n",
       "      display:flex;\n",
       "      flex-wrap:wrap;\n",
       "      gap: 12px;\n",
       "    }\n",
       "\n",
       "    .colab-df-convert {\n",
       "      background-color: #E8F0FE;\n",
       "      border: none;\n",
       "      border-radius: 50%;\n",
       "      cursor: pointer;\n",
       "      display: none;\n",
       "      fill: #1967D2;\n",
       "      height: 32px;\n",
       "      padding: 0 0 0 0;\n",
       "      width: 32px;\n",
       "    }\n",
       "\n",
       "    .colab-df-convert:hover {\n",
       "      background-color: #E2EBFA;\n",
       "      box-shadow: 0px 1px 2px rgba(60, 64, 67, 0.3), 0px 1px 3px 1px rgba(60, 64, 67, 0.15);\n",
       "      fill: #174EA6;\n",
       "    }\n",
       "\n",
       "    [theme=dark] .colab-df-convert {\n",
       "      background-color: #3B4455;\n",
       "      fill: #D2E3FC;\n",
       "    }\n",
       "\n",
       "    [theme=dark] .colab-df-convert:hover {\n",
       "      background-color: #434B5C;\n",
       "      box-shadow: 0px 1px 3px 1px rgba(0, 0, 0, 0.15);\n",
       "      filter: drop-shadow(0px 1px 2px rgba(0, 0, 0, 0.3));\n",
       "      fill: #FFFFFF;\n",
       "    }\n",
       "  </style>\n",
       "\n",
       "      <script>\n",
       "        const buttonEl =\n",
       "          document.querySelector('#df-59395c00-b9ab-44ed-9609-9e569150cd50 button.colab-df-convert');\n",
       "        buttonEl.style.display =\n",
       "          google.colab.kernel.accessAllowed ? 'block' : 'none';\n",
       "\n",
       "        async function convertToInteractive(key) {\n",
       "          const element = document.querySelector('#df-59395c00-b9ab-44ed-9609-9e569150cd50');\n",
       "          const dataTable =\n",
       "            await google.colab.kernel.invokeFunction('convertToInteractive',\n",
       "                                                     [key], {});\n",
       "          if (!dataTable) return;\n",
       "\n",
       "          const docLinkHtml = 'Like what you see? Visit the ' +\n",
       "            '<a target=\"_blank\" href=https://colab.research.google.com/notebooks/data_table.ipynb>data table notebook</a>'\n",
       "            + ' to learn more about interactive tables.';\n",
       "          element.innerHTML = '';\n",
       "          dataTable['output_type'] = 'display_data';\n",
       "          await google.colab.output.renderOutput(dataTable, element);\n",
       "          const docLink = document.createElement('div');\n",
       "          docLink.innerHTML = docLinkHtml;\n",
       "          element.appendChild(docLink);\n",
       "        }\n",
       "      </script>\n",
       "    </div>\n",
       "  </div>\n",
       "  "
      ],
      "text/plain": [
       "   Price  Year  Mileage            City State   Make              Model  \\\n",
       "0  16472  2015    18681  JEFFERSON CITY    MO  BUICK  ENCORECONVENIENCE   \n",
       "1  15749  2015    27592        HIGHLAND    IN  BUICK          ENCOREFWD   \n",
       "2  16998  2015    13650           BOONE    NC  BUICK      ENCORELEATHER   \n",
       "3  15777  2015    25195     NEW ORLEANS    LA  BUICK          ENCOREFWD   \n",
       "4  16784  2015    22800       LAS VEGAS    NV  BUICK  ENCORECONVENIENCE   \n",
       "\n",
       "   Age of car  \n",
       "0           7  \n",
       "1           7  \n",
       "2           7  \n",
       "3           7  \n",
       "4           7  "
      ]
     },
     "execution_count": 63,
     "metadata": {},
     "output_type": "execute_result"
    }
   ],
   "source": [
    "df['Current_year']=2022\n",
    "df['Age of car']=df['Current_year']-df['Year']\n",
    "df.drop('Current_year',axis=1,inplace=True)\n",
    "df.head()"
   ]
  },
  {
   "cell_type": "code",
   "execution_count": 64,
   "id": "13964975",
   "metadata": {
    "colab": {
     "base_uri": "https://localhost:8080/",
     "height": 317
    },
    "id": "13964975",
    "outputId": "33c1a931-fe70-4ae9-c823-761908db9f63"
   },
   "outputs": [
    {
     "data": {
      "text/plain": [
       "Text(0.5, 1.0, 'Price and Age_of_car Relationship')"
      ]
     },
     "execution_count": 64,
     "metadata": {},
     "output_type": "execute_result"
    },
    {
     "data": {
      "image/png": "[encoded data removed]",
      "text/plain": [
       "<Figure size 504x288 with 1 Axes>"
      ]
     },
     "metadata": {},
     "output_type": "display_data"
    }
   ],
   "source": [
    "# Price and year relationship\n",
    "plt.figure(figsize=[7,4])\n",
    "\n",
    "sns.regplot(x=df['Age of car'][:1000], y=df['Price'][:1000], color = 'blue', marker = 'o').set_title(\"Price and Age_of_car Relationship\")"
   ]
  },
  {
   "cell_type": "markdown",
   "id": "91e13cd8",
   "metadata": {
    "id": "91e13cd8"
   },
   "source": [
    "**Observations**\n",
    "1. The price of car with low age is comparitively more.\n",
    "2. The price of car with more age(i.e more than 15) is less."
   ]
  },
  {
   "cell_type": "markdown",
   "id": "54366616",
   "metadata": {
    "id": "54366616"
   },
   "source": [
    "**Cars divided according to their Mileage('Miles travelled') to a new column Car Usage.**\n",
    "1. Cars with Mileage less than 25000 are categorized as low.\n",
    "2. Cars with Mileage in between 25000 and 80000 are categorized as moderate.\n",
    "3. Cars with Mileage above 80000."
   ]
  },
  {
   "cell_type": "code",
   "execution_count": 65,
   "id": "cfecb1c9",
   "metadata": {
    "id": "cfecb1c9"
   },
   "outputs": [],
   "source": [
    "#Function to determine the Car Usage\n",
    "\n",
    "def Usage(value):\n",
    "    if value < 25000 :\n",
    "        result = 'Low'\n",
    "    elif (value >= 25000 & value <= 80000) :\n",
    "        result = 'Moderate'\n",
    "    else:\n",
    "        result = 'High'\n",
    "    return result\n",
    "\n",
    "\n",
    "df['Car Usage'] = df['Mileage'].apply(Usage)"
   ]
  },
  {
   "cell_type": "code",
   "execution_count": 66,
   "id": "9ac2367a",
   "metadata": {
    "colab": {
     "base_uri": "https://localhost:8080/",
     "height": 423
    },
    "id": "9ac2367a",
    "outputId": "a82b1f3e-f18e-4b96-c452-8588caffa245"
   },
   "outputs": [
    {
     "data": {
      "text/html": [
       "\n",
       "  <div id=\"df-9eefe97b-69d3-4ab7-aab7-18af861a1809\">\n",
       "    <div class=\"colab-df-container\">\n",
       "      <div>\n",
       "<style scoped>\n",
       "    .dataframe tbody tr th:only-of-type {\n",
       "        vertical-align: middle;\n",
       "    }\n",
       "\n",
       "    .dataframe tbody tr th {\n",
       "        vertical-align: top;\n",
       "    }\n",
       "\n",
       "    .dataframe thead th {\n",
       "        text-align: right;\n",
       "    }\n",
       "</style>\n",
       "<table border=\"1\" class=\"dataframe\">\n",
       "  <thead>\n",
       "    <tr style=\"text-align: right;\">\n",
       "      <th></th>\n",
       "      <th>Price</th>\n",
       "      <th>Year</th>\n",
       "      <th>Mileage</th>\n",
       "      <th>City</th>\n",
       "      <th>State</th>\n",
       "      <th>Make</th>\n",
       "      <th>Model</th>\n",
       "      <th>Age of car</th>\n",
       "      <th>Car Usage</th>\n",
       "    </tr>\n",
       "  </thead>\n",
       "  <tbody>\n",
       "    <tr>\n",
       "      <th>0</th>\n",
       "      <td>16472</td>\n",
       "      <td>2015</td>\n",
       "      <td>18681</td>\n",
       "      <td>JEFFERSON CITY</td>\n",
       "      <td>MO</td>\n",
       "      <td>BUICK</td>\n",
       "      <td>ENCORECONVENIENCE</td>\n",
       "      <td>7</td>\n",
       "      <td>Low</td>\n",
       "    </tr>\n",
       "    <tr>\n",
       "      <th>1</th>\n",
       "      <td>15749</td>\n",
       "      <td>2015</td>\n",
       "      <td>27592</td>\n",
       "      <td>HIGHLAND</td>\n",
       "      <td>IN</td>\n",
       "      <td>BUICK</td>\n",
       "      <td>ENCOREFWD</td>\n",
       "      <td>7</td>\n",
       "      <td>Moderate</td>\n",
       "    </tr>\n",
       "    <tr>\n",
       "      <th>2</th>\n",
       "      <td>16998</td>\n",
       "      <td>2015</td>\n",
       "      <td>13650</td>\n",
       "      <td>BOONE</td>\n",
       "      <td>NC</td>\n",
       "      <td>BUICK</td>\n",
       "      <td>ENCORELEATHER</td>\n",
       "      <td>7</td>\n",
       "      <td>Low</td>\n",
       "    </tr>\n",
       "    <tr>\n",
       "      <th>3</th>\n",
       "      <td>15777</td>\n",
       "      <td>2015</td>\n",
       "      <td>25195</td>\n",
       "      <td>NEW ORLEANS</td>\n",
       "      <td>LA</td>\n",
       "      <td>BUICK</td>\n",
       "      <td>ENCOREFWD</td>\n",
       "      <td>7</td>\n",
       "      <td>Moderate</td>\n",
       "    </tr>\n",
       "    <tr>\n",
       "      <th>4</th>\n",
       "      <td>16784</td>\n",
       "      <td>2015</td>\n",
       "      <td>22800</td>\n",
       "      <td>LAS VEGAS</td>\n",
       "      <td>NV</td>\n",
       "      <td>BUICK</td>\n",
       "      <td>ENCORECONVENIENCE</td>\n",
       "      <td>7</td>\n",
       "      <td>Low</td>\n",
       "    </tr>\n",
       "    <tr>\n",
       "      <th>...</th>\n",
       "      <td>...</td>\n",
       "      <td>...</td>\n",
       "      <td>...</td>\n",
       "      <td>...</td>\n",
       "      <td>...</td>\n",
       "      <td>...</td>\n",
       "      <td>...</td>\n",
       "      <td>...</td>\n",
       "      <td>...</td>\n",
       "    </tr>\n",
       "    <tr>\n",
       "      <th>2059279</th>\n",
       "      <td>17909</td>\n",
       "      <td>2013</td>\n",
       "      <td>36275</td>\n",
       "      <td>CHARLOTTE</td>\n",
       "      <td>NC</td>\n",
       "      <td>VOLKSWAGEN</td>\n",
       "      <td>GTI4-DOOR,</td>\n",
       "      <td>9</td>\n",
       "      <td>Moderate</td>\n",
       "    </tr>\n",
       "    <tr>\n",
       "      <th>2062500</th>\n",
       "      <td>18995</td>\n",
       "      <td>2013</td>\n",
       "      <td>43079</td>\n",
       "      <td>MISSION</td>\n",
       "      <td>TX</td>\n",
       "      <td>VOLKSWAGEN</td>\n",
       "      <td>GTI4-DOOR,</td>\n",
       "      <td>9</td>\n",
       "      <td>Moderate</td>\n",
       "    </tr>\n",
       "    <tr>\n",
       "      <th>2062580</th>\n",
       "      <td>16551</td>\n",
       "      <td>2013</td>\n",
       "      <td>68107</td>\n",
       "      <td>AUSTIN</td>\n",
       "      <td>TX</td>\n",
       "      <td>VOLKSWAGEN</td>\n",
       "      <td>GTI4-DOOR,</td>\n",
       "      <td>9</td>\n",
       "      <td>Moderate</td>\n",
       "    </tr>\n",
       "    <tr>\n",
       "      <th>2062970</th>\n",
       "      <td>43950</td>\n",
       "      <td>2017</td>\n",
       "      <td>13569</td>\n",
       "      <td>HAYWARD</td>\n",
       "      <td>CA</td>\n",
       "      <td>VOLKSWAGEN</td>\n",
       "      <td>TOUAREGV6</td>\n",
       "      <td>5</td>\n",
       "      <td>Low</td>\n",
       "    </tr>\n",
       "    <tr>\n",
       "      <th>2063075</th>\n",
       "      <td>46995</td>\n",
       "      <td>2017</td>\n",
       "      <td>11051</td>\n",
       "      <td>WELLESLEY</td>\n",
       "      <td>MA</td>\n",
       "      <td>VOLKSWAGEN</td>\n",
       "      <td>TOUAREGV6</td>\n",
       "      <td>5</td>\n",
       "      <td>Low</td>\n",
       "    </tr>\n",
       "  </tbody>\n",
       "</table>\n",
       "<p>1146355 rows × 9 columns</p>\n",
       "</div>\n",
       "      <button class=\"colab-df-convert\" onclick=\"convertToInteractive('df-9eefe97b-69d3-4ab7-aab7-18af861a1809')\"\n",
       "              title=\"Convert this dataframe to an interactive table.\"\n",
       "              style=\"display:none;\">\n",
       "        \n",
       "  <svg xmlns=\"http://www.w3.org/2000/svg\" height=\"24px\"viewBox=\"0 0 24 24\"\n",
       "       width=\"24px\">\n",
       "    <path d=\"M0 0h24v24H0V0z\" fill=\"none\"/>\n",
       "    <path d=\"M18.56 5.44l.94 2.06.94-2.06 2.06-.94-2.06-.94-.94-2.06-.94 2.06-2.06.94zm-11 1L8.5 8.5l.94-2.06 2.06-.94-2.06-.94L8.5 2.5l-.94 2.06-2.06.94zm10 10l.94 2.06.94-2.06 2.06-.94-2.06-.94-.94-2.06-.94 2.06-2.06.94z\"/><path d=\"M17.41 7.96l-1.37-1.37c-.4-.4-.92-.59-1.43-.59-.52 0-1.04.2-1.43.59L10.3 9.45l-7.72 7.72c-.78.78-.78 2.05 0 2.83L4 21.41c.39.39.9.59 1.41.59.51 0 1.02-.2 1.41-.59l7.78-7.78 2.81-2.81c.8-.78.8-2.07 0-2.86zM5.41 20L4 18.59l7.72-7.72 1.47 1.35L5.41 20z\"/>\n",
       "  </svg>\n",
       "      </button>\n",
       "      \n",
       "  <style>\n",
       "    .colab-df-container {\n",
       "      display:flex;\n",
       "      flex-wrap:wrap;\n",
       "      gap: 12px;\n",
       "    }\n",
       "\n",
       "    .colab-df-convert {\n",
       "      background-color: #E8F0FE;\n",
       "      border: none;\n",
       "      border-radius: 50%;\n",
       "      cursor: pointer;\n",
       "      display: none;\n",
       "      fill: #1967D2;\n",
       "      height: 32px;\n",
       "      padding: 0 0 0 0;\n",
       "      width: 32px;\n",
       "    }\n",
       "\n",
       "    .colab-df-convert:hover {\n",
       "      background-color: #E2EBFA;\n",
       "      box-shadow: 0px 1px 2px rgba(60, 64, 67, 0.3), 0px 1px 3px 1px rgba(60, 64, 67, 0.15);\n",
       "      fill: #174EA6;\n",
       "    }\n",
       "\n",
       "    [theme=dark] .colab-df-convert {\n",
       "      background-color: #3B4455;\n",
       "      fill: #D2E3FC;\n",
       "    }\n",
       "\n",
       "    [theme=dark] .colab-df-convert:hover {\n",
       "      background-color: #434B5C;\n",
       "      box-shadow: 0px 1px 3px 1px rgba(0, 0, 0, 0.15);\n",
       "      filter: drop-shadow(0px 1px 2px rgba(0, 0, 0, 0.3));\n",
       "      fill: #FFFFFF;\n",
       "    }\n",
       "  </style>\n",
       "\n",
       "      <script>\n",
       "        const buttonEl =\n",
       "          document.querySelector('#df-9eefe97b-69d3-4ab7-aab7-18af861a1809 button.colab-df-convert');\n",
       "        buttonEl.style.display =\n",
       "          google.colab.kernel.accessAllowed ? 'block' : 'none';\n",
       "\n",
       "        async function convertToInteractive(key) {\n",
       "          const element = document.querySelector('#df-9eefe97b-69d3-4ab7-aab7-18af861a1809');\n",
       "          const dataTable =\n",
       "            await google.colab.kernel.invokeFunction('convertToInteractive',\n",
       "                                                     [key], {});\n",
       "          if (!dataTable) return;\n",
       "\n",
       "          const docLinkHtml = 'Like what you see? Visit the ' +\n",
       "            '<a target=\"_blank\" href=https://colab.research.google.com/notebooks/data_table.ipynb>data table notebook</a>'\n",
       "            + ' to learn more about interactive tables.';\n",
       "          element.innerHTML = '';\n",
       "          dataTable['output_type'] = 'display_data';\n",
       "          await google.colab.output.renderOutput(dataTable, element);\n",
       "          const docLink = document.createElement('div');\n",
       "          docLink.innerHTML = docLinkHtml;\n",
       "          element.appendChild(docLink);\n",
       "        }\n",
       "      </script>\n",
       "    </div>\n",
       "  </div>\n",
       "  "
      ],
      "text/plain": [
       "         Price  Year  Mileage            City State        Make  \\\n",
       "0        16472  2015    18681  JEFFERSON CITY    MO       BUICK   \n",
       "1        15749  2015    27592        HIGHLAND    IN       BUICK   \n",
       "2        16998  2015    13650           BOONE    NC       BUICK   \n",
       "3        15777  2015    25195     NEW ORLEANS    LA       BUICK   \n",
       "4        16784  2015    22800       LAS VEGAS    NV       BUICK   \n",
       "...        ...   ...      ...             ...   ...         ...   \n",
       "2059279  17909  2013    36275       CHARLOTTE    NC  VOLKSWAGEN   \n",
       "2062500  18995  2013    43079         MISSION    TX  VOLKSWAGEN   \n",
       "2062580  16551  2013    68107          AUSTIN    TX  VOLKSWAGEN   \n",
       "2062970  43950  2017    13569         HAYWARD    CA  VOLKSWAGEN   \n",
       "2063075  46995  2017    11051       WELLESLEY    MA  VOLKSWAGEN   \n",
       "\n",
       "                     Model  Age of car Car Usage  \n",
       "0        ENCORECONVENIENCE           7       Low  \n",
       "1                ENCOREFWD           7  Moderate  \n",
       "2            ENCORELEATHER           7       Low  \n",
       "3                ENCOREFWD           7  Moderate  \n",
       "4        ENCORECONVENIENCE           7       Low  \n",
       "...                    ...         ...       ...  \n",
       "2059279         GTI4-DOOR,           9  Moderate  \n",
       "2062500         GTI4-DOOR,           9  Moderate  \n",
       "2062580         GTI4-DOOR,           9  Moderate  \n",
       "2062970          TOUAREGV6           5       Low  \n",
       "2063075          TOUAREGV6           5       Low  \n",
       "\n",
       "[1146355 rows x 9 columns]"
      ]
     },
     "execution_count": 66,
     "metadata": {},
     "output_type": "execute_result"
    }
   ],
   "source": [
    "df"
   ]
  },
  {
   "cell_type": "code",
   "execution_count": 67,
   "id": "75139e8f",
   "metadata": {
    "colab": {
     "base_uri": "https://localhost:8080/",
     "height": 299
    },
    "id": "75139e8f",
    "outputId": "444a3018-fa0b-44b2-f69a-f44ba8316905"
   },
   "outputs": [
    {
     "data": {
      "text/plain": [
       "<matplotlib.axes._subplots.AxesSubplot at 0x7f440f99f1d0>"
      ]
     },
     "execution_count": 67,
     "metadata": {},
     "output_type": "execute_result"
    },
    {
     "data": {
      "image/png": "[encoded data removed]",
      "text/plain": [
       "<Figure size 432x288 with 1 Axes>"
      ]
     },
     "metadata": {},
     "output_type": "display_data"
    }
   ],
   "source": [
    "sns.scatterplot(x = df[\"Year\"], y = df[\"Price\"][:10000], hue = df['Car Usage'])"
   ]
  },
  {
   "cell_type": "markdown",
   "id": "2b747b52",
   "metadata": {
    "id": "2b747b52"
   },
   "source": [
    "**Observations**\n",
    "1. The Cars of Year after 2015 have a usage level of low.\n",
    "2. The number of cars with a moderate usage level are more.  "
   ]
  },
  {
   "cell_type": "code",
   "execution_count": 68,
   "id": "a880dae8",
   "metadata": {
    "colab": {
     "base_uri": "https://localhost:8080/"
    },
    "id": "a880dae8",
    "outputId": "19968550-e519-4f70-ded2-db3f7d866e3e"
   },
   "outputs": [
    {
     "data": {
      "text/plain": [
       "count     1146355\n",
       "unique       2445\n",
       "top       HOUSTON\n",
       "freq        19331\n",
       "Name: City, dtype: object"
      ]
     },
     "execution_count": 68,
     "metadata": {},
     "output_type": "execute_result"
    }
   ],
   "source": [
    "df['City'].describe()"
   ]
  },
  {
   "cell_type": "markdown",
   "id": "8381909e",
   "metadata": {
    "id": "8381909e"
   },
   "source": [
    "**Cars divided in order of the City importance. The cities with high frequency of cars are considered importance of high.Two list consists of city names l1 and l2. l1 list contains top 20 cities according to the frequency distribution. While l2 consists upto top 50 and considered as importance of moderate. And the rest cities are considered as of low importance**"
   ]
  },
  {
   "cell_type": "code",
   "execution_count": 69,
   "id": "71514cb9",
   "metadata": {
    "id": "71514cb9"
   },
   "outputs": [],
   "source": [
    "l1 = ['HOUSTON', 'SAN ANTONIO', 'LOUISVILLE', 'AUSTIN', 'JACKSONVILLE', 'ORLANDO', 'MIAMI', 'COLORADO SPRINGS', 'RALEIGH', 'COLUMBIA', 'PHILADELPHIA', 'DALLAS', 'PHOENIX', 'TUCSON', 'LAS VEGAS', 'TAMPA', 'COLUMBUS', 'MARIETTA', 'CHARLOTTE', 'VICTORVILLE']"
   ]
  },
  {
   "cell_type": "code",
   "execution_count": 70,
   "id": "62a06946",
   "metadata": {
    "id": "62a06946"
   },
   "outputs": [],
   "source": [
    "l2 = ['CHICAGO', 'PLANO', 'INDIANAPOLIS', 'EL PASO', 'ALBUQUERQUE', 'SPRINGFIELD', 'ARLINGTON', 'PUYALLUP', 'SACRAMENTO', 'FORT WORTH', 'CHANTILLY', 'OKLAHOMA CITY', 'CONCORD', 'MANASSAS', 'LAKEWOOD', 'FREDERICKSBURG', 'SAN DIEGO', 'DULUTH', 'RICHMOND', 'CINCINNATI', 'MADISON', 'CARROLLTON', 'TACOMA', 'UNION CITY', 'VIRGINIA BEACH', 'ENGLEWOOD', 'FAYETTEVILLE', 'WEST PALM BEACH', 'SAN JOSE', 'WILMINGTON', 'PENSACOLA', 'HOLLYWOOD', 'SARASOTA', 'TEMPE', 'AUBURN', 'GAINESVILLE', 'TULSA', 'SCOTTSDALE', 'PORTLAND', 'ESCONDIDO', 'NASHVILLE', 'MESA', 'DORAL', 'OMAHA', 'SANFORD', 'LAFAYETTE', 'LITTLE ROCK', 'PEORIA', 'BALTIMORE', 'CORPUS CHRISTI', 'AURORA', 'MEMPHIS', 'BEDFORD', 'MCKINNEY', 'BURLINGTON', 'CHESAPEAKE', 'HONOLULU', 'EL CAJON', 'KILLEEN', 'DENVER', 'MILWAUKEE', 'KANSAS CITY', 'SCHAUMBURG', 'SAVANNAH', 'BUFORD', 'ALEXANDRIA', 'LEXINGTON', 'LITTLETON', 'FAIRFIELD', 'GREENSBORO', 'GREENVILLE', 'GRAPEVINE', 'ATLANTA', 'MERRIAM', 'HENDERSON', 'BELLEVUE', 'FREMONT', 'LONG ISLAND CITY', 'SEATTLE', 'SALT LAKE CITY']"
   ]
  },
  {
   "cell_type": "code",
   "execution_count": 71,
   "id": "13e9ae7a",
   "metadata": {
    "id": "13e9ae7a"
   },
   "outputs": [],
   "source": [
    "#Function to determine the City Importance\n",
    "\n",
    "def importance(value):\n",
    "    if value in l1 :\n",
    "        result = 'High'\n",
    "    elif value in l2 :\n",
    "        result = 'Moderate'\n",
    "    else:\n",
    "        result = 'Low'\n",
    "    return result\n",
    "\n",
    "\n",
    "df['City Importance'] = df['City'].apply(importance)"
   ]
  },
  {
   "cell_type": "code",
   "execution_count": 72,
   "id": "ef41f88d",
   "metadata": {
    "colab": {
     "base_uri": "https://localhost:8080/",
     "height": 423
    },
    "id": "ef41f88d",
    "outputId": "4ac808d5-46a3-46ef-81c6-a39b2b3f640b"
   },
   "outputs": [
    {
     "data": {
      "text/html": [
       "\n",
       "  <div id=\"df-5e94fcf6-4ed6-4bb0-ac05-e0d99b539fce\">\n",
       "    <div class=\"colab-df-container\">\n",
       "      <div>\n",
       "<style scoped>\n",
       "    .dataframe tbody tr th:only-of-type {\n",
       "        vertical-align: middle;\n",
       "    }\n",
       "\n",
       "    .dataframe tbody tr th {\n",
       "        vertical-align: top;\n",
       "    }\n",
       "\n",
       "    .dataframe thead th {\n",
       "        text-align: right;\n",
       "    }\n",
       "</style>\n",
       "<table border=\"1\" class=\"dataframe\">\n",
       "  <thead>\n",
       "    <tr style=\"text-align: right;\">\n",
       "      <th></th>\n",
       "      <th>Price</th>\n",
       "      <th>Year</th>\n",
       "      <th>Mileage</th>\n",
       "      <th>City</th>\n",
       "      <th>State</th>\n",
       "      <th>Make</th>\n",
       "      <th>Model</th>\n",
       "      <th>Age of car</th>\n",
       "      <th>Car Usage</th>\n",
       "      <th>City Importance</th>\n",
       "    </tr>\n",
       "  </thead>\n",
       "  <tbody>\n",
       "    <tr>\n",
       "      <th>0</th>\n",
       "      <td>16472</td>\n",
       "      <td>2015</td>\n",
       "      <td>18681</td>\n",
       "      <td>JEFFERSON CITY</td>\n",
       "      <td>MO</td>\n",
       "      <td>BUICK</td>\n",
       "      <td>ENCORECONVENIENCE</td>\n",
       "      <td>7</td>\n",
       "      <td>Low</td>\n",
       "      <td>Low</td>\n",
       "    </tr>\n",
       "    <tr>\n",
       "      <th>1</th>\n",
       "      <td>15749</td>\n",
       "      <td>2015</td>\n",
       "      <td>27592</td>\n",
       "      <td>HIGHLAND</td>\n",
       "      <td>IN</td>\n",
       "      <td>BUICK</td>\n",
       "      <td>ENCOREFWD</td>\n",
       "      <td>7</td>\n",
       "      <td>Moderate</td>\n",
       "      <td>Low</td>\n",
       "    </tr>\n",
       "    <tr>\n",
       "      <th>2</th>\n",
       "      <td>16998</td>\n",
       "      <td>2015</td>\n",
       "      <td>13650</td>\n",
       "      <td>BOONE</td>\n",
       "      <td>NC</td>\n",
       "      <td>BUICK</td>\n",
       "      <td>ENCORELEATHER</td>\n",
       "      <td>7</td>\n",
       "      <td>Low</td>\n",
       "      <td>Low</td>\n",
       "    </tr>\n",
       "    <tr>\n",
       "      <th>3</th>\n",
       "      <td>15777</td>\n",
       "      <td>2015</td>\n",
       "      <td>25195</td>\n",
       "      <td>NEW ORLEANS</td>\n",
       "      <td>LA</td>\n",
       "      <td>BUICK</td>\n",
       "      <td>ENCOREFWD</td>\n",
       "      <td>7</td>\n",
       "      <td>Moderate</td>\n",
       "      <td>Low</td>\n",
       "    </tr>\n",
       "    <tr>\n",
       "      <th>4</th>\n",
       "      <td>16784</td>\n",
       "      <td>2015</td>\n",
       "      <td>22800</td>\n",
       "      <td>LAS VEGAS</td>\n",
       "      <td>NV</td>\n",
       "      <td>BUICK</td>\n",
       "      <td>ENCORECONVENIENCE</td>\n",
       "      <td>7</td>\n",
       "      <td>Low</td>\n",
       "      <td>High</td>\n",
       "    </tr>\n",
       "    <tr>\n",
       "      <th>...</th>\n",
       "      <td>...</td>\n",
       "      <td>...</td>\n",
       "      <td>...</td>\n",
       "      <td>...</td>\n",
       "      <td>...</td>\n",
       "      <td>...</td>\n",
       "      <td>...</td>\n",
       "      <td>...</td>\n",
       "      <td>...</td>\n",
       "      <td>...</td>\n",
       "    </tr>\n",
       "    <tr>\n",
       "      <th>2059279</th>\n",
       "      <td>17909</td>\n",
       "      <td>2013</td>\n",
       "      <td>36275</td>\n",
       "      <td>CHARLOTTE</td>\n",
       "      <td>NC</td>\n",
       "      <td>VOLKSWAGEN</td>\n",
       "      <td>GTI4-DOOR,</td>\n",
       "      <td>9</td>\n",
       "      <td>Moderate</td>\n",
       "      <td>High</td>\n",
       "    </tr>\n",
       "    <tr>\n",
       "      <th>2062500</th>\n",
       "      <td>18995</td>\n",
       "      <td>2013</td>\n",
       "      <td>43079</td>\n",
       "      <td>MISSION</td>\n",
       "      <td>TX</td>\n",
       "      <td>VOLKSWAGEN</td>\n",
       "      <td>GTI4-DOOR,</td>\n",
       "      <td>9</td>\n",
       "      <td>Moderate</td>\n",
       "      <td>Low</td>\n",
       "    </tr>\n",
       "    <tr>\n",
       "      <th>2062580</th>\n",
       "      <td>16551</td>\n",
       "      <td>2013</td>\n",
       "      <td>68107</td>\n",
       "      <td>AUSTIN</td>\n",
       "      <td>TX</td>\n",
       "      <td>VOLKSWAGEN</td>\n",
       "      <td>GTI4-DOOR,</td>\n",
       "      <td>9</td>\n",
       "      <td>Moderate</td>\n",
       "      <td>High</td>\n",
       "    </tr>\n",
       "    <tr>\n",
       "      <th>2062970</th>\n",
       "      <td>43950</td>\n",
       "      <td>2017</td>\n",
       "      <td>13569</td>\n",
       "      <td>HAYWARD</td>\n",
       "      <td>CA</td>\n",
       "      <td>VOLKSWAGEN</td>\n",
       "      <td>TOUAREGV6</td>\n",
       "      <td>5</td>\n",
       "      <td>Low</td>\n",
       "      <td>Low</td>\n",
       "    </tr>\n",
       "    <tr>\n",
       "      <th>2063075</th>\n",
       "      <td>46995</td>\n",
       "      <td>2017</td>\n",
       "      <td>11051</td>\n",
       "      <td>WELLESLEY</td>\n",
       "      <td>MA</td>\n",
       "      <td>VOLKSWAGEN</td>\n",
       "      <td>TOUAREGV6</td>\n",
       "      <td>5</td>\n",
       "      <td>Low</td>\n",
       "      <td>Low</td>\n",
       "    </tr>\n",
       "  </tbody>\n",
       "</table>\n",
       "<p>1146355 rows × 10 columns</p>\n",
       "</div>\n",
       "      <button class=\"colab-df-convert\" onclick=\"convertToInteractive('df-5e94fcf6-4ed6-4bb0-ac05-e0d99b539fce')\"\n",
       "              title=\"Convert this dataframe to an interactive table.\"\n",
       "              style=\"display:none;\">\n",
       "        \n",
       "  <svg xmlns=\"http://www.w3.org/2000/svg\" height=\"24px\"viewBox=\"0 0 24 24\"\n",
       "       width=\"24px\">\n",
       "    <path d=\"M0 0h24v24H0V0z\" fill=\"none\"/>\n",
       "    <path d=\"M18.56 5.44l.94 2.06.94-2.06 2.06-.94-2.06-.94-.94-2.06-.94 2.06-2.06.94zm-11 1L8.5 8.5l.94-2.06 2.06-.94-2.06-.94L8.5 2.5l-.94 2.06-2.06.94zm10 10l.94 2.06.94-2.06 2.06-.94-2.06-.94-.94-2.06-.94 2.06-2.06.94z\"/><path d=\"M17.41 7.96l-1.37-1.37c-.4-.4-.92-.59-1.43-.59-.52 0-1.04.2-1.43.59L10.3 9.45l-7.72 7.72c-.78.78-.78 2.05 0 2.83L4 21.41c.39.39.9.59 1.41.59.51 0 1.02-.2 1.41-.59l7.78-7.78 2.81-2.81c.8-.78.8-2.07 0-2.86zM5.41 20L4 18.59l7.72-7.72 1.47 1.35L5.41 20z\"/>\n",
       "  </svg>\n",
       "      </button>\n",
       "      \n",
       "  <style>\n",
       "    .colab-df-container {\n",
       "      display:flex;\n",
       "      flex-wrap:wrap;\n",
       "      gap: 12px;\n",
       "    }\n",
       "\n",
       "    .colab-df-convert {\n",
       "      background-color: #E8F0FE;\n",
       "      border: none;\n",
       "      border-radius: 50%;\n",
       "      cursor: pointer;\n",
       "      display: none;\n",
       "      fill: #1967D2;\n",
       "      height: 32px;\n",
       "      padding: 0 0 0 0;\n",
       "      width: 32px;\n",
       "    }\n",
       "\n",
       "    .colab-df-convert:hover {\n",
       "      background-color: #E2EBFA;\n",
       "      box-shadow: 0px 1px 2px rgba(60, 64, 67, 0.3), 0px 1px 3px 1px rgba(60, 64, 67, 0.15);\n",
       "      fill: #174EA6;\n",
       "    }\n",
       "\n",
       "    [theme=dark] .colab-df-convert {\n",
       "      background-color: #3B4455;\n",
       "      fill: #D2E3FC;\n",
       "    }\n",
       "\n",
       "    [theme=dark] .colab-df-convert:hover {\n",
       "      background-color: #434B5C;\n",
       "      box-shadow: 0px 1px 3px 1px rgba(0, 0, 0, 0.15);\n",
       "      filter: drop-shadow(0px 1px 2px rgba(0, 0, 0, 0.3));\n",
       "      fill: #FFFFFF;\n",
       "    }\n",
       "  </style>\n",
       "\n",
       "      <script>\n",
       "        const buttonEl =\n",
       "          document.querySelector('#df-5e94fcf6-4ed6-4bb0-ac05-e0d99b539fce button.colab-df-convert');\n",
       "        buttonEl.style.display =\n",
       "          google.colab.kernel.accessAllowed ? 'block' : 'none';\n",
       "\n",
       "        async function convertToInteractive(key) {\n",
       "          const element = document.querySelector('#df-5e94fcf6-4ed6-4bb0-ac05-e0d99b539fce');\n",
       "          const dataTable =\n",
       "            await google.colab.kernel.invokeFunction('convertToInteractive',\n",
       "                                                     [key], {});\n",
       "          if (!dataTable) return;\n",
       "\n",
       "          const docLinkHtml = 'Like what you see? Visit the ' +\n",
       "            '<a target=\"_blank\" href=https://colab.research.google.com/notebooks/data_table.ipynb>data table notebook</a>'\n",
       "            + ' to learn more about interactive tables.';\n",
       "          element.innerHTML = '';\n",
       "          dataTable['output_type'] = 'display_data';\n",
       "          await google.colab.output.renderOutput(dataTable, element);\n",
       "          const docLink = document.createElement('div');\n",
       "          docLink.innerHTML = docLinkHtml;\n",
       "          element.appendChild(docLink);\n",
       "        }\n",
       "      </script>\n",
       "    </div>\n",
       "  </div>\n",
       "  "
      ],
      "text/plain": [
       "         Price  Year  Mileage            City State        Make  \\\n",
       "0        16472  2015    18681  JEFFERSON CITY    MO       BUICK   \n",
       "1        15749  2015    27592        HIGHLAND    IN       BUICK   \n",
       "2        16998  2015    13650           BOONE    NC       BUICK   \n",
       "3        15777  2015    25195     NEW ORLEANS    LA       BUICK   \n",
       "4        16784  2015    22800       LAS VEGAS    NV       BUICK   \n",
       "...        ...   ...      ...             ...   ...         ...   \n",
       "2059279  17909  2013    36275       CHARLOTTE    NC  VOLKSWAGEN   \n",
       "2062500  18995  2013    43079         MISSION    TX  VOLKSWAGEN   \n",
       "2062580  16551  2013    68107          AUSTIN    TX  VOLKSWAGEN   \n",
       "2062970  43950  2017    13569         HAYWARD    CA  VOLKSWAGEN   \n",
       "2063075  46995  2017    11051       WELLESLEY    MA  VOLKSWAGEN   \n",
       "\n",
       "                     Model  Age of car Car Usage City Importance  \n",
       "0        ENCORECONVENIENCE           7       Low             Low  \n",
       "1                ENCOREFWD           7  Moderate             Low  \n",
       "2            ENCORELEATHER           7       Low             Low  \n",
       "3                ENCOREFWD           7  Moderate             Low  \n",
       "4        ENCORECONVENIENCE           7       Low            High  \n",
       "...                    ...         ...       ...             ...  \n",
       "2059279         GTI4-DOOR,           9  Moderate            High  \n",
       "2062500         GTI4-DOOR,           9  Moderate             Low  \n",
       "2062580         GTI4-DOOR,           9  Moderate            High  \n",
       "2062970          TOUAREGV6           5       Low             Low  \n",
       "2063075          TOUAREGV6           5       Low             Low  \n",
       "\n",
       "[1146355 rows x 10 columns]"
      ]
     },
     "execution_count": 72,
     "metadata": {},
     "output_type": "execute_result"
    }
   ],
   "source": [
    "df"
   ]
  },
  {
   "cell_type": "code",
   "execution_count": 73,
   "id": "003e247e",
   "metadata": {
    "colab": {
     "base_uri": "https://localhost:8080/"
    },
    "id": "003e247e",
    "outputId": "c34a625e-ba06-4580-ba84-d506e586aa34"
   },
   "outputs": [
    {
     "data": {
      "text/plain": [
       "TX    129788\n",
       "CA    108850\n",
       "FL    102019\n",
       "GA     52146\n",
       "IL     51305\n",
       "NC     49162\n",
       "VA     46185\n",
       "PA     38202\n",
       "NY     36568\n",
       "NJ     35932\n",
       "OH     32061\n",
       "AZ     31255\n",
       "WA     30260\n",
       "CO     29750\n",
       "MA     25482\n",
       "TN     25380\n",
       "MD     24583\n",
       "MO     22126\n",
       "IN     21827\n",
       "KY     18874\n",
       "AL     17226\n",
       "WI     15478\n",
       "MN     14713\n",
       "CT     14441\n",
       "MI     14269\n",
       "OK     13889\n",
       "UT     13819\n",
       "OR     13653\n",
       "SC     13304\n",
       "LA     10770\n",
       "KS     10368\n",
       "NV      9940\n",
       "AR      9006\n",
       "NH      7895\n",
       "MS      7850\n",
       "NM      6676\n",
       "NE      6471\n",
       "IA      6253\n",
       "ID      4482\n",
       "DE      3590\n",
       "HI      3542\n",
       "ME      2520\n",
       "RI      2499\n",
       "MT      2364\n",
       "AK      2173\n",
       "WV      1941\n",
       "ND      1662\n",
       "VT      1488\n",
       "SD      1411\n",
       "WY       881\n",
       "DC        26\n",
       "Name: State, dtype: int64"
      ]
     },
     "execution_count": 73,
     "metadata": {},
     "output_type": "execute_result"
    }
   ],
   "source": [
    "df['State'].value_counts()"
   ]
  },
  {
   "cell_type": "markdown",
   "id": "084c12a2",
   "metadata": {
    "id": "084c12a2"
   },
   "source": [
    "**Cars divided with respect to their State Importance.The states with high frequency of cars are considered importance of high.Two list consists of state names s1 and s2. List s1 contains top 10 states according to the frequency distribution. List s2 contains from 11 upto top 25 states and are of moderate importance. While rest fall in low importance**"
   ]
  },
  {
   "cell_type": "code",
   "execution_count": 74,
   "id": "5891d456",
   "metadata": {
    "id": "5891d456"
   },
   "outputs": [],
   "source": [
    "s1 = ['TX', 'CA', 'FL', 'GA', 'IL', 'NC', 'VA', 'PA', 'NY', 'NJ']"
   ]
  },
  {
   "cell_type": "code",
   "execution_count": 75,
   "id": "bbed2c35",
   "metadata": {
    "id": "bbed2c35"
   },
   "outputs": [],
   "source": [
    "s2 = ['OH', 'AZ', 'WA', 'CO', 'MA', 'TN', 'MD', 'MO', 'IN', 'KY', 'AL', 'WI', 'MN', 'CT', 'MI', 'OK', 'UT', 'OR', 'SC', 'LA']"
   ]
  },
  {
   "cell_type": "code",
   "execution_count": 76,
   "id": "d2543f77",
   "metadata": {
    "id": "d2543f77"
   },
   "outputs": [],
   "source": [
    "#Function to determine the State Importance\n",
    "\n",
    "def importance(value):\n",
    "    if value in s1 :\n",
    "        result = 'High'\n",
    "    elif value in s2 :\n",
    "        result = 'Moderate'\n",
    "    else:\n",
    "        result = 'Low'\n",
    "    return result\n",
    "\n",
    "\n",
    "df['State Importance'] = df['State'].apply(importance)"
   ]
  },
  {
   "cell_type": "code",
   "execution_count": 77,
   "id": "dbcfec55",
   "metadata": {
    "colab": {
     "base_uri": "https://localhost:8080/",
     "height": 467
    },
    "id": "dbcfec55",
    "outputId": "f9c42bdb-a69d-4ceb-b0c7-00183f73a7fc"
   },
   "outputs": [
    {
     "data": {
      "text/html": [
       "\n",
       "  <div id=\"df-3214f928-45c2-4e01-9c9a-1e89de727e6a\">\n",
       "    <div class=\"colab-df-container\">\n",
       "      <div>\n",
       "<style scoped>\n",
       "    .dataframe tbody tr th:only-of-type {\n",
       "        vertical-align: middle;\n",
       "    }\n",
       "\n",
       "    .dataframe tbody tr th {\n",
       "        vertical-align: top;\n",
       "    }\n",
       "\n",
       "    .dataframe thead th {\n",
       "        text-align: right;\n",
       "    }\n",
       "</style>\n",
       "<table border=\"1\" class=\"dataframe\">\n",
       "  <thead>\n",
       "    <tr style=\"text-align: right;\">\n",
       "      <th></th>\n",
       "      <th>Price</th>\n",
       "      <th>Year</th>\n",
       "      <th>Mileage</th>\n",
       "      <th>City</th>\n",
       "      <th>State</th>\n",
       "      <th>Make</th>\n",
       "      <th>Model</th>\n",
       "      <th>Age of car</th>\n",
       "      <th>Car Usage</th>\n",
       "      <th>City Importance</th>\n",
       "      <th>State Importance</th>\n",
       "    </tr>\n",
       "  </thead>\n",
       "  <tbody>\n",
       "    <tr>\n",
       "      <th>0</th>\n",
       "      <td>16472</td>\n",
       "      <td>2015</td>\n",
       "      <td>18681</td>\n",
       "      <td>JEFFERSON CITY</td>\n",
       "      <td>MO</td>\n",
       "      <td>BUICK</td>\n",
       "      <td>ENCORECONVENIENCE</td>\n",
       "      <td>7</td>\n",
       "      <td>Low</td>\n",
       "      <td>Low</td>\n",
       "      <td>Moderate</td>\n",
       "    </tr>\n",
       "    <tr>\n",
       "      <th>1</th>\n",
       "      <td>15749</td>\n",
       "      <td>2015</td>\n",
       "      <td>27592</td>\n",
       "      <td>HIGHLAND</td>\n",
       "      <td>IN</td>\n",
       "      <td>BUICK</td>\n",
       "      <td>ENCOREFWD</td>\n",
       "      <td>7</td>\n",
       "      <td>Moderate</td>\n",
       "      <td>Low</td>\n",
       "      <td>Moderate</td>\n",
       "    </tr>\n",
       "    <tr>\n",
       "      <th>2</th>\n",
       "      <td>16998</td>\n",
       "      <td>2015</td>\n",
       "      <td>13650</td>\n",
       "      <td>BOONE</td>\n",
       "      <td>NC</td>\n",
       "      <td>BUICK</td>\n",
       "      <td>ENCORELEATHER</td>\n",
       "      <td>7</td>\n",
       "      <td>Low</td>\n",
       "      <td>Low</td>\n",
       "      <td>High</td>\n",
       "    </tr>\n",
       "    <tr>\n",
       "      <th>3</th>\n",
       "      <td>15777</td>\n",
       "      <td>2015</td>\n",
       "      <td>25195</td>\n",
       "      <td>NEW ORLEANS</td>\n",
       "      <td>LA</td>\n",
       "      <td>BUICK</td>\n",
       "      <td>ENCOREFWD</td>\n",
       "      <td>7</td>\n",
       "      <td>Moderate</td>\n",
       "      <td>Low</td>\n",
       "      <td>Moderate</td>\n",
       "    </tr>\n",
       "    <tr>\n",
       "      <th>4</th>\n",
       "      <td>16784</td>\n",
       "      <td>2015</td>\n",
       "      <td>22800</td>\n",
       "      <td>LAS VEGAS</td>\n",
       "      <td>NV</td>\n",
       "      <td>BUICK</td>\n",
       "      <td>ENCORECONVENIENCE</td>\n",
       "      <td>7</td>\n",
       "      <td>Low</td>\n",
       "      <td>High</td>\n",
       "      <td>Low</td>\n",
       "    </tr>\n",
       "    <tr>\n",
       "      <th>...</th>\n",
       "      <td>...</td>\n",
       "      <td>...</td>\n",
       "      <td>...</td>\n",
       "      <td>...</td>\n",
       "      <td>...</td>\n",
       "      <td>...</td>\n",
       "      <td>...</td>\n",
       "      <td>...</td>\n",
       "      <td>...</td>\n",
       "      <td>...</td>\n",
       "      <td>...</td>\n",
       "    </tr>\n",
       "    <tr>\n",
       "      <th>2059279</th>\n",
       "      <td>17909</td>\n",
       "      <td>2013</td>\n",
       "      <td>36275</td>\n",
       "      <td>CHARLOTTE</td>\n",
       "      <td>NC</td>\n",
       "      <td>VOLKSWAGEN</td>\n",
       "      <td>GTI4-DOOR,</td>\n",
       "      <td>9</td>\n",
       "      <td>Moderate</td>\n",
       "      <td>High</td>\n",
       "      <td>High</td>\n",
       "    </tr>\n",
       "    <tr>\n",
       "      <th>2062500</th>\n",
       "      <td>18995</td>\n",
       "      <td>2013</td>\n",
       "      <td>43079</td>\n",
       "      <td>MISSION</td>\n",
       "      <td>TX</td>\n",
       "      <td>VOLKSWAGEN</td>\n",
       "      <td>GTI4-DOOR,</td>\n",
       "      <td>9</td>\n",
       "      <td>Moderate</td>\n",
       "      <td>Low</td>\n",
       "      <td>High</td>\n",
       "    </tr>\n",
       "    <tr>\n",
       "      <th>2062580</th>\n",
       "      <td>16551</td>\n",
       "      <td>2013</td>\n",
       "      <td>68107</td>\n",
       "      <td>AUSTIN</td>\n",
       "      <td>TX</td>\n",
       "      <td>VOLKSWAGEN</td>\n",
       "      <td>GTI4-DOOR,</td>\n",
       "      <td>9</td>\n",
       "      <td>Moderate</td>\n",
       "      <td>High</td>\n",
       "      <td>High</td>\n",
       "    </tr>\n",
       "    <tr>\n",
       "      <th>2062970</th>\n",
       "      <td>43950</td>\n",
       "      <td>2017</td>\n",
       "      <td>13569</td>\n",
       "      <td>HAYWARD</td>\n",
       "      <td>CA</td>\n",
       "      <td>VOLKSWAGEN</td>\n",
       "      <td>TOUAREGV6</td>\n",
       "      <td>5</td>\n",
       "      <td>Low</td>\n",
       "      <td>Low</td>\n",
       "      <td>High</td>\n",
       "    </tr>\n",
       "    <tr>\n",
       "      <th>2063075</th>\n",
       "      <td>46995</td>\n",
       "      <td>2017</td>\n",
       "      <td>11051</td>\n",
       "      <td>WELLESLEY</td>\n",
       "      <td>MA</td>\n",
       "      <td>VOLKSWAGEN</td>\n",
       "      <td>TOUAREGV6</td>\n",
       "      <td>5</td>\n",
       "      <td>Low</td>\n",
       "      <td>Low</td>\n",
       "      <td>Moderate</td>\n",
       "    </tr>\n",
       "  </tbody>\n",
       "</table>\n",
       "<p>1146355 rows × 11 columns</p>\n",
       "</div>\n",
       "      <button class=\"colab-df-convert\" onclick=\"convertToInteractive('df-3214f928-45c2-4e01-9c9a-1e89de727e6a')\"\n",
       "              title=\"Convert this dataframe to an interactive table.\"\n",
       "              style=\"display:none;\">\n",
       "        \n",
       "  <svg xmlns=\"http://www.w3.org/2000/svg\" height=\"24px\"viewBox=\"0 0 24 24\"\n",
       "       width=\"24px\">\n",
       "    <path d=\"M0 0h24v24H0V0z\" fill=\"none\"/>\n",
       "    <path d=\"M18.56 5.44l.94 2.06.94-2.06 2.06-.94-2.06-.94-.94-2.06-.94 2.06-2.06.94zm-11 1L8.5 8.5l.94-2.06 2.06-.94-2.06-.94L8.5 2.5l-.94 2.06-2.06.94zm10 10l.94 2.06.94-2.06 2.06-.94-2.06-.94-.94-2.06-.94 2.06-2.06.94z\"/><path d=\"M17.41 7.96l-1.37-1.37c-.4-.4-.92-.59-1.43-.59-.52 0-1.04.2-1.43.59L10.3 9.45l-7.72 7.72c-.78.78-.78 2.05 0 2.83L4 21.41c.39.39.9.59 1.41.59.51 0 1.02-.2 1.41-.59l7.78-7.78 2.81-2.81c.8-.78.8-2.07 0-2.86zM5.41 20L4 18.59l7.72-7.72 1.47 1.35L5.41 20z\"/>\n",
       "  </svg>\n",
       "      </button>\n",
       "      \n",
       "  <style>\n",
       "    .colab-df-container {\n",
       "      display:flex;\n",
       "      flex-wrap:wrap;\n",
       "      gap: 12px;\n",
       "    }\n",
       "\n",
       "    .colab-df-convert {\n",
       "      background-color: #E8F0FE;\n",
       "      border: none;\n",
       "      border-radius: 50%;\n",
       "      cursor: pointer;\n",
       "      display: none;\n",
       "      fill: #1967D2;\n",
       "      height: 32px;\n",
       "      padding: 0 0 0 0;\n",
       "      width: 32px;\n",
       "    }\n",
       "\n",
       "    .colab-df-convert:hover {\n",
       "      background-color: #E2EBFA;\n",
       "      box-shadow: 0px 1px 2px rgba(60, 64, 67, 0.3), 0px 1px 3px 1px rgba(60, 64, 67, 0.15);\n",
       "      fill: #174EA6;\n",
       "    }\n",
       "\n",
       "    [theme=dark] .colab-df-convert {\n",
       "      background-color: #3B4455;\n",
       "      fill: #D2E3FC;\n",
       "    }\n",
       "\n",
       "    [theme=dark] .colab-df-convert:hover {\n",
       "      background-color: #434B5C;\n",
       "      box-shadow: 0px 1px 3px 1px rgba(0, 0, 0, 0.15);\n",
       "      filter: drop-shadow(0px 1px 2px rgba(0, 0, 0, 0.3));\n",
       "      fill: #FFFFFF;\n",
       "    }\n",
       "  </style>\n",
       "\n",
       "      <script>\n",
       "        const buttonEl =\n",
       "          document.querySelector('#df-3214f928-45c2-4e01-9c9a-1e89de727e6a button.colab-df-convert');\n",
       "        buttonEl.style.display =\n",
       "          google.colab.kernel.accessAllowed ? 'block' : 'none';\n",
       "\n",
       "        async function convertToInteractive(key) {\n",
       "          const element = document.querySelector('#df-3214f928-45c2-4e01-9c9a-1e89de727e6a');\n",
       "          const dataTable =\n",
       "            await google.colab.kernel.invokeFunction('convertToInteractive',\n",
       "                                                     [key], {});\n",
       "          if (!dataTable) return;\n",
       "\n",
       "          const docLinkHtml = 'Like what you see? Visit the ' +\n",
       "            '<a target=\"_blank\" href=https://colab.research.google.com/notebooks/data_table.ipynb>data table notebook</a>'\n",
       "            + ' to learn more about interactive tables.';\n",
       "          element.innerHTML = '';\n",
       "          dataTable['output_type'] = 'display_data';\n",
       "          await google.colab.output.renderOutput(dataTable, element);\n",
       "          const docLink = document.createElement('div');\n",
       "          docLink.innerHTML = docLinkHtml;\n",
       "          element.appendChild(docLink);\n",
       "        }\n",
       "      </script>\n",
       "    </div>\n",
       "  </div>\n",
       "  "
      ],
      "text/plain": [
       "         Price  Year  Mileage            City State        Make  \\\n",
       "0        16472  2015    18681  JEFFERSON CITY    MO       BUICK   \n",
       "1        15749  2015    27592        HIGHLAND    IN       BUICK   \n",
       "2        16998  2015    13650           BOONE    NC       BUICK   \n",
       "3        15777  2015    25195     NEW ORLEANS    LA       BUICK   \n",
       "4        16784  2015    22800       LAS VEGAS    NV       BUICK   \n",
       "...        ...   ...      ...             ...   ...         ...   \n",
       "2059279  17909  2013    36275       CHARLOTTE    NC  VOLKSWAGEN   \n",
       "2062500  18995  2013    43079         MISSION    TX  VOLKSWAGEN   \n",
       "2062580  16551  2013    68107          AUSTIN    TX  VOLKSWAGEN   \n",
       "2062970  43950  2017    13569         HAYWARD    CA  VOLKSWAGEN   \n",
       "2063075  46995  2017    11051       WELLESLEY    MA  VOLKSWAGEN   \n",
       "\n",
       "                     Model  Age of car Car Usage City Importance  \\\n",
       "0        ENCORECONVENIENCE           7       Low             Low   \n",
       "1                ENCOREFWD           7  Moderate             Low   \n",
       "2            ENCORELEATHER           7       Low             Low   \n",
       "3                ENCOREFWD           7  Moderate             Low   \n",
       "4        ENCORECONVENIENCE           7       Low            High   \n",
       "...                    ...         ...       ...             ...   \n",
       "2059279         GTI4-DOOR,           9  Moderate            High   \n",
       "2062500         GTI4-DOOR,           9  Moderate             Low   \n",
       "2062580         GTI4-DOOR,           9  Moderate            High   \n",
       "2062970          TOUAREGV6           5       Low             Low   \n",
       "2063075          TOUAREGV6           5       Low             Low   \n",
       "\n",
       "        State Importance  \n",
       "0               Moderate  \n",
       "1               Moderate  \n",
       "2                   High  \n",
       "3               Moderate  \n",
       "4                    Low  \n",
       "...                  ...  \n",
       "2059279             High  \n",
       "2062500             High  \n",
       "2062580             High  \n",
       "2062970             High  \n",
       "2063075         Moderate  \n",
       "\n",
       "[1146355 rows x 11 columns]"
      ]
     },
     "execution_count": 77,
     "metadata": {},
     "output_type": "execute_result"
    }
   ],
   "source": [
    "df"
   ]
  },
  {
   "cell_type": "markdown",
   "id": "e05b9efe",
   "metadata": {
    "id": "e05b9efe"
   },
   "source": [
    "### Spliting Data"
   ]
  },
  {
   "cell_type": "code",
   "execution_count": 78,
   "id": "a0772585",
   "metadata": {
    "id": "a0772585"
   },
   "outputs": [],
   "source": [
    "X = df.drop('Price',axis =1)\n",
    "y = df[['Price']]"
   ]
  },
  {
   "cell_type": "code",
   "execution_count": 79,
   "id": "1750b532",
   "metadata": {
    "colab": {
     "base_uri": "https://localhost:8080/",
     "height": 0
    },
    "id": "1750b532",
    "outputId": "7823c4b1-9345-4a49-dd1d-7457724622d5"
   },
   "outputs": [
    {
     "data": {
      "text/html": [
       "\n",
       "  <div id=\"df-02c5fcf0-7fc6-4b64-85d6-384a6c45eeb6\">\n",
       "    <div class=\"colab-df-container\">\n",
       "      <div>\n",
       "<style scoped>\n",
       "    .dataframe tbody tr th:only-of-type {\n",
       "        vertical-align: middle;\n",
       "    }\n",
       "\n",
       "    .dataframe tbody tr th {\n",
       "        vertical-align: top;\n",
       "    }\n",
       "\n",
       "    .dataframe thead th {\n",
       "        text-align: right;\n",
       "    }\n",
       "</style>\n",
       "<table border=\"1\" class=\"dataframe\">\n",
       "  <thead>\n",
       "    <tr style=\"text-align: right;\">\n",
       "      <th></th>\n",
       "      <th>Year</th>\n",
       "      <th>Mileage</th>\n",
       "      <th>City</th>\n",
       "      <th>State</th>\n",
       "      <th>Make</th>\n",
       "      <th>Model</th>\n",
       "      <th>Age of car</th>\n",
       "      <th>Car Usage</th>\n",
       "      <th>City Importance</th>\n",
       "      <th>State Importance</th>\n",
       "    </tr>\n",
       "  </thead>\n",
       "  <tbody>\n",
       "    <tr>\n",
       "      <th>0</th>\n",
       "      <td>2015</td>\n",
       "      <td>18681</td>\n",
       "      <td>JEFFERSON CITY</td>\n",
       "      <td>MO</td>\n",
       "      <td>BUICK</td>\n",
       "      <td>ENCORECONVENIENCE</td>\n",
       "      <td>7</td>\n",
       "      <td>Low</td>\n",
       "      <td>Low</td>\n",
       "      <td>Moderate</td>\n",
       "    </tr>\n",
       "    <tr>\n",
       "      <th>1</th>\n",
       "      <td>2015</td>\n",
       "      <td>27592</td>\n",
       "      <td>HIGHLAND</td>\n",
       "      <td>IN</td>\n",
       "      <td>BUICK</td>\n",
       "      <td>ENCOREFWD</td>\n",
       "      <td>7</td>\n",
       "      <td>Moderate</td>\n",
       "      <td>Low</td>\n",
       "      <td>Moderate</td>\n",
       "    </tr>\n",
       "    <tr>\n",
       "      <th>2</th>\n",
       "      <td>2015</td>\n",
       "      <td>13650</td>\n",
       "      <td>BOONE</td>\n",
       "      <td>NC</td>\n",
       "      <td>BUICK</td>\n",
       "      <td>ENCORELEATHER</td>\n",
       "      <td>7</td>\n",
       "      <td>Low</td>\n",
       "      <td>Low</td>\n",
       "      <td>High</td>\n",
       "    </tr>\n",
       "    <tr>\n",
       "      <th>3</th>\n",
       "      <td>2015</td>\n",
       "      <td>25195</td>\n",
       "      <td>NEW ORLEANS</td>\n",
       "      <td>LA</td>\n",
       "      <td>BUICK</td>\n",
       "      <td>ENCOREFWD</td>\n",
       "      <td>7</td>\n",
       "      <td>Moderate</td>\n",
       "      <td>Low</td>\n",
       "      <td>Moderate</td>\n",
       "    </tr>\n",
       "    <tr>\n",
       "      <th>4</th>\n",
       "      <td>2015</td>\n",
       "      <td>22800</td>\n",
       "      <td>LAS VEGAS</td>\n",
       "      <td>NV</td>\n",
       "      <td>BUICK</td>\n",
       "      <td>ENCORECONVENIENCE</td>\n",
       "      <td>7</td>\n",
       "      <td>Low</td>\n",
       "      <td>High</td>\n",
       "      <td>Low</td>\n",
       "    </tr>\n",
       "    <tr>\n",
       "      <th>...</th>\n",
       "      <td>...</td>\n",
       "      <td>...</td>\n",
       "      <td>...</td>\n",
       "      <td>...</td>\n",
       "      <td>...</td>\n",
       "      <td>...</td>\n",
       "      <td>...</td>\n",
       "      <td>...</td>\n",
       "      <td>...</td>\n",
       "      <td>...</td>\n",
       "    </tr>\n",
       "    <tr>\n",
       "      <th>2059279</th>\n",
       "      <td>2013</td>\n",
       "      <td>36275</td>\n",
       "      <td>CHARLOTTE</td>\n",
       "      <td>NC</td>\n",
       "      <td>VOLKSWAGEN</td>\n",
       "      <td>GTI4-DOOR,</td>\n",
       "      <td>9</td>\n",
       "      <td>Moderate</td>\n",
       "      <td>High</td>\n",
       "      <td>High</td>\n",
       "    </tr>\n",
       "    <tr>\n",
       "      <th>2062500</th>\n",
       "      <td>2013</td>\n",
       "      <td>43079</td>\n",
       "      <td>MISSION</td>\n",
       "      <td>TX</td>\n",
       "      <td>VOLKSWAGEN</td>\n",
       "      <td>GTI4-DOOR,</td>\n",
       "      <td>9</td>\n",
       "      <td>Moderate</td>\n",
       "      <td>Low</td>\n",
       "      <td>High</td>\n",
       "    </tr>\n",
       "    <tr>\n",
       "      <th>2062580</th>\n",
       "      <td>2013</td>\n",
       "      <td>68107</td>\n",
       "      <td>AUSTIN</td>\n",
       "      <td>TX</td>\n",
       "      <td>VOLKSWAGEN</td>\n",
       "      <td>GTI4-DOOR,</td>\n",
       "      <td>9</td>\n",
       "      <td>Moderate</td>\n",
       "      <td>High</td>\n",
       "      <td>High</td>\n",
       "    </tr>\n",
       "    <tr>\n",
       "      <th>2062970</th>\n",
       "      <td>2017</td>\n",
       "      <td>13569</td>\n",
       "      <td>HAYWARD</td>\n",
       "      <td>CA</td>\n",
       "      <td>VOLKSWAGEN</td>\n",
       "      <td>TOUAREGV6</td>\n",
       "      <td>5</td>\n",
       "      <td>Low</td>\n",
       "      <td>Low</td>\n",
       "      <td>High</td>\n",
       "    </tr>\n",
       "    <tr>\n",
       "      <th>2063075</th>\n",
       "      <td>2017</td>\n",
       "      <td>11051</td>\n",
       "      <td>WELLESLEY</td>\n",
       "      <td>MA</td>\n",
       "      <td>VOLKSWAGEN</td>\n",
       "      <td>TOUAREGV6</td>\n",
       "      <td>5</td>\n",
       "      <td>Low</td>\n",
       "      <td>Low</td>\n",
       "      <td>Moderate</td>\n",
       "    </tr>\n",
       "  </tbody>\n",
       "</table>\n",
       "<p>1146355 rows × 10 columns</p>\n",
       "</div>\n",
       "      <button class=\"colab-df-convert\" onclick=\"convertToInteractive('df-02c5fcf0-7fc6-4b64-85d6-384a6c45eeb6')\"\n",
       "              title=\"Convert this dataframe to an interactive table.\"\n",
       "              style=\"display:none;\">\n",
       "        \n",
       "  <svg xmlns=\"http://www.w3.org/2000/svg\" height=\"24px\"viewBox=\"0 0 24 24\"\n",
       "       width=\"24px\">\n",
       "    <path d=\"M0 0h24v24H0V0z\" fill=\"none\"/>\n",
       "    <path d=\"M18.56 5.44l.94 2.06.94-2.06 2.06-.94-2.06-.94-.94-2.06-.94 2.06-2.06.94zm-11 1L8.5 8.5l.94-2.06 2.06-.94-2.06-.94L8.5 2.5l-.94 2.06-2.06.94zm10 10l.94 2.06.94-2.06 2.06-.94-2.06-.94-.94-2.06-.94 2.06-2.06.94z\"/><path d=\"M17.41 7.96l-1.37-1.37c-.4-.4-.92-.59-1.43-.59-.52 0-1.04.2-1.43.59L10.3 9.45l-7.72 7.72c-.78.78-.78 2.05 0 2.83L4 21.41c.39.39.9.59 1.41.59.51 0 1.02-.2 1.41-.59l7.78-7.78 2.81-2.81c.8-.78.8-2.07 0-2.86zM5.41 20L4 18.59l7.72-7.72 1.47 1.35L5.41 20z\"/>\n",
       "  </svg>\n",
       "      </button>\n",
       "      \n",
       "  <style>\n",
       "    .colab-df-container {\n",
       "      display:flex;\n",
       "      flex-wrap:wrap;\n",
       "      gap: 12px;\n",
       "    }\n",
       "\n",
       "    .colab-df-convert {\n",
       "      background-color: #E8F0FE;\n",
       "      border: none;\n",
       "      border-radius: 50%;\n",
       "      cursor: pointer;\n",
       "      display: none;\n",
       "      fill: #1967D2;\n",
       "      height: 32px;\n",
       "      padding: 0 0 0 0;\n",
       "      width: 32px;\n",
       "    }\n",
       "\n",
       "    .colab-df-convert:hover {\n",
       "      background-color: #E2EBFA;\n",
       "      box-shadow: 0px 1px 2px rgba(60, 64, 67, 0.3), 0px 1px 3px 1px rgba(60, 64, 67, 0.15);\n",
       "      fill: #174EA6;\n",
       "    }\n",
       "\n",
       "    [theme=dark] .colab-df-convert {\n",
       "      background-color: #3B4455;\n",
       "      fill: #D2E3FC;\n",
       "    }\n",
       "\n",
       "    [theme=dark] .colab-df-convert:hover {\n",
       "      background-color: #434B5C;\n",
       "      box-shadow: 0px 1px 3px 1px rgba(0, 0, 0, 0.15);\n",
       "      filter: drop-shadow(0px 1px 2px rgba(0, 0, 0, 0.3));\n",
       "      fill: #FFFFFF;\n",
       "    }\n",
       "  </style>\n",
       "\n",
       "      <script>\n",
       "        const buttonEl =\n",
       "          document.querySelector('#df-02c5fcf0-7fc6-4b64-85d6-384a6c45eeb6 button.colab-df-convert');\n",
       "        buttonEl.style.display =\n",
       "          google.colab.kernel.accessAllowed ? 'block' : 'none';\n",
       "\n",
       "        async function convertToInteractive(key) {\n",
       "          const element = document.querySelector('#df-02c5fcf0-7fc6-4b64-85d6-384a6c45eeb6');\n",
       "          const dataTable =\n",
       "            await google.colab.kernel.invokeFunction('convertToInteractive',\n",
       "                                                     [key], {});\n",
       "          if (!dataTable) return;\n",
       "\n",
       "          const docLinkHtml = 'Like what you see? Visit the ' +\n",
       "            '<a target=\"_blank\" href=https://colab.research.google.com/notebooks/data_table.ipynb>data table notebook</a>'\n",
       "            + ' to learn more about interactive tables.';\n",
       "          element.innerHTML = '';\n",
       "          dataTable['output_type'] = 'display_data';\n",
       "          await google.colab.output.renderOutput(dataTable, element);\n",
       "          const docLink = document.createElement('div');\n",
       "          docLink.innerHTML = docLinkHtml;\n",
       "          element.appendChild(docLink);\n",
       "        }\n",
       "      </script>\n",
       "    </div>\n",
       "  </div>\n",
       "  "
      ],
      "text/plain": [
       "         Year  Mileage            City State        Make              Model  \\\n",
       "0        2015    18681  JEFFERSON CITY    MO       BUICK  ENCORECONVENIENCE   \n",
       "1        2015    27592        HIGHLAND    IN       BUICK          ENCOREFWD   \n",
       "2        2015    13650           BOONE    NC       BUICK      ENCORELEATHER   \n",
       "3        2015    25195     NEW ORLEANS    LA       BUICK          ENCOREFWD   \n",
       "4        2015    22800       LAS VEGAS    NV       BUICK  ENCORECONVENIENCE   \n",
       "...       ...      ...             ...   ...         ...                ...   \n",
       "2059279  2013    36275       CHARLOTTE    NC  VOLKSWAGEN         GTI4-DOOR,   \n",
       "2062500  2013    43079         MISSION    TX  VOLKSWAGEN         GTI4-DOOR,   \n",
       "2062580  2013    68107          AUSTIN    TX  VOLKSWAGEN         GTI4-DOOR,   \n",
       "2062970  2017    13569         HAYWARD    CA  VOLKSWAGEN          TOUAREGV6   \n",
       "2063075  2017    11051       WELLESLEY    MA  VOLKSWAGEN          TOUAREGV6   \n",
       "\n",
       "         Age of car Car Usage City Importance State Importance  \n",
       "0                 7       Low             Low         Moderate  \n",
       "1                 7  Moderate             Low         Moderate  \n",
       "2                 7       Low             Low             High  \n",
       "3                 7  Moderate             Low         Moderate  \n",
       "4                 7       Low            High              Low  \n",
       "...             ...       ...             ...              ...  \n",
       "2059279           9  Moderate            High             High  \n",
       "2062500           9  Moderate             Low             High  \n",
       "2062580           9  Moderate            High             High  \n",
       "2062970           5       Low             Low             High  \n",
       "2063075           5       Low             Low         Moderate  \n",
       "\n",
       "[1146355 rows x 10 columns]"
      ]
     },
     "execution_count": 79,
     "metadata": {},
     "output_type": "execute_result"
    }
   ],
   "source": [
    "X"
   ]
  },
  {
   "cell_type": "markdown",
   "id": "69285e08",
   "metadata": {
    "id": "69285e08"
   },
   "source": [
    "### Model Building"
   ]
  },
  {
   "cell_type": "markdown",
   "id": "8f5bb9f3",
   "metadata": {
    "id": "8f5bb9f3"
   },
   "source": [
    "**Applying Train Test Split**"
   ]
  },
  {
   "cell_type": "code",
   "execution_count": 80,
   "id": "7de307a4",
   "metadata": {
    "id": "7de307a4"
   },
   "outputs": [],
   "source": [
    "from sklearn.model_selection import train_test_split\n",
    "X_train,X_test,y_train,y_test=train_test_split(X,y,test_size=0.2)"
   ]
  },
  {
   "cell_type": "markdown",
   "id": "5d30d703",
   "metadata": {
    "id": "5d30d703"
   },
   "source": [
    "### 1. Linear Regression Model"
   ]
  },
  {
   "cell_type": "code",
   "execution_count": 81,
   "id": "9b9af3d8",
   "metadata": {
    "id": "9b9af3d8"
   },
   "outputs": [],
   "source": [
    "from sklearn.linear_model import LinearRegression"
   ]
  },
  {
   "cell_type": "code",
   "execution_count": 82,
   "id": "10b9d390",
   "metadata": {
    "id": "10b9d390"
   },
   "outputs": [],
   "source": [
    "from sklearn.preprocessing import OneHotEncoder\n",
    "from sklearn.compose import make_column_transformer\n",
    "from sklearn.pipeline import make_pipeline\n",
    "from sklearn.metrics import r2_score"
   ]
  },
  {
   "cell_type": "markdown",
   "id": "328ac362",
   "metadata": {
    "id": "328ac362"
   },
   "source": [
    "### Creating an OneHotEncoder object to contain all the possible categories"
   ]
  },
  {
   "cell_type": "code",
   "execution_count": 83,
   "id": "2b755664",
   "metadata": {
    "colab": {
     "base_uri": "https://localhost:8080/"
    },
    "id": "2b755664",
    "outputId": "b29188fe-e2a6-4451-f3e8-3660a7f128aa"
   },
   "outputs": [
    {
     "data": {
      "text/plain": [
       "OneHotEncoder()"
      ]
     },
     "execution_count": 83,
     "metadata": {},
     "output_type": "execute_result"
    }
   ],
   "source": [
    "ohe=OneHotEncoder()\n",
    "ohe.fit(X[['City', 'State', 'Make', 'Model', 'Car Usage', 'City Importance', 'State Importance']])"
   ]
  },
  {
   "cell_type": "markdown",
   "id": "b7943871",
   "metadata": {
    "id": "b7943871"
   },
   "source": [
    "### Creating a column transformer to transform categorical columns"
   ]
  },
  {
   "cell_type": "code",
   "execution_count": 84,
   "id": "8d45647e",
   "metadata": {
    "id": "8d45647e"
   },
   "outputs": [],
   "source": [
    "column_trans=make_column_transformer((OneHotEncoder(categories=ohe.categories_),['City', \n",
    "                                                                                 'State', \n",
    "                                                                                 'Make', \n",
    "                                                                                 'Model', \n",
    "                                                                                 'Car Usage', \n",
    "                                                                                 'City Importance', \n",
    "                                                                                 'State Importance']),\n",
    "                                     remainder='passthrough')"
   ]
  },
  {
   "cell_type": "code",
   "execution_count": 85,
   "id": "49b771cf",
   "metadata": {
    "id": "49b771cf"
   },
   "outputs": [],
   "source": [
    "lr=LinearRegression()"
   ]
  },
  {
   "cell_type": "markdown",
   "id": "d04e8a16",
   "metadata": {
    "id": "d04e8a16"
   },
   "source": [
    "### Making a pipeline"
   ]
  },
  {
   "cell_type": "code",
   "execution_count": 86,
   "id": "dda238f4",
   "metadata": {
    "id": "dda238f4"
   },
   "outputs": [],
   "source": [
    "pipe=make_pipeline(column_trans,lr)"
   ]
  },
  {
   "cell_type": "markdown",
   "id": "c79f493a",
   "metadata": {
    "id": "c79f493a"
   },
   "source": [
    "### Fitting the model"
   ]
  },
  {
   "cell_type": "code",
   "execution_count": 87,
   "id": "7d74baa4",
   "metadata": {
    "colab": {
     "base_uri": "https://localhost:8080/"
    },
    "id": "7d74baa4",
    "outputId": "6fc2b3a7-ef0b-4505-e0d8-84881247d657"
   },
   "outputs": [
    {
     "data": {
      "text/plain": [
       "Pipeline(steps=[('columntransformer',\n",
       "                 ColumnTransformer(remainder='passthrough',\n",
       "                                   transformers=[('onehotencoder',\n",
       "                                                  OneHotEncoder(categories=[array(['ABBEVILLE', 'ABERDEEN', 'ABILENE', ..., 'ZELIENOPLE',\n",
       "       'ZEPHYRHILLS', 'ZIONSVILLE'], dtype=object),\n",
       "                                                                            array(['AK', 'AL', 'AR', 'AZ', 'CA', 'CO', 'CT', 'DC', 'DE', 'FL', 'GA',\n",
       "       'HI', 'IA', 'ID', 'IL', 'IN', 'KS', 'KY', 'LA', 'MA', 'MD', 'ME...\n",
       "       'VOLVO'], dtype=object),\n",
       "                                                                            array(['1', '124', '1500', ..., 'ZDXBASE', 'ZEPHYR4DR', 'ZX22DR'],\n",
       "      dtype=object),\n",
       "                                                                            array(['Low', 'Moderate'], dtype=object),\n",
       "                                                                            array(['High', 'Low', 'Moderate'], dtype=object),\n",
       "                                                                            array(['High', 'Low', 'Moderate'], dtype=object)]),\n",
       "                                                  ['City', 'State', 'Make',\n",
       "                                                   'Model', 'Car Usage',\n",
       "                                                   'City Importance',\n",
       "                                                   'State Importance'])])),\n",
       "                ('linearregression', LinearRegression())])"
      ]
     },
     "execution_count": 87,
     "metadata": {},
     "output_type": "execute_result"
    }
   ],
   "source": [
    "pipe.fit(X_train,y_train)"
   ]
  },
  {
   "cell_type": "code",
   "execution_count": 88,
   "id": "2f5b01b7",
   "metadata": {
    "id": "2f5b01b7"
   },
   "outputs": [],
   "source": [
    "y_pred=pipe.predict(X_test)"
   ]
  },
  {
   "cell_type": "markdown",
   "id": "e7c45224",
   "metadata": {
    "id": "e7c45224"
   },
   "source": [
    "### Checking R2 Score"
   ]
  },
  {
   "cell_type": "code",
   "execution_count": 89,
   "id": "399c2409",
   "metadata": {
    "colab": {
     "base_uri": "https://localhost:8080/"
    },
    "id": "399c2409",
    "outputId": "e0048958-1474-419c-c927-28758cee9a87"
   },
   "outputs": [
    {
     "data": {
      "text/plain": [
       "0.8806842874967092"
      ]
     },
     "execution_count": 89,
     "metadata": {},
     "output_type": "execute_result"
    }
   ],
   "source": [
    "r2_score(y_test,y_pred)"
   ]
  },
  {
   "cell_type": "markdown",
   "id": "810a1d26",
   "metadata": {
    "id": "810a1d26"
   },
   "source": [
    "r2_score = 0.8801432786203706"
   ]
  },
  {
   "cell_type": "markdown",
   "id": "6mF1ROQPkvOY",
   "metadata": {
    "id": "6mF1ROQPkvOY"
   },
   "source": [
    "### 2. GBT"
   ]
  },
  {
   "cell_type": "code",
   "execution_count": 90,
   "id": "9NlRyTiSk0em",
   "metadata": {
    "id": "9NlRyTiSk0em"
   },
   "outputs": [],
   "source": [
    "from sklearn.ensemble import GradientBoostingRegressor\n",
    "from sklearn.metrics import mean_squared_error as MSE"
   ]
  },
  {
   "cell_type": "code",
   "execution_count": 91,
   "id": "dOdx1RRGlDTb",
   "metadata": {
    "id": "dOdx1RRGlDTb"
   },
   "outputs": [],
   "source": [
    "gbr = GradientBoostingRegressor(n_estimators=200, random_state = 0)"
   ]
  },
  {
   "cell_type": "code",
   "execution_count": 92,
   "id": "_LiSQ4oLlF_N",
   "metadata": {
    "id": "_LiSQ4oLlF_N"
   },
   "outputs": [],
   "source": [
    "pipe_gbr = make_pipeline(column_trans,gbr)"
   ]
  },
  {
   "cell_type": "code",
   "execution_count": 93,
   "id": "oxHBJweulIzB",
   "metadata": {
    "colab": {
     "base_uri": "https://localhost:8080/"
    },
    "id": "oxHBJweulIzB",
    "outputId": "39d8c3a0-9b5e-4e56-a101-6553283e1e38"
   },
   "outputs": [
    {
     "data": {
      "text/plain": [
       "Pipeline(steps=[('columntransformer',\n",
       "                 ColumnTransformer(remainder='passthrough',\n",
       "                                   transformers=[('onehotencoder',\n",
       "                                                  OneHotEncoder(categories=[array(['ABBEVILLE', 'ABERDEEN', 'ABILENE', ..., 'ZELIENOPLE',\n",
       "       'ZEPHYRHILLS', 'ZIONSVILLE'], dtype=object),\n",
       "                                                                            array(['AK', 'AL', 'AR', 'AZ', 'CA', 'CO', 'CT', 'DC', 'DE', 'FL', 'GA',\n",
       "       'HI', 'IA', 'ID', 'IL', 'IN', 'KS', 'KY', 'LA', 'MA', 'MD', 'ME...\n",
       "                                                                            array(['1', '124', '1500', ..., 'ZDXBASE', 'ZEPHYR4DR', 'ZX22DR'],\n",
       "      dtype=object),\n",
       "                                                                            array(['Low', 'Moderate'], dtype=object),\n",
       "                                                                            array(['High', 'Low', 'Moderate'], dtype=object),\n",
       "                                                                            array(['High', 'Low', 'Moderate'], dtype=object)]),\n",
       "                                                  ['City', 'State', 'Make',\n",
       "                                                   'Model', 'Car Usage',\n",
       "                                                   'City Importance',\n",
       "                                                   'State Importance'])])),\n",
       "                ('gradientboostingregressor',\n",
       "                 GradientBoostingRegressor(n_estimators=200, random_state=0))])"
      ]
     },
     "execution_count": 93,
     "metadata": {},
     "output_type": "execute_result"
    }
   ],
   "source": [
    "# Fit to training set\n",
    "pipe_gbr.fit(X_train,y_train)"
   ]
  },
  {
   "cell_type": "code",
   "execution_count": 94,
   "id": "mAXs5ER1lLwB",
   "metadata": {
    "id": "mAXs5ER1lLwB"
   },
   "outputs": [],
   "source": [
    "# Predict on test set\n",
    "y_pred_gbr = pipe_gbr.predict(X_test)"
   ]
  },
  {
   "cell_type": "code",
   "execution_count": 95,
   "id": "j-l9GmP9nHi4",
   "metadata": {
    "colab": {
     "base_uri": "https://localhost:8080/"
    },
    "id": "j-l9GmP9nHi4",
    "outputId": "fb5f48f1-4454-4882-ab8d-04d6118e411b"
   },
   "outputs": [
    {
     "name": "stdout",
     "output_type": "stream",
     "text": [
      "0.6339832910448784\n"
     ]
    }
   ],
   "source": [
    "# model evaluation\n",
    "score_gbr = r2_score(y_test, y_pred_gbr)\n",
    "print(score_gbr)\n"
   ]
  },
  {
   "cell_type": "markdown",
   "id": "3yTjCC91vOcf",
   "metadata": {
    "id": "3yTjCC91vOcf"
   },
   "source": [
    "### r2 Score = 0.6339832910448784"
   ]
  },
  {
   "cell_type": "markdown",
   "id": "DkizpLnb2gww",
   "metadata": {
    "id": "DkizpLnb2gww"
   },
   "source": [
    "For Better r2 score we tuned the parameters as n_estimators=500, learning_rate = 0.05, max_depth = 5, random_state = 0\n",
    "As the model took a lot time to train, once trained we dumped the model into a pickle file.\n",
    "Here's the result.\n"
   ]
  },
  {
   "cell_type": "code",
   "execution_count": 96,
   "id": "LBgtQdOAnLRk",
   "metadata": {
    "id": "LBgtQdOAnLRk"
   },
   "outputs": [],
   "source": [
    "import pickle\n",
    "DATA_PATH = \"/content/drive/MyDrive/Colab Notebooks/gbr_model.pkl\"\n",
    "infile = open(DATA_PATH,'rb')\n",
    "gbt_model = pickle.load(infile)"
   ]
  },
  {
   "cell_type": "code",
   "execution_count": 98,
   "id": "lKO9QWIRwd7q",
   "metadata": {
    "id": "lKO9QWIRwd7q"
   },
   "outputs": [],
   "source": [
    "y_pred_gbt = gbt_model.predict(X_test)"
   ]
  },
  {
   "cell_type": "code",
   "execution_count": 99,
   "id": "RyG-wCRY1HnU",
   "metadata": {
    "colab": {
     "base_uri": "https://localhost:8080/"
    },
    "id": "RyG-wCRY1HnU",
    "outputId": "5f3f444b-d2f0-47f5-b748-1cb5dd3d9430"
   },
   "outputs": [
    {
     "data": {
      "text/plain": [
       "0.7357398037689271"
      ]
     },
     "execution_count": 99,
     "metadata": {},
     "output_type": "execute_result"
    }
   ],
   "source": [
    "r2_score(y_test, y_pred_gbt)"
   ]
  }
 ],
 "metadata": {
  "colab": {
   "collapsed_sections": [
    "2f3cd160",
    "0207c633",
    "b2af4092",
    "0f66b94d",
    "ecabb128",
    "3d5fc1ab",
    "83830607",
    "de3cc91c",
    "68a8e4d3",
    "e4a77a7a",
    "ef3a7fc6",
    "11896ade",
    "05da5900",
    "e05b9efe",
    "69285e08",
    "5d30d703",
    "328ac362",
    "b7943871",
    "d04e8a16"
   ],
   "name": "True Car - Team A Model 1.ipynb",
   "provenance": []
  },
  "kernelspec": {
   "display_name": "Python 3",
   "language": "python",
   "name": "python3"
  },
  "language_info": {
   "codemirror_mode": {
    "name": "ipython",
    "version": 3
   },
   "file_extension": ".py",
   "mimetype": "text/x-python",
   "name": "python",
   "nbconvert_exporter": "python",
   "pygments_lexer": "ipython3",
   "version": "3.8.8"
  }
 },
 "nbformat": 4,
 "nbformat_minor": 5
}
